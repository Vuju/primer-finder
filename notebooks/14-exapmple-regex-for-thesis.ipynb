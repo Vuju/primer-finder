{
 "cells": [
  {
   "cell_type": "code",
   "id": "initial_id",
   "metadata": {
    "collapsed": true,
    "ExecuteTime": {
     "end_time": "2025-07-09T16:30:35.739507Z",
     "start_time": "2025-07-09T16:30:35.735219Z"
    }
   },
   "source": [
    "from primer_finder.matching.regex import regex_builder\n",
    "\n",
    "print(regex_builder(\"GGDACWGGWTGAACWGTWTAYCCHCC\"))"
   ],
   "outputs": [
    {
     "name": "stdout",
     "output_type": "stream",
     "text": [
      "GG[AGTWKRU]AC[ATU]GG[ATU][TU]GAAC[ATU]G[TU][ATU][TU]A[CTU]CC[ACTWMYU]CC\n"
     ]
    }
   ],
   "execution_count": 2
  }
 ],
 "metadata": {
  "kernelspec": {
   "display_name": "Python 3",
   "language": "python",
   "name": "python3"
  },
  "language_info": {
   "codemirror_mode": {
    "name": "ipython",
    "version": 2
   },
   "file_extension": ".py",
   "mimetype": "text/x-python",
   "name": "python",
   "nbconvert_exporter": "python",
   "pygments_lexer": "ipython2",
   "version": "2.7.6"
  }
 },
 "nbformat": 4,
 "nbformat_minor": 5
}
