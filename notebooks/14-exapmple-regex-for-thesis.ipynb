{
 "cells": [
  {
   "cell_type": "code",
   "id": "initial_id",
   "metadata": {
    "collapsed": true,
    "ExecuteTime": {
     "end_time": "2025-08-01T09:52:57.186585Z",
     "start_time": "2025-08-01T09:52:57.138878Z"
    }
   },
   "source": [
    "from primer_finder.matching.regex import regex_builder\n",
    "\n",
    "print(regex_builder(\"GGDACWGGWTGAACWGTWTAYCCHCC\"))"
   ],
   "outputs": [
    {
     "name": "stdout",
     "output_type": "stream",
     "text": [
      "GG[DAGTWKRU]AC[WATU]GG[WATU][TU]GAAC[WATU]G[TU][WATU][TU]A[YCTU]CC[HACTWMYU]CC\n"
     ]
    }
   ],
   "execution_count": 1
  }
 ],
 "metadata": {
  "kernelspec": {
   "display_name": "Python 3",
   "language": "python",
   "name": "python3"
  },
  "language_info": {
   "codemirror_mode": {
    "name": "ipython",
    "version": 2
   },
   "file_extension": ".py",
   "mimetype": "text/x-python",
   "name": "python",
   "nbconvert_exporter": "python",
   "pygments_lexer": "ipython2",
   "version": "2.7.6"
  }
 },
 "nbformat": 4,
 "nbformat_minor": 5
}
