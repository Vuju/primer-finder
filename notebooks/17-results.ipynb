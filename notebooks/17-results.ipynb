{
 "cells": [
  {
   "metadata": {
    "collapsed": true,
    "ExecuteTime": {
     "end_time": "2025-07-31T17:48:47.017149Z",
     "start_time": "2025-07-31T17:48:46.878558Z"
    }
   },
   "cell_type": "code",
   "source": [
    "import pandas as pd\n",
    "\n",
    "csv_path = \"../data/match_score_counts.csv\"\n",
    "df = pd.read_csv(csv_path)"
   ],
   "id": "initial_id",
   "outputs": [],
   "execution_count": 7
  },
  {
   "metadata": {
    "ExecuteTime": {
     "end_time": "2025-07-31T17:48:48.126627Z",
     "start_time": "2025-07-31T17:48:48.069112Z"
    }
   },
   "cell_type": "code",
   "source": "df",
   "id": "c1031137be82e861",
   "outputs": [
    {
     "data": {
      "text/plain": [
       "                        primer  score    count\n",
       "0      CCWGTWYTAGCHGGDGCWATYAC      0    91228\n",
       "1      CCWGTWYTAGCHGGDGCWATYAC      2      819\n",
       "2      CCWGTWYTAGCHGGDGCWATYAC      3        6\n",
       "3      CCWGTWYTAGCHGGDGCWATYAC      4     3363\n",
       "4      CCWGTWYTAGCHGGDGCWATYAC      5       71\n",
       "..                         ...    ...      ...\n",
       "84  GGDACWGGWTGAACWGTWTAYCCHCC     48    25997\n",
       "85  GGDACWGGWTGAACWGTWTAYCCHCC     49  4750182\n",
       "86  GGDACWGGWTGAACWGTWTAYCCHCC     50    85555\n",
       "87  GGDACWGGWTGAACWGTWTAYCCHCC     51       77\n",
       "88  GGDACWGGWTGAACWGTWTAYCCHCC     52  8676981\n",
       "\n",
       "[89 rows x 3 columns]"
      ],
      "text/html": [
       "<div>\n",
       "<style scoped>\n",
       "    .dataframe tbody tr th:only-of-type {\n",
       "        vertical-align: middle;\n",
       "    }\n",
       "\n",
       "    .dataframe tbody tr th {\n",
       "        vertical-align: top;\n",
       "    }\n",
       "\n",
       "    .dataframe thead th {\n",
       "        text-align: right;\n",
       "    }\n",
       "</style>\n",
       "<table border=\"1\" class=\"dataframe\">\n",
       "  <thead>\n",
       "    <tr style=\"text-align: right;\">\n",
       "      <th></th>\n",
       "      <th>primer</th>\n",
       "      <th>score</th>\n",
       "      <th>count</th>\n",
       "    </tr>\n",
       "  </thead>\n",
       "  <tbody>\n",
       "    <tr>\n",
       "      <th>0</th>\n",
       "      <td>CCWGTWYTAGCHGGDGCWATYAC</td>\n",
       "      <td>0</td>\n",
       "      <td>91228</td>\n",
       "    </tr>\n",
       "    <tr>\n",
       "      <th>1</th>\n",
       "      <td>CCWGTWYTAGCHGGDGCWATYAC</td>\n",
       "      <td>2</td>\n",
       "      <td>819</td>\n",
       "    </tr>\n",
       "    <tr>\n",
       "      <th>2</th>\n",
       "      <td>CCWGTWYTAGCHGGDGCWATYAC</td>\n",
       "      <td>3</td>\n",
       "      <td>6</td>\n",
       "    </tr>\n",
       "    <tr>\n",
       "      <th>3</th>\n",
       "      <td>CCWGTWYTAGCHGGDGCWATYAC</td>\n",
       "      <td>4</td>\n",
       "      <td>3363</td>\n",
       "    </tr>\n",
       "    <tr>\n",
       "      <th>4</th>\n",
       "      <td>CCWGTWYTAGCHGGDGCWATYAC</td>\n",
       "      <td>5</td>\n",
       "      <td>71</td>\n",
       "    </tr>\n",
       "    <tr>\n",
       "      <th>...</th>\n",
       "      <td>...</td>\n",
       "      <td>...</td>\n",
       "      <td>...</td>\n",
       "    </tr>\n",
       "    <tr>\n",
       "      <th>84</th>\n",
       "      <td>GGDACWGGWTGAACWGTWTAYCCHCC</td>\n",
       "      <td>48</td>\n",
       "      <td>25997</td>\n",
       "    </tr>\n",
       "    <tr>\n",
       "      <th>85</th>\n",
       "      <td>GGDACWGGWTGAACWGTWTAYCCHCC</td>\n",
       "      <td>49</td>\n",
       "      <td>4750182</td>\n",
       "    </tr>\n",
       "    <tr>\n",
       "      <th>86</th>\n",
       "      <td>GGDACWGGWTGAACWGTWTAYCCHCC</td>\n",
       "      <td>50</td>\n",
       "      <td>85555</td>\n",
       "    </tr>\n",
       "    <tr>\n",
       "      <th>87</th>\n",
       "      <td>GGDACWGGWTGAACWGTWTAYCCHCC</td>\n",
       "      <td>51</td>\n",
       "      <td>77</td>\n",
       "    </tr>\n",
       "    <tr>\n",
       "      <th>88</th>\n",
       "      <td>GGDACWGGWTGAACWGTWTAYCCHCC</td>\n",
       "      <td>52</td>\n",
       "      <td>8676981</td>\n",
       "    </tr>\n",
       "  </tbody>\n",
       "</table>\n",
       "<p>89 rows × 3 columns</p>\n",
       "</div>"
      ]
     },
     "execution_count": 8,
     "metadata": {},
     "output_type": "execute_result"
    }
   ],
   "execution_count": 8
  },
  {
   "metadata": {
    "ExecuteTime": {
     "end_time": "2025-07-31T18:13:19.568560Z",
     "start_time": "2025-07-31T18:13:16.935728Z"
    }
   },
   "cell_type": "code",
   "source": [
    "import matplotlib.pyplot as plt\n",
    "\n",
    "# Split the dataframe by primer sequence\n",
    "primer_a = df[df['primer'] == 'CCWGTWYTAGCHGGDGCWATYAC'].copy()  # 46 max\n",
    "primer_b = df[df['primer'] == 'GGDACWGGWTGAACWGTWTAYCCHCC'].copy()  # 52 max\n",
    "\n",
    "# Normalize the match scores\n",
    "primer_a['normalized_score'] = primer_a['score'] / 46\n",
    "primer_b['normalized_score'] = primer_b['score'] / 52\n",
    "\n",
    "# Create vectors for plotting (sorted by normalized score)\n",
    "primer_a_sorted = primer_a.sort_values('normalized_score')\n",
    "primer_b_sorted = primer_b.sort_values('normalized_score')\n",
    "\n",
    "# Extract vectors\n",
    "norm_scores_a = primer_a_sorted['normalized_score'].values\n",
    "counts_a = primer_a_sorted['count'].values\n",
    "\n",
    "norm_scores_b = primer_b_sorted['normalized_score'].values\n",
    "counts_b = primer_b_sorted['count'].values\n",
    "\n",
    "# Create the line plot\n",
    "plt.figure(figsize=(10, 6))\n",
    "plt.plot(norm_scores_b, counts_b, marker='s', linewidth=2, label='forward primer')\n",
    "plt.plot(norm_scores_a, counts_a, marker='o', linewidth=2, label='reverse primer')\n",
    "\n",
    "\n",
    "plt.xlabel('Normalized Match Score')\n",
    "plt.ylabel('Count')\n",
    "plt.legend()\n",
    "plt.grid(True, alpha=0.3)\n",
    "plt.ylim(0,1600000)\n",
    "plt.xlim(0.6, 0.9)  # Since scores are normalized to 0-1\n",
    "plt.tight_layout()\n",
    "plt.show()"
   ],
   "id": "dd744e070f050c38",
   "outputs": [
    {
     "ename": "AttributeError",
     "evalue": "module 'matplotlib' has no attribute 'artist'",
     "output_type": "error",
     "traceback": [
      "\u001B[31m---------------------------------------------------------------------------\u001B[39m",
      "\u001B[31mAttributeError\u001B[39m                            Traceback (most recent call last)",
      "\u001B[36mCell\u001B[39m\u001B[36m \u001B[39m\u001B[32mIn[15]\u001B[39m\u001B[32m, line 1\u001B[39m\n\u001B[32m----> \u001B[39m\u001B[32m1\u001B[39m \u001B[38;5;28;01mimport\u001B[39;00m\u001B[38;5;250m \u001B[39m\u001B[34;01mmatplotlib\u001B[39;00m\u001B[34;01m.\u001B[39;00m\u001B[34;01mpyplot\u001B[39;00m\u001B[38;5;250m \u001B[39m\u001B[38;5;28;01mas\u001B[39;00m\u001B[38;5;250m \u001B[39m\u001B[34;01mplt\u001B[39;00m\n\u001B[32m      3\u001B[39m \u001B[38;5;66;03m# Split the dataframe by primer sequence\u001B[39;00m\n\u001B[32m      4\u001B[39m primer_a = df[df[\u001B[33m'\u001B[39m\u001B[33mprimer_sequence\u001B[39m\u001B[33m'\u001B[39m] == \u001B[33m'\u001B[39m\u001B[33mCCWGTWYTAGCHGGDGCWATYAC\u001B[39m\u001B[33m'\u001B[39m].copy()  \u001B[38;5;66;03m# 46 max\u001B[39;00m\n",
      "\u001B[36mFile \u001B[39m\u001B[32m~/miniconda3/envs/MA/lib/python3.12/site-packages/matplotlib/pyplot.py:786\u001B[39m\n\u001B[32m    780\u001B[39m         draw_all()\n\u001B[32m    783\u001B[39m \u001B[38;5;66;03m# getp/get/setp are explicitly reexported so that they show up in pyplot docs.\u001B[39;00m\n\u001B[32m--> \u001B[39m\u001B[32m786\u001B[39m \u001B[38;5;129m@_copy_docstring_and_deprecators\u001B[39m(\u001B[43mmatplotlib\u001B[49m\u001B[43m.\u001B[49m\u001B[43martist\u001B[49m.getp)\n\u001B[32m    787\u001B[39m \u001B[38;5;28;01mdef\u001B[39;00m\u001B[38;5;250m \u001B[39m\u001B[34mgetp\u001B[39m(obj, *args, **kwargs):\n\u001B[32m    788\u001B[39m     \u001B[38;5;28;01mreturn\u001B[39;00m matplotlib.artist.getp(obj, *args, **kwargs)\n\u001B[32m    791\u001B[39m \u001B[38;5;129m@_copy_docstring_and_deprecators\u001B[39m(matplotlib.artist.get)\n\u001B[32m    792\u001B[39m \u001B[38;5;28;01mdef\u001B[39;00m\u001B[38;5;250m \u001B[39m\u001B[34mget\u001B[39m(obj, *args, **kwargs):\n",
      "\u001B[36mFile \u001B[39m\u001B[32m~/miniconda3/envs/MA/lib/python3.12/site-packages/matplotlib/_api/__init__.py:218\u001B[39m, in \u001B[36mcaching_module_getattr.<locals>.__getattr__\u001B[39m\u001B[34m(name)\u001B[39m\n\u001B[32m    216\u001B[39m \u001B[38;5;28;01mif\u001B[39;00m name \u001B[38;5;129;01min\u001B[39;00m props:\n\u001B[32m    217\u001B[39m     \u001B[38;5;28;01mreturn\u001B[39;00m props[name].\u001B[34m__get__\u001B[39m(instance)\n\u001B[32m--> \u001B[39m\u001B[32m218\u001B[39m \u001B[38;5;28;01mraise\u001B[39;00m \u001B[38;5;167;01mAttributeError\u001B[39;00m(\n\u001B[32m    219\u001B[39m     \u001B[33mf\u001B[39m\u001B[33m\"\u001B[39m\u001B[33mmodule \u001B[39m\u001B[38;5;132;01m{\u001B[39;00m\u001B[38;5;28mcls\u001B[39m.\u001B[34m__module__\u001B[39m\u001B[38;5;132;01m!r}\u001B[39;00m\u001B[33m has no attribute \u001B[39m\u001B[38;5;132;01m{\u001B[39;00mname\u001B[38;5;132;01m!r}\u001B[39;00m\u001B[33m\"\u001B[39m)\n",
      "\u001B[31mAttributeError\u001B[39m: module 'matplotlib' has no attribute 'artist'"
     ]
    }
   ],
   "execution_count": 15
  }
 ],
 "metadata": {
  "kernelspec": {
   "display_name": "Python 3",
   "language": "python",
   "name": "python3"
  },
  "language_info": {
   "codemirror_mode": {
    "name": "ipython",
    "version": 2
   },
   "file_extension": ".py",
   "mimetype": "text/x-python",
   "name": "python",
   "nbconvert_exporter": "python",
   "pygments_lexer": "ipython2",
   "version": "2.7.6"
  }
 },
 "nbformat": 4,
 "nbformat_minor": 5
}
