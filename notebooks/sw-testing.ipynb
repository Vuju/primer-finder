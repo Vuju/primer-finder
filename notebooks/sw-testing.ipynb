{
 "cells": [
  {
   "cell_type": "code",
   "id": "initial_id",
   "metadata": {
    "collapsed": true,
    "ExecuteTime": {
     "end_time": "2025-05-07T09:45:02.915583Z",
     "start_time": "2025-05-07T09:45:02.814539Z"
    }
   },
   "source": [
    "p = \"ATTTA\"\n",
    "r = \"TACGTGACTGATT\"\n",
    "from primer_finder.matching.smith_waterman import SmithWaterman\n"
   ],
   "outputs": [],
   "execution_count": 1
  },
  {
   "metadata": {
    "ExecuteTime": {
     "end_time": "2025-05-07T09:47:37.741154Z",
     "start_time": "2025-05-07T09:47:37.736053Z"
    }
   },
   "cell_type": "code",
   "source": [
    "sw = SmithWaterman()\n",
    "sw.align(p, r, (False, False))\n"
   ],
   "id": "1b27b44d30ef4425",
   "outputs": [
    {
     "data": {
      "text/plain": [
       "MatchResultDTO(score=6, read='ATT', start_index=10, end_index=13, primer_sequence='ATTTA')"
      ]
     },
     "execution_count": 7,
     "metadata": {},
     "output_type": "execute_result"
    }
   ],
   "execution_count": 7
  }
 ],
 "metadata": {
  "kernelspec": {
   "display_name": "Python 3",
   "language": "python",
   "name": "python3"
  },
  "language_info": {
   "codemirror_mode": {
    "name": "ipython",
    "version": 2
   },
   "file_extension": ".py",
   "mimetype": "text/x-python",
   "name": "python",
   "nbconvert_exporter": "python",
   "pygments_lexer": "ipython2",
   "version": "2.7.6"
  }
 },
 "nbformat": 4,
 "nbformat_minor": 5
}
