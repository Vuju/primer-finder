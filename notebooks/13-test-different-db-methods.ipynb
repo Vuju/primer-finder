{
 "cells": [
  {
   "cell_type": "code",
   "id": "initial_id",
   "metadata": {
    "collapsed": true,
    "ExecuteTime": {
     "end_time": "2025-06-01T17:34:59.975635Z",
     "start_time": "2025-06-01T17:34:59.967085Z"
    }
   },
   "source": [
    "import sqlite3\n",
    "import random\n",
    "\n",
    "\n",
    "def find_comparison_group(current_entry, level, lower_reference_threshold, upper_reference_threshold, random_seed: int = None):\n",
    "    if random_seed is not None:\n",
    "        random.seed(random_seed)\n",
    "\n",
    "    conn = sqlite3.connect(\"/mnt/z/Uni/Master Thesis/eyeBOLD/eyeBOLD_mini3.db\")\n",
    "    conn.row_factory = sqlite3.Row\n",
    "\n",
    "    try:\n",
    "        cursor = conn.cursor()\n",
    "\n",
    "        # First, get the primer sequences from the input primer pair\n",
    "        primer_lookup_query = \"\"\"\n",
    "                                  SELECT fm.primer_sequence as forward_primer,\n",
    "                                         fm.*,\n",
    "                                         rm.primer_sequence as reverse_primer,\n",
    "                                         s.*\n",
    "                                  FROM primer_pairs pp\n",
    "                                           LEFT JOIN primer_matches fm ON pp.forward_match_id = fm.match_id\n",
    "                                           LEFT JOIN primer_matches rm ON pp.reverse_match_id = rm.match_id\n",
    "                                           LEFT JOIN specimen s ON pp.specimen_id = s.specimenid\n",
    "                                  WHERE pp.forward_match_id = ?\n",
    "                                    AND pp.reverse_match_id = ?\n",
    "                                  \"\"\"\n",
    "        f_id = int(current_entry[\"forward_match_id\"].iloc[0])\n",
    "        b_id = int(current_entry[\"reverse_match_id\"].iloc[0])\n",
    "\n",
    "        cursor.execute(primer_lookup_query, (f_id, b_id))\n",
    "\n",
    "        input_primer_info = cursor.fetchone()\n",
    "\n",
    "        if not input_primer_info:\n",
    "            print(\n",
    "                f\"No primer pair found with forward_match_id={f_id}, \"\n",
    "                f\"reverse_match_id={b_id}\\n\"\n",
    "                f\"{input_primer_info}\")\n",
    "            return None, False\n",
    "        forward_primer_seq = input_primer_info['forward_primer']\n",
    "        reverse_primer_seq = input_primer_info['reverse_primer']\n",
    "        input_taxonomic_group = input_primer_info[level]\n",
    "\n",
    "        print(\n",
    "f\"\"\"Forward primer: {forward_primer_seq}\n",
    "Reverse primer: {reverse_primer_seq}\n",
    "Group: {input_taxonomic_group}\n",
    "\"\"\")\n",
    "\n",
    "        if not input_taxonomic_group:\n",
    "            print(f\"Input specimen has no {level} information\")\n",
    "            return None, False\n",
    "\n",
    "        # Find all primer pairs with the same primer sequences in the same taxonomic group that are solved\n",
    "        discovery_query = f\"\"\"\n",
    "            SELECT pp.forward_match_id, pp.reverse_match_id, pp.specimen_id,\n",
    "                   pp.inter_primer_sequence, pp.orf_candidates, pp.orf_index,\n",
    "                   pp.orf_aa, pp.matching_flags\n",
    "            FROM primer_pairs pp\n",
    "            JOIN primer_matches fm ON pp.forward_match_id = fm.match_id\n",
    "            JOIN primer_matches rm ON pp.reverse_match_id = rm.match_id\n",
    "            JOIN specimen s ON pp.specimen_id = s.specimenid\n",
    "            WHERE fm.primer_sequence = ?\n",
    "              AND rm.primer_sequence = ?\n",
    "              AND s.{level} = ?\n",
    "              AND pp.orf_index IS NOT NULL\n",
    "            ORDER BY pp.specimen_id\n",
    "            \"\"\"\n",
    "\n",
    "        cursor.execute(discovery_query, (forward_primer_seq, reverse_primer_seq, input_taxonomic_group))\n",
    "        matching_entries = cursor.fetchall()\n",
    "\n",
    "        if len(matching_entries) > lower_reference_threshold:\n",
    "            # Randomly sample up to max_entries from this group\n",
    "            sample_size = min(upper_reference_threshold, len(matching_entries))\n",
    "            selected_entries = random.sample(matching_entries, sample_size)\n",
    "            print(f\"Found {len(matching_entries)} matching entries for {forward_primer_seq} and {reverse_primer_seq} in {input_taxonomic_group}\")\n",
    "            return selected_entries, True\n",
    "        else:\n",
    "            return None, False\n",
    "\n",
    "    except Exception as e:\n",
    "        print(f\"Error while finding comparison group: {e}\")\n",
    "        return None, False\n",
    "    finally:\n",
    "        conn.close()\n",
    "db_path = \"/mnt/z/Uni/Master Thesis/eyeBOLD/eyeBOLD_mini3.db\"\n"
   ],
   "outputs": [],
   "execution_count": 1
  },
  {
   "metadata": {
    "ExecuteTime": {
     "end_time": "2025-06-01T17:35:02.918689Z",
     "start_time": "2025-06-01T17:35:00.116172Z"
    }
   },
   "cell_type": "code",
   "source": [
    "import pandas as pd\n",
    "\n",
    "def get_next_unsolved_sequence():\n",
    "    db = sqlite3.connect(\"/mnt/z/Uni/Master Thesis/eyeBOLD/eyeBOLD_mini3.db\")\n",
    "    query = \"\"\"\n",
    "            SELECT forward_match_id,\n",
    "                   reverse_match_id,\n",
    "                   specimen_id,\n",
    "                   inter_primer_sequence,\n",
    "                   orf_candidates,\n",
    "                   orf_index,\n",
    "                   orf_aa,\n",
    "                   matching_flags\n",
    "            FROM primer_pairs\n",
    "            WHERE orf_index IS NULL\n",
    "            LIMIT 1\n",
    "            \"\"\"\n",
    "    df = pd.read_sql_query(query, db)\n",
    "    db.close()\n",
    "    return df\n"
   ],
   "id": "c12a5ebde7f39497",
   "outputs": [],
   "execution_count": 2
  },
  {
   "metadata": {
    "ExecuteTime": {
     "end_time": "2025-05-28T14:12:02.344219Z",
     "start_time": "2025-05-28T14:12:01.782415Z"
    }
   },
   "cell_type": "code",
   "source": [
    "current_entry = get_next_unsolved_sequence()\n",
    "current_entry"
   ],
   "id": "c7c75e8cb224aa01",
   "outputs": [
    {
     "data": {
      "text/plain": [
       "   forward_match_id  reverse_match_id  specimen_id  \\\n",
       "0            100001            100002        75884   \n",
       "\n",
       "                               inter_primer_sequence  orf_candidates  \\\n",
       "0  ATTATCTTCTAATATTTTTCATAATGGCCCTTCTATTGATTTATCC...               2   \n",
       "\n",
       "  orf_index orf_aa  matching_flags  \n",
       "0      None   None               0  "
      ],
      "text/html": [
       "<div>\n",
       "<style scoped>\n",
       "    .dataframe tbody tr th:only-of-type {\n",
       "        vertical-align: middle;\n",
       "    }\n",
       "\n",
       "    .dataframe tbody tr th {\n",
       "        vertical-align: top;\n",
       "    }\n",
       "\n",
       "    .dataframe thead th {\n",
       "        text-align: right;\n",
       "    }\n",
       "</style>\n",
       "<table border=\"1\" class=\"dataframe\">\n",
       "  <thead>\n",
       "    <tr style=\"text-align: right;\">\n",
       "      <th></th>\n",
       "      <th>forward_match_id</th>\n",
       "      <th>reverse_match_id</th>\n",
       "      <th>specimen_id</th>\n",
       "      <th>inter_primer_sequence</th>\n",
       "      <th>orf_candidates</th>\n",
       "      <th>orf_index</th>\n",
       "      <th>orf_aa</th>\n",
       "      <th>matching_flags</th>\n",
       "    </tr>\n",
       "  </thead>\n",
       "  <tbody>\n",
       "    <tr>\n",
       "      <th>0</th>\n",
       "      <td>100001</td>\n",
       "      <td>100002</td>\n",
       "      <td>75884</td>\n",
       "      <td>ATTATCTTCTAATATTTTTCATAATGGCCCTTCTATTGATTTATCC...</td>\n",
       "      <td>2</td>\n",
       "      <td>None</td>\n",
       "      <td>None</td>\n",
       "      <td>0</td>\n",
       "    </tr>\n",
       "  </tbody>\n",
       "</table>\n",
       "</div>"
      ]
     },
     "execution_count": 268,
     "metadata": {},
     "output_type": "execute_result"
    }
   ],
   "execution_count": 268
  },
  {
   "metadata": {
    "ExecuteTime": {
     "end_time": "2025-05-28T15:24:02.086427Z",
     "start_time": "2025-05-28T15:23:47.279332Z"
    }
   },
   "cell_type": "code",
   "source": "comparison_group, success = find_comparison_group(current_entry, \"taxon_species\", 5, 10)",
   "id": "c64881ed9f3b1609",
   "outputs": [
    {
     "name": "stdout",
     "output_type": "stream",
     "text": [
      "Forward primer: GGDACWGGWTGAACWGTWTAYCCHCC\n",
      "Reverse primer: CCWGTWYTAGCHGGDGCWATYAC\n",
      "Group: Pyramica ludovici\n",
      "\n",
      "Found 13 matching entries for GGDACWGGWTGAACWGTWTAYCCHCC and CCWGTWYTAGCHGGDGCWATYAC in Pyramica ludovici\n"
     ]
    }
   ],
   "execution_count": 279
  },
  {
   "metadata": {
    "ExecuteTime": {
     "end_time": "2025-06-01T19:54:32.826271Z",
     "start_time": "2025-06-01T19:54:31.230430Z"
    }
   },
   "cell_type": "code",
   "source": [
    "import sqlite3\n",
    "def create_indexes():\n",
    "    conn = sqlite3.connect(\"/mnt/z/Uni/Master Thesis/eyeBOLD/eyeBOLD_mini5.db\")\n",
    "    conn.execute(\"CREATE INDEX IF NOT EXISTS idx_species ON specimen(specimenid, taxon_species)\")\n",
    "    conn.execute(\"CREATE INDEX IF NOT EXISTS idx_genus ON specimen(specimenid, taxon_genus)\")\n",
    "    conn.execute(\"CREATE INDEX IF NOT EXISTS idx_family ON specimen(specimenid, taxon_family)\")\n",
    "    conn.execute(\"CREATE INDEX IF NOT EXISTS idx_order ON specimen(specimenid, taxon_order)\")\n",
    "    conn.execute(\"CREATE INDEX IF NOT EXISTS idx_class ON specimen(specimenid, taxon_class)\")\n",
    "    conn.execute(\"CREATE INDEX IF NOT EXISTS idx_sequence ON primer_matches(primer_sequence)\")\n",
    "    conn.execute(\"CREATE INDEX IF NOT EXISTS idx_primer_pairs_specimen ON primer_pairs(specimen_id)\")\n",
    "    conn.execute(\"CREATE INDEX IF NOT EXISTS idx_primer_matches_sequence_id ON primer_matches(primer_sequence, match_id);\")\n",
    "    conn.execute(\"CREATE INDEX IF NOT EXISTS idx_primer_pairs_sequences_orf2 ON primer_pairs(forward_match_id, reverse_match_id, orf_index);\")\n",
    "    conn.execute(\"CREATE INDEX IF NOT EXISTS idx_primer_pairs_specimen_orf ON primer_pairs(specimen_id, forward_match_id, reverse_match_id, orf_index);\")\n",
    "    conn.close()\n",
    "create_indexes()"
   ],
   "id": "2c0d1c8dbed5f34e",
   "outputs": [],
   "execution_count": 11
  },
  {
   "metadata": {
    "ExecuteTime": {
     "end_time": "2025-06-01T19:47:14.619031Z",
     "start_time": "2025-06-01T19:47:14.593576Z"
    }
   },
   "cell_type": "code",
   "source": "conn = sqlite3.connect(\"/mnt/z/Uni/Master Thesis/eyeBOLD/eyeBOLD_mini5.db\")\n",
   "id": "5ace60557692ee85",
   "outputs": [],
   "execution_count": 4
  },
  {
   "metadata": {
    "ExecuteTime": {
     "end_time": "2025-06-01T18:15:14.370006Z",
     "start_time": "2025-06-01T18:15:14.263042Z"
    }
   },
   "cell_type": "code",
   "source": [
    "import primer_finder.connectors.db_connector as dbc\n",
    "con = dbc.DbConnector(\"/mnt/z/Uni/Master Thesis/eyeBOLD/eyeBOLD_mini3.db\")"
   ],
   "id": "1057987388a1bac3",
   "outputs": [
    {
     "ename": "OperationalError",
     "evalue": "unable to open database file",
     "output_type": "error",
     "traceback": [
      "\u001B[31m---------------------------------------------------------------------------\u001B[39m",
      "\u001B[31mOperationalError\u001B[39m                          Traceback (most recent call last)",
      "\u001B[36mCell\u001B[39m\u001B[36m \u001B[39m\u001B[32mIn[35]\u001B[39m\u001B[32m, line 2\u001B[39m\n\u001B[32m      1\u001B[39m \u001B[38;5;28;01mimport\u001B[39;00m\u001B[38;5;250m \u001B[39m\u001B[34;01mprimer_finder\u001B[39;00m\u001B[34;01m.\u001B[39;00m\u001B[34;01mconnectors\u001B[39;00m\u001B[34;01m.\u001B[39;00m\u001B[34;01mdb_connector\u001B[39;00m\u001B[38;5;250m \u001B[39m\u001B[38;5;28;01mas\u001B[39;00m\u001B[38;5;250m \u001B[39m\u001B[34;01mdbc\u001B[39;00m\n\u001B[32m----> \u001B[39m\u001B[32m2\u001B[39m con = \u001B[43mdbc\u001B[49m\u001B[43m.\u001B[49m\u001B[43mDbConnector\u001B[49m\u001B[43m(\u001B[49m\u001B[33;43m\"\u001B[39;49m\u001B[33;43m/mnt/z/Uni/Master Thesis/eyeBOLD/eyeBOLD_mini3.db\u001B[39;49m\u001B[33;43m\"\u001B[39;49m\u001B[43m)\u001B[49m\n",
      "\u001B[36mFile \u001B[39m\u001B[32m/mnt/z/Uni/Master Thesis/primer-finder/primer_finder/connectors/db_connector.py:33\u001B[39m, in \u001B[36mDbConnector.__init__\u001B[39m\u001B[34m(self, db_path, table_name)\u001B[39m\n\u001B[32m     31\u001B[39m \u001B[38;5;28mself\u001B[39m.number_of_sequences = \u001B[38;5;28;01mNone\u001B[39;00m\n\u001B[32m     32\u001B[39m \u001B[38;5;28mself\u001B[39m.db_path = db_path\n\u001B[32m---> \u001B[39m\u001B[32m33\u001B[39m \u001B[38;5;28;43mself\u001B[39;49m\u001B[43m.\u001B[49m\u001B[43m__init_db_connection\u001B[49m\u001B[43m(\u001B[49m\u001B[43m)\u001B[49m\n\u001B[32m     34\u001B[39m \u001B[38;5;28mself\u001B[39m.__ensure_input_table_exists()\n\u001B[32m     35\u001B[39m \u001B[38;5;28mself\u001B[39m.__ensure_primer_matches_table_exists()\n",
      "\u001B[36mFile \u001B[39m\u001B[32m/mnt/z/Uni/Master Thesis/primer-finder/primer_finder/connectors/db_connector.py:248\u001B[39m, in \u001B[36mDbConnector.__init_db_connection\u001B[39m\u001B[34m(self)\u001B[39m\n\u001B[32m    246\u001B[39m     \u001B[38;5;28;01mraise\u001B[39;00m \u001B[38;5;167;01mFileNotFoundError\u001B[39;00m(\u001B[33mf\u001B[39m\u001B[33m\"\u001B[39m\u001B[33mFile \u001B[39m\u001B[38;5;132;01m{\u001B[39;00m\u001B[38;5;28mself\u001B[39m.db_path\u001B[38;5;132;01m}\u001B[39;00m\u001B[33m does not exist\u001B[39m\u001B[33m\"\u001B[39m)\n\u001B[32m    247\u001B[39m db = sqlite3.connect(\u001B[38;5;28mself\u001B[39m.db_path)\n\u001B[32m--> \u001B[39m\u001B[32m248\u001B[39m \u001B[38;5;28;01mif\u001B[39;00m \u001B[43mdb\u001B[49m\u001B[43m.\u001B[49m\u001B[43mexecute\u001B[49m\u001B[43m(\u001B[49m\u001B[33;43m\"\u001B[39;49m\u001B[33;43mSELECT name FROM sqlite_master WHERE name=?\u001B[39;49m\u001B[33;43m\"\u001B[39;49m\u001B[43m,\u001B[49m\u001B[43m \u001B[49m\u001B[43m(\u001B[49m\u001B[38;5;28;43mself\u001B[39;49m\u001B[43m.\u001B[49m\u001B[43minput_table_name\u001B[49m\u001B[43m,\u001B[49m\u001B[43m)\u001B[49m\u001B[43m)\u001B[49m.fetchone() \u001B[38;5;129;01mis\u001B[39;00m \u001B[38;5;28;01mNone\u001B[39;00m:\n\u001B[32m    249\u001B[39m     \u001B[38;5;28;01mraise\u001B[39;00m \u001B[38;5;167;01mKeyError\u001B[39;00m(\u001B[33mf\u001B[39m\u001B[33m\"\u001B[39m\u001B[33mNo \u001B[39m\u001B[38;5;132;01m{\u001B[39;00m\u001B[38;5;28mself\u001B[39m.input_table_name\u001B[38;5;132;01m}\u001B[39;00m\u001B[33m table in \u001B[39m\u001B[38;5;132;01m{\u001B[39;00m\u001B[38;5;28mself\u001B[39m.db_path\u001B[38;5;132;01m}\u001B[39;00m\u001B[33m\"\u001B[39m)\n\u001B[32m    250\u001B[39m db.close()\n",
      "\u001B[31mOperationalError\u001B[39m: unable to open database file"
     ]
    }
   ],
   "execution_count": 35
  },
  {
   "metadata": {
    "ExecuteTime": {
     "end_time": "2025-06-01T18:15:01.248131Z",
     "start_time": "2025-06-01T18:15:01.149354Z"
    }
   },
   "cell_type": "code",
   "source": [
    "next = con.get_next_unsolved_sequence()\n",
    "related, _ = con._fetch_related_sequences(next, \"taxon_species\", False)"
   ],
   "id": "12390d344cea7575",
   "outputs": [
    {
     "name": "stderr",
     "output_type": "stream",
     "text": [
      "Error fetching data: Execution failed on sql '\n",
      "                    SELECT forward_match_id,\n",
      "                           reverse_match_id,\n",
      "                           specimen_id,\n",
      "                           inter_primer_sequence,\n",
      "                           orf_candidates,\n",
      "                           orf_index,\n",
      "                           orf_aa,\n",
      "                           matching_flags\n",
      "                    FROM primer_pairs\n",
      "                    WHERE orf_index IS NULL\n",
      "                    LIMIT 1\n",
      "                    ': unable to open database file\n",
      "Error while finding related group for: 'forward_match_id'\n"
     ]
    }
   ],
   "execution_count": 34
  },
  {
   "metadata": {
    "ExecuteTime": {
     "end_time": "2025-05-31T09:36:48.947323Z",
     "start_time": "2025-05-31T09:36:48.943397Z"
    }
   },
   "cell_type": "code",
   "source": "non_zero = related[related[\"orf_index\"] >= 0]",
   "id": "99ce917170dd4d62",
   "outputs": [],
   "execution_count": 9
  },
  {
   "metadata": {
    "ExecuteTime": {
     "end_time": "2025-05-31T09:39:31.209797Z",
     "start_time": "2025-05-31T09:39:31.084488Z"
    }
   },
   "cell_type": "code",
   "source": "both = related[related[\"matching_flags\"] == 0 & related[\"orf_index\"] >= 0]",
   "id": "88a8f1404dc6f25",
   "outputs": [
    {
     "ename": "ValueError",
     "evalue": "The truth value of a Series is ambiguous. Use a.empty, a.bool(), a.item(), a.any() or a.all().",
     "output_type": "error",
     "traceback": [
      "\u001B[31m---------------------------------------------------------------------------\u001B[39m",
      "\u001B[31mValueError\u001B[39m                                Traceback (most recent call last)",
      "\u001B[32m/tmp/ipykernel_18923/3620856574.py\u001B[39m in \u001B[36m?\u001B[39m\u001B[34m()\u001B[39m\n\u001B[32m----> \u001B[39m\u001B[32m1\u001B[39m both = related[related[\u001B[33m\"matching_flags\"\u001B[39m] == \u001B[32m0\u001B[39m & related[\u001B[33m\"orf_index\"\u001B[39m] >= \u001B[32m0\u001B[39m]\n",
      "\u001B[32m~/miniconda3/envs/MA/lib/python3.12/site-packages/pandas/core/generic.py\u001B[39m in \u001B[36m?\u001B[39m\u001B[34m(self)\u001B[39m\n\u001B[32m   1575\u001B[39m     @final\n\u001B[32m   1576\u001B[39m     \u001B[38;5;28;01mdef\u001B[39;00m __nonzero__(self) -> NoReturn:\n\u001B[32m-> \u001B[39m\u001B[32m1577\u001B[39m         raise ValueError(\n\u001B[32m   1578\u001B[39m             f\"The truth value of a {type(self).__name__} is ambiguous. \"\n\u001B[32m   1579\u001B[39m             \u001B[33m\"Use a.empty, a.bool(), a.item(), a.any() or a.all().\"\u001B[39m\n\u001B[32m   1580\u001B[39m         )\n",
      "\u001B[31mValueError\u001B[39m: The truth value of a Series is ambiguous. Use a.empty, a.bool(), a.item(), a.any() or a.all()."
     ]
    }
   ],
   "execution_count": 14
  },
  {
   "metadata": {
    "ExecuteTime": {
     "end_time": "2025-05-31T09:55:01.526974Z",
     "start_time": "2025-05-31T09:55:01.521796Z"
    }
   },
   "cell_type": "code",
   "source": [
    "from orf.decider import _trim_to_triplet\n",
    "from Bio.Seq import Seq\n",
    "import numpy as np\n",
    "import pyhmmer\n",
    "import pandas as pd\n",
    "\n",
    "def _dna_to_aa(dna_sequence, offset):\n",
    "    sequence = Seq(dna_sequence)[int(offset):]\n",
    "    trimmed = _trim_to_triplet(sequence)\n",
    "    translated = trimmed.translate(table=5)\n",
    "    return str(translated)\n",
    "\n",
    "def _get_possible_amino_text_sequences_of(entry: pd.Series):\n",
    "    possible_orfs = [i for i in range(int(entry[\"orf_candidates\"].iloc[0]).bit_length()) if entry[\"orf_candidates\"] & (1 << i)]\n",
    "    print(possible_orfs)\n",
    "    seqs = np.zeros(shape=3, dtype=pyhmmer.easel.TextSequence)\n",
    "    seqs.fill(pyhmmer.easel.TextSequence(\"\".encode(), sequence=\"\"))\n",
    "    for i, possible_orf in enumerate(possible_orfs):\n",
    "        aa_sequence = _dna_to_aa(entry[\"inter_primer_sequence\"], possible_orf)\n",
    "        text_seq = pyhmmer.easel.TextSequence(name=(str(entry[\"specimen_id\"]).encode() + b\"_\" + str(possible_orf).encode()),\n",
    "                                             sequence=str(aa_sequence))\n",
    "        seqs[i] = text_seq\n",
    "    return seqs"
   ],
   "id": "417235666d570ffb",
   "outputs": [],
   "execution_count": 32
  },
  {
   "metadata": {
    "ExecuteTime": {
     "end_time": "2025-05-31T09:55:02.848983Z",
     "start_time": "2025-05-31T09:55:02.845079Z"
    }
   },
   "cell_type": "code",
   "source": "seqs = _get_possible_amino_text_sequences_of(next)",
   "id": "e5cfda359c7bf185",
   "outputs": [
    {
     "name": "stdout",
     "output_type": "stream",
     "text": [
      "[]\n"
     ]
    }
   ],
   "execution_count": 33
  },
  {
   "metadata": {
    "ExecuteTime": {
     "end_time": "2025-05-31T10:53:55.499548Z",
     "start_time": "2025-05-31T10:53:55.483688Z"
    }
   },
   "cell_type": "code",
   "source": [
    "def _decrypt_oc(possible_orf: int) -> list[int]:\n",
    "    return [i for i in range(possible_orf.bit_length()) if possible_orf & (1 << i)]\n",
    "\n",
    "_decrypt_oc(int(next[\"orf_candidates\"].iloc[0]))\n",
    "#next[\"orf_candidates\"]"
   ],
   "id": "f980009e389753c1",
   "outputs": [
    {
     "data": {
      "text/plain": [
       "[]"
      ]
     },
     "execution_count": 57,
     "metadata": {},
     "output_type": "execute_result"
    }
   ],
   "execution_count": 57
  },
  {
   "metadata": {
    "ExecuteTime": {
     "end_time": "2025-06-01T17:35:21.343135Z",
     "start_time": "2025-06-01T17:35:21.331528Z"
    }
   },
   "cell_type": "code",
   "source": "next",
   "id": "720c1acfd6c11cc4",
   "outputs": [
    {
     "data": {
      "text/plain": [
       "   forward_match_id  reverse_match_id  specimen_id  \\\n",
       "0            300599            300600       302752   \n",
       "\n",
       "                               inter_primer_sequence  orf_candidates  \\\n",
       "0  TCTAGCTGGTAATCTAGCCCATGCTGGCGCCTCAGTAGATTTGGCT...               2   \n",
       "\n",
       "  orf_index orf_aa  matching_flags  \n",
       "0      None   None               0  "
      ],
      "text/html": [
       "<div>\n",
       "<style scoped>\n",
       "    .dataframe tbody tr th:only-of-type {\n",
       "        vertical-align: middle;\n",
       "    }\n",
       "\n",
       "    .dataframe tbody tr th {\n",
       "        vertical-align: top;\n",
       "    }\n",
       "\n",
       "    .dataframe thead th {\n",
       "        text-align: right;\n",
       "    }\n",
       "</style>\n",
       "<table border=\"1\" class=\"dataframe\">\n",
       "  <thead>\n",
       "    <tr style=\"text-align: right;\">\n",
       "      <th></th>\n",
       "      <th>forward_match_id</th>\n",
       "      <th>reverse_match_id</th>\n",
       "      <th>specimen_id</th>\n",
       "      <th>inter_primer_sequence</th>\n",
       "      <th>orf_candidates</th>\n",
       "      <th>orf_index</th>\n",
       "      <th>orf_aa</th>\n",
       "      <th>matching_flags</th>\n",
       "    </tr>\n",
       "  </thead>\n",
       "  <tbody>\n",
       "    <tr>\n",
       "      <th>0</th>\n",
       "      <td>300599</td>\n",
       "      <td>300600</td>\n",
       "      <td>302752</td>\n",
       "      <td>TCTAGCTGGTAATCTAGCCCATGCTGGCGCCTCAGTAGATTTGGCT...</td>\n",
       "      <td>2</td>\n",
       "      <td>None</td>\n",
       "      <td>None</td>\n",
       "      <td>0</td>\n",
       "    </tr>\n",
       "  </tbody>\n",
       "</table>\n",
       "</div>"
      ]
     },
     "execution_count": 6,
     "metadata": {},
     "output_type": "execute_result"
    }
   ],
   "execution_count": 6
  },
  {
   "metadata": {
    "ExecuteTime": {
     "end_time": "2025-06-01T07:00:43.249756Z",
     "start_time": "2025-06-01T07:00:43.229074Z"
    }
   },
   "cell_type": "code",
   "source": "related.loc[1] = related.loc[0]",
   "id": "b61fc2ccc7dd4c32",
   "outputs": [],
   "execution_count": 78
  },
  {
   "metadata": {
    "ExecuteTime": {
     "end_time": "2025-06-01T19:52:19.400248Z",
     "start_time": "2025-06-01T19:52:19.396411Z"
    }
   },
   "cell_type": "code",
   "source": [
    "primer_lookup_query = \"\"\"\n",
    "              SELECT fm.primer_sequence as forward_primer,\n",
    "                     rm.primer_sequence as reverse_primer,\n",
    "                     s.specimenid       as input_specimen_id,\n",
    "                     s.*\n",
    "              FROM primer_pairs pp\n",
    "                       LEFT JOIN primer_matches fm ON pp.forward_match_id = fm.match_id\n",
    "                       LEFT JOIN primer_matches rm ON pp.reverse_match_id = rm.match_id\n",
    "                       LEFT JOIN specimen s ON pp.specimen_id = s.specimenid\n",
    "              WHERE pp.forward_match_id = ?\n",
    "                AND pp.reverse_match_id = ?\n",
    "              \"\"\"\n",
    "discovery_query = f\"\"\"\n",
    "                SELECT pp.forward_match_id, pp.reverse_match_id, pp.specimen_id,\n",
    "                       pp.inter_primer_sequence, pp.orf_candidates, pp.orf_index,\n",
    "                       pp.orf_aa, pp.matching_flags\n",
    "                FROM (\n",
    "                    SELECT pp.*\n",
    "                    FROM primer_pairs pp\n",
    "                    JOIN primer_matches fm ON pp.forward_match_id = fm.match_id\n",
    "                    JOIN primer_matches rm ON pp.reverse_match_id = rm.match_id\n",
    "                    WHERE fm.primer_sequence = ?\n",
    "                      AND rm.primer_sequence = ?\n",
    "                ) pp\n",
    "                JOIN specimen s ON pp.specimen_id = s.specimenid\n",
    "                WHERE s.taxon_genus = ?  -- or whatever level\n",
    "                  AND pp.orf_index IS NOT NULL;\n",
    "                \"\"\""
   ],
   "id": "5afb4b5bf2d2c187",
   "outputs": [],
   "execution_count": 6
  },
  {
   "metadata": {
    "ExecuteTime": {
     "end_time": "2025-06-01T17:35:32.423424Z",
     "start_time": "2025-06-01T17:35:32.363272Z"
    }
   },
   "cell_type": "code",
   "source": [
    "conn = sqlite3.connect(\"/mnt/z/Uni/Master Thesis/eyeBOLD/eyeBOLD_mini3.db\")\n",
    "c = conn.execute(f\"EXPLAIN QUERY PLAN {primer_lookup_query}\", (int(next[\"forward_match_id\"].iloc[0]), int(next[\"reverse_match_id\"].iloc[0])))\n",
    "print(c.fetchall())"
   ],
   "id": "1f717595e73192f9",
   "outputs": [
    {
     "name": "stdout",
     "output_type": "stream",
     "text": [
      "[(6, 0, 46, 'SEARCH pp USING INDEX sqlite_autoindex_primer_pairs_1 (forward_match_id=? AND reverse_match_id=?)'), (15, 0, 45, 'SEARCH fm USING INTEGER PRIMARY KEY (rowid=?) LEFT-JOIN'), (20, 0, 45, 'SEARCH rm USING INTEGER PRIMARY KEY (rowid=?) LEFT-JOIN'), (25, 0, 44, 'SEARCH s USING INTEGER PRIMARY KEY (rowid=?) LEFT-JOIN')]\n"
     ]
    }
   ],
   "execution_count": 8
  },
  {
   "metadata": {
    "ExecuteTime": {
     "end_time": "2025-06-01T17:35:35.948098Z",
     "start_time": "2025-06-01T17:35:35.940036Z"
    }
   },
   "cell_type": "code",
   "source": [
    "c = conn.execute(primer_lookup_query, (int(next[\"forward_match_id\"].iloc[0]), int(next[\"reverse_match_id\"].iloc[0])))\n",
    "reply = c.fetchone()"
   ],
   "id": "417e8614f3740c14",
   "outputs": [],
   "execution_count": 9
  },
  {
   "metadata": {
    "ExecuteTime": {
     "end_time": "2025-06-01T17:35:43.006409Z",
     "start_time": "2025-06-01T17:35:43.001395Z"
    }
   },
   "cell_type": "code",
   "source": "reply",
   "id": "98f3c7e38af76f",
   "outputs": [
    {
     "data": {
      "text/plain": [
       "('GGDACWGGWTGAACWGTWTAYCCHCC',\n",
       " 'CCWGTWYTAGCHGGDGCWATYAC',\n",
       " 302752,\n",
       " 302752,\n",
       " 'ACATTATACCTGCTATTCGGTGCTTGAGCGGGAATGGTAGGAACCGCACTTAGTCTGCTAATTCGCGCTGAACTGGGTCAACCAGGAGCTTTATTAGGTGATGACCAGATCTATAATGTTATCGTTACTGCCCATGCATTTGTAATAATTTTCTTTATAGTTATACCAATTATAATTGGTGGGTTCGGAAACTGATTAGTACCTCTAATAATTGGTGCTCCAGATATAGCATTTCCACGAATAAATAATATAAGTTTCTGATTATTACCTCCCTCATTCTTACTCCTTCTCGCCTCTTCTATGGTAGAAGCTGGGGCTGGTACTGGATGGACAGTATACCCACCTCTAGCTGGTAATCTAGCCCATGCTGGCGCCTCAGTAGATTTGGCTATTTTTTCCCTACACTTAGCGGGTGTCTCCTCTATTTTGGGAGCTATTAATTTTATTACTACTATTATTAATATAAAACCCCCCGCTCTATCTCAATATCAAACCCCCTTATTTGTCTGATCTGTTTTAATTACTGCTGTTCTTCTTCTCCTATCTCTCCCTGTTCTAGCTGCTGGGATTACCATGCTTTTAACAGACCGTAATTTAAATACTACTTTTTTTGACCCTGCTGGAGGGGGCGACCCTATTTTATACCAACATTTATTC',\n",
       " 'ACATTATACCTGCTATTCGGTGCTTGAGCGGGAATGGTAGGAACCGCACTTAGTCTGCTAATTCGCGCTGAACTGGGTCAACCAGGAGCTTTATTAGGTGATGACCAGATCTATAATGTTATCGTTACTGCCCATGCATTTGTAATAATTTTCTTTATAGTTATACCAATTATAATTGGTGGGTTCGGAAACTGATTAGTACCTCTAATAATTGGTGCTCCAGATATAGCATTTCCACGAATAAATAATATAAGTTTCTGATTATTACCTCCCTCATTCTTACTCCTTCTCGCCTCTTCTATGGTAGAAGCTGGGGCTGGTACTGGATGGACAGTATACCCACCTCTAGCTGGTAATCTAGCCCATGCTGGCGCCTCAGTAGATTTGGCTATTTTTTCCCTACACTTAGCGGGTGTCTCCTCTATTTTGGGAGCTATTAATTTTATTACTACTATTATTAATATAAAACCCCCCGCTCTATCTCAATATCAAACCCCCTTATTTGTCTGATCTGTTTTAATTACTGCTGTTCTTCTTCTCCTATCTCTCCCTGTTCTAGCTGCTGGGATTACCATGCTTTTAACAGACCGTAATTTAAATACTACTTTTTTTGACCCTGCTGGAGGGGGCGACCCTATTTTATACCAACATTTATTC',\n",
       " None,\n",
       " '292de04e9f523d811fba6b0fb3dea0dd0dc4564498fd65cdafeb61863b6097c8',\n",
       " '2025-04-12',\n",
       " 0,\n",
       " \"{'usageKey': 2433102, 'scientificName': 'Cormura brevirostris (Wagner, 1843)', 'canonicalName': 'Cormura brevirostris', 'rank': 'SPECIES', 'status': 'ACCEPTED', 'confidence': 100, 'note': 'Similarity: name=110; authorship=0; classification=50; rank=6; status=1; score=167; singleMatch=5', 'matchType': 'EXACT', 'kingdom': 'Animalia', 'phylum': 'Chordata', 'order': 'Chiroptera', 'family': 'Emballonuridae', 'genus': 'Cormura', 'species': 'Cormura brevirostris', 'kingdomKey': 1, 'phylumKey': 44, 'classKey': 359, 'orderKey': 734, 'familyKey': 9615, 'genusKey': 2433101, 'speciesKey': 2433102, 'synonym': False, 'class': 'Mammalia'}\",\n",
       " 1,\n",
       " 2433102,\n",
       " None,\n",
       " 'Animalia',\n",
       " 'Chordata',\n",
       " 'Mammalia',\n",
       " 'Chiroptera',\n",
       " 'Emballonuridae',\n",
       " 'Emballonurinae',\n",
       " None,\n",
       " 'Cormura',\n",
       " 'Cormura brevirostris',\n",
       " None,\n",
       " 'species',\n",
       " 13283,\n",
       " 'GY',\n",
       " 'Ocean')"
      ]
     },
     "execution_count": 10,
     "metadata": {},
     "output_type": "execute_result"
    }
   ],
   "execution_count": 10
  },
  {
   "metadata": {
    "ExecuteTime": {
     "end_time": "2025-06-01T19:54:50.819290Z",
     "start_time": "2025-06-01T19:54:50.814480Z"
    }
   },
   "cell_type": "code",
   "source": [
    "c3 = conn.execute(f\"EXPLAIN QUERY PLAN {discovery_query}\", (\"GGDACWGGWTGAACWGTWTAYCCHCC\", \"CCWGTWYTAGCHGGDGCWATYAC\", \"Tayassu pecari\"))\n",
    "print(c3.fetchall())"
   ],
   "id": "d2da05fd69e3b6ec",
   "outputs": [
    {
     "name": "stdout",
     "output_type": "stream",
     "text": [
      "[(6, 0, 55, 'SEARCH fm USING COVERING INDEX idx_sequence2 (primer_sequence=?)'), (12, 0, 61, 'SEARCH pp USING INDEX sqlite_autoindex_primer_pairs_1 (forward_match_id=?)'), (19, 0, 45, 'SEARCH rm USING INTEGER PRIMARY KEY (rowid=?)'), (24, 0, 44, 'SEARCH s USING INTEGER PRIMARY KEY (rowid=?)')]\n"
     ]
    }
   ],
   "execution_count": 15
  },
  {
   "metadata": {
    "ExecuteTime": {
     "end_time": "2025-06-01T19:58:35.121410Z",
     "start_time": "2025-06-01T19:57:41.816859Z"
    }
   },
   "cell_type": "code",
   "source": [
    "conn.execute(f\"\"\"\n",
    "    CREATE TABLE primer_taxonomic_groups AS\n",
    "    SELECT pp.*, s.taxon_genus, s.taxon_species, s.taxon_family, s.taxon_order, s.taxon_class,\n",
    "           fm.primer_sequence as forward_seq, rm.primer_sequence as reverse_seq\n",
    "    FROM primer_pairs pp\n",
    "    JOIN primer_matches fm ON pp.forward_match_id = fm.match_id\n",
    "    JOIN primer_matches rm ON pp.reverse_match_id = rm.match_id\n",
    "    JOIN specimen s ON pp.specimen_id = s.specimenid;\n",
    "\"\"\")"
   ],
   "id": "6404f4ce75f430bf",
   "outputs": [
    {
     "data": {
      "text/plain": [
       "<sqlite3.Cursor at 0x7f7c1bef2240>"
      ]
     },
     "execution_count": 16,
     "metadata": {},
     "output_type": "execute_result"
    }
   ],
   "execution_count": 16
  },
  {
   "metadata": {
    "ExecuteTime": {
     "end_time": "2025-06-01T19:58:43.347261Z",
     "start_time": "2025-06-01T19:58:38.919207Z"
    }
   },
   "cell_type": "code",
   "source": "conn.execute(\"CREATE INDEX idx_ptg_primers_genus ON primer_taxonomic_groups(forward_seq, reverse_seq, taxon_genus, orf_index);\")",
   "id": "3e42ce31c018dc82",
   "outputs": [
    {
     "data": {
      "text/plain": [
       "<sqlite3.Cursor at 0x7f7c1bf498c0>"
      ]
     },
     "execution_count": 17,
     "metadata": {},
     "output_type": "execute_result"
    }
   ],
   "execution_count": 17
  },
  {
   "metadata": {
    "ExecuteTime": {
     "end_time": "2025-06-01T20:07:15.265979Z",
     "start_time": "2025-06-01T20:07:15.260481Z"
    }
   },
   "cell_type": "code",
   "source": [
    "level = \"taxon_genus\"\n",
    "conn.execute(f\"\"\"\n",
    "    SELECT *\n",
    "    FROM primer_taxonomic_groups\n",
    "    WHERE forward_seq = \"GGDACWGGWTGAACWGTWTAYCCHCC\"\n",
    "    AND reverse_seq = \"CCWGTWYTAGCHGGDGCWATYAC\"\n",
    "    AND {level} = \"Tayassu pecari\"\n",
    "    AND orf_index IS NOT NULL;\n",
    "\"\"\").fetchall()"
   ],
   "id": "2da39c24bfa3512c",
   "outputs": [
    {
     "data": {
      "text/plain": [
       "[]"
      ]
     },
     "execution_count": 19,
     "metadata": {},
     "output_type": "execute_result"
    }
   ],
   "execution_count": 19
  }
 ],
 "metadata": {
  "kernelspec": {
   "display_name": "Python 3",
   "language": "python",
   "name": "python3"
  },
  "language_info": {
   "codemirror_mode": {
    "name": "ipython",
    "version": 2
   },
   "file_extension": ".py",
   "mimetype": "text/x-python",
   "name": "python",
   "nbconvert_exporter": "python",
   "pygments_lexer": "ipython2",
   "version": "2.7.6"
  }
 },
 "nbformat": 4,
 "nbformat_minor": 5
}
