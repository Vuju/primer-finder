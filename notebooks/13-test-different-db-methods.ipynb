{
 "cells": [
  {
   "cell_type": "code",
   "id": "initial_id",
   "metadata": {
    "collapsed": true,
    "ExecuteTime": {
     "end_time": "2025-05-28T15:23:42.820582Z",
     "start_time": "2025-05-28T15:23:42.814174Z"
    }
   },
   "source": [
    "import sqlite3\n",
    "import random\n",
    "\n",
    "\n",
    "def find_comparison_group(current_entry, level, lower_reference_threshold, upper_reference_threshold, random_seed: int = None):\n",
    "    if random_seed is not None:\n",
    "        random.seed(random_seed)\n",
    "\n",
    "    conn = sqlite3.connect(\"/mnt/z/Uni/Master Thesis/eyeBOLD/eyeBOLD_mini3.db\")\n",
    "    conn.row_factory = sqlite3.Row\n",
    "\n",
    "    try:\n",
    "        cursor = conn.cursor()\n",
    "\n",
    "        # First, get the primer sequences from the input primer pair\n",
    "        primer_lookup_query = \"\"\"\n",
    "                                  SELECT fm.primer_sequence as forward_primer,\n",
    "                                         fm.*,\n",
    "                                         rm.primer_sequence as reverse_primer,\n",
    "                                         s.*\n",
    "                                  FROM primer_pairs pp\n",
    "                                           LEFT JOIN primer_matches fm ON pp.forward_match_id = fm.match_id\n",
    "                                           LEFT JOIN primer_matches rm ON pp.reverse_match_id = rm.match_id\n",
    "                                           LEFT JOIN specimen s ON pp.specimen_id = s.specimenid\n",
    "                                  WHERE pp.forward_match_id = ?\n",
    "                                    AND pp.reverse_match_id = ?\n",
    "                                  \"\"\"\n",
    "        f_id = int(current_entry[\"forward_match_id\"].iloc[0])\n",
    "        b_id = int(current_entry[\"reverse_match_id\"].iloc[0])\n",
    "\n",
    "        cursor.execute(primer_lookup_query, (f_id, b_id))\n",
    "\n",
    "        input_primer_info = cursor.fetchone()\n",
    "\n",
    "        if not input_primer_info:\n",
    "            print(\n",
    "                f\"No primer pair found with forward_match_id={f_id}, \"\n",
    "                f\"reverse_match_id={b_id}\\n\"\n",
    "                f\"{input_primer_info}\")\n",
    "            return None, False\n",
    "        forward_primer_seq = input_primer_info['forward_primer']\n",
    "        reverse_primer_seq = input_primer_info['reverse_primer']\n",
    "        input_taxonomic_group = input_primer_info[level]\n",
    "\n",
    "        print(\n",
    "f\"\"\"Forward primer: {forward_primer_seq}\n",
    "Reverse primer: {reverse_primer_seq}\n",
    "Group: {input_taxonomic_group}\n",
    "\"\"\")\n",
    "\n",
    "        if not input_taxonomic_group:\n",
    "            print(f\"Input specimen has no {level} information\")\n",
    "            return None, False\n",
    "\n",
    "        # Find all primer pairs with the same primer sequences in the same taxonomic group that are solved\n",
    "        discovery_query = f\"\"\"\n",
    "            SELECT pp.forward_match_id, pp.reverse_match_id, pp.specimen_id,\n",
    "                   pp.inter_primer_sequence, pp.orf_candidates, pp.orf_index,\n",
    "                   pp.orf_aa, pp.matching_flags\n",
    "            FROM primer_pairs pp\n",
    "            JOIN primer_matches fm ON pp.forward_match_id = fm.match_id\n",
    "            JOIN primer_matches rm ON pp.reverse_match_id = rm.match_id\n",
    "            JOIN specimen s ON pp.specimen_id = s.specimenid\n",
    "            WHERE fm.primer_sequence = ?\n",
    "              AND rm.primer_sequence = ?\n",
    "              AND s.{level} = ?\n",
    "              AND pp.orf_index IS NOT NULL\n",
    "            ORDER BY pp.specimen_id\n",
    "            \"\"\"\n",
    "\n",
    "        cursor.execute(discovery_query, (forward_primer_seq, reverse_primer_seq, input_taxonomic_group))\n",
    "        matching_entries = cursor.fetchall()\n",
    "\n",
    "        if len(matching_entries) > lower_reference_threshold:\n",
    "            # Randomly sample up to max_entries from this group\n",
    "            sample_size = min(upper_reference_threshold, len(matching_entries))\n",
    "            selected_entries = random.sample(matching_entries, sample_size)\n",
    "            print(f\"Found {len(matching_entries)} matching entries for {forward_primer_seq} and {reverse_primer_seq} in {input_taxonomic_group}\")\n",
    "            return selected_entries, True\n",
    "        else:\n",
    "            return None, False\n",
    "\n",
    "    except Exception as e:\n",
    "        print(f\"Error while finding comparison group: {e}\")\n",
    "        return None, False\n",
    "    finally:\n",
    "        conn.close()\n"
   ],
   "outputs": [],
   "execution_count": 278
  },
  {
   "metadata": {
    "ExecuteTime": {
     "end_time": "2025-05-28T14:11:59.369485Z",
     "start_time": "2025-05-28T14:11:59.365311Z"
    }
   },
   "cell_type": "code",
   "source": [
    "import pandas as pd\n",
    "\n",
    "def get_next_unsolved_sequence():\n",
    "    db = sqlite3.connect(\"/mnt/z/Uni/Master Thesis/eyeBOLD/eyeBOLD_mini3.db\")\n",
    "    query = \"\"\"\n",
    "            SELECT forward_match_id,\n",
    "                   reverse_match_id,\n",
    "                   specimen_id,\n",
    "                   inter_primer_sequence,\n",
    "                   orf_candidates,\n",
    "                   orf_index,\n",
    "                   orf_aa,\n",
    "                   matching_flags\n",
    "            FROM primer_pairs\n",
    "            WHERE orf_index IS NULL\n",
    "            LIMIT 1\n",
    "            \"\"\"\n",
    "    df = pd.read_sql_query(query, db)\n",
    "    db.close()\n",
    "    return df\n"
   ],
   "id": "c12a5ebde7f39497",
   "outputs": [],
   "execution_count": 267
  },
  {
   "metadata": {
    "ExecuteTime": {
     "end_time": "2025-05-28T14:12:02.344219Z",
     "start_time": "2025-05-28T14:12:01.782415Z"
    }
   },
   "cell_type": "code",
   "source": [
    "current_entry = get_next_unsolved_sequence()\n",
    "current_entry"
   ],
   "id": "c7c75e8cb224aa01",
   "outputs": [
    {
     "data": {
      "text/plain": [
       "   forward_match_id  reverse_match_id  specimen_id  \\\n",
       "0            100001            100002        75884   \n",
       "\n",
       "                               inter_primer_sequence  orf_candidates  \\\n",
       "0  ATTATCTTCTAATATTTTTCATAATGGCCCTTCTATTGATTTATCC...               2   \n",
       "\n",
       "  orf_index orf_aa  matching_flags  \n",
       "0      None   None               0  "
      ],
      "text/html": [
       "<div>\n",
       "<style scoped>\n",
       "    .dataframe tbody tr th:only-of-type {\n",
       "        vertical-align: middle;\n",
       "    }\n",
       "\n",
       "    .dataframe tbody tr th {\n",
       "        vertical-align: top;\n",
       "    }\n",
       "\n",
       "    .dataframe thead th {\n",
       "        text-align: right;\n",
       "    }\n",
       "</style>\n",
       "<table border=\"1\" class=\"dataframe\">\n",
       "  <thead>\n",
       "    <tr style=\"text-align: right;\">\n",
       "      <th></th>\n",
       "      <th>forward_match_id</th>\n",
       "      <th>reverse_match_id</th>\n",
       "      <th>specimen_id</th>\n",
       "      <th>inter_primer_sequence</th>\n",
       "      <th>orf_candidates</th>\n",
       "      <th>orf_index</th>\n",
       "      <th>orf_aa</th>\n",
       "      <th>matching_flags</th>\n",
       "    </tr>\n",
       "  </thead>\n",
       "  <tbody>\n",
       "    <tr>\n",
       "      <th>0</th>\n",
       "      <td>100001</td>\n",
       "      <td>100002</td>\n",
       "      <td>75884</td>\n",
       "      <td>ATTATCTTCTAATATTTTTCATAATGGCCCTTCTATTGATTTATCC...</td>\n",
       "      <td>2</td>\n",
       "      <td>None</td>\n",
       "      <td>None</td>\n",
       "      <td>0</td>\n",
       "    </tr>\n",
       "  </tbody>\n",
       "</table>\n",
       "</div>"
      ]
     },
     "execution_count": 268,
     "metadata": {},
     "output_type": "execute_result"
    }
   ],
   "execution_count": 268
  },
  {
   "metadata": {
    "ExecuteTime": {
     "end_time": "2025-05-28T15:24:02.086427Z",
     "start_time": "2025-05-28T15:23:47.279332Z"
    }
   },
   "cell_type": "code",
   "source": "comparison_group, success = find_comparison_group(current_entry, \"taxon_species\", 5, 10)",
   "id": "c64881ed9f3b1609",
   "outputs": [
    {
     "name": "stdout",
     "output_type": "stream",
     "text": [
      "Forward primer: GGDACWGGWTGAACWGTWTAYCCHCC\n",
      "Reverse primer: CCWGTWYTAGCHGGDGCWATYAC\n",
      "Group: Pyramica ludovici\n",
      "\n",
      "Found 13 matching entries for GGDACWGGWTGAACWGTWTAYCCHCC and CCWGTWYTAGCHGGDGCWATYAC in Pyramica ludovici\n"
     ]
    }
   ],
   "execution_count": 279
  },
  {
   "metadata": {
    "ExecuteTime": {
     "end_time": "2025-05-28T18:26:38.620666Z",
     "start_time": "2025-05-28T18:26:37.672090Z"
    }
   },
   "cell_type": "code",
   "source": [
    "def create_indexes():\n",
    "    conn = sqlite3.connect(\"/mnt/z/Uni/Master Thesis/eyeBOLD/eyeBOLD_mini3.db\")\n",
    "    conn.execute(\"CREATE INDEX IF NOT EXISTS idx_species ON specimen(taxon_species)\")\n",
    "    conn.execute(\"CREATE INDEX IF NOT EXISTS idx_genus ON specimen(taxon_genus)\")\n",
    "    conn.execute(\"CREATE INDEX IF NOT EXISTS idx_family ON specimen(taxon_family)\")\n",
    "    conn.execute(\"CREATE INDEX IF NOT EXISTS idx_order ON specimen(taxon_order)\")\n",
    "    conn.execute(\"CREATE INDEX IF NOT EXISTS idx_class ON specimen(taxon_class)\")\n",
    "    conn.execute(\"CREATE INDEX IF NOT EXISTS idx_sequence ON primer_matches(primer_sequence)\")\n",
    "create_indexes()"
   ],
   "id": "2c0d1c8dbed5f34e",
   "outputs": [],
   "execution_count": 284
  },
  {
   "metadata": {
    "ExecuteTime": {
     "end_time": "2025-05-28T15:03:45.986182Z",
     "start_time": "2025-05-28T15:03:45.899465Z"
    }
   },
   "cell_type": "code",
   "source": [
    "conn = sqlite3.connect(\"/mnt/z/Uni/Master Thesis/eyeBOLD/eyeBOLD_mini3.db\")\n",
    "print(conn.execute(\"SELECT * FROM primer_matches WHERE match_id = 204523\").fetchone())"
   ],
   "id": "5ace60557692ee85",
   "outputs": [
    {
     "name": "stdout",
     "output_type": "stream",
     "text": [
      "(204523, 239590, 'GGDACWGGWTGAACWGTWTAYCCHCC', 0, 9, 27.0)\n"
     ]
    }
   ],
   "execution_count": 274
  },
  {
   "metadata": {
    "ExecuteTime": {
     "end_time": "2025-05-28T15:33:22.800828Z",
     "start_time": "2025-05-28T15:33:22.794663Z"
    }
   },
   "cell_type": "code",
   "source": [
    "for row in comparison_group:\n",
    "    print(f\"{row[\"forward_match_id\"]}-{row['reverse_match_id']}\")\n",
    "len(comparison_group)"
   ],
   "id": "1057987388a1bac3",
   "outputs": [
    {
     "name": "stdout",
     "output_type": "stream",
     "text": [
      "99941-99942\n",
      "99931-99932\n",
      "99965-99966\n",
      "99999-100000\n",
      "99939-99940\n",
      "99935-99936\n",
      "99937-99938\n",
      "221453-221454\n",
      "99963-99964\n",
      "44025-44026\n"
     ]
    },
    {
     "data": {
      "text/plain": [
       "10"
      ]
     },
     "execution_count": 283,
     "metadata": {},
     "output_type": "execute_result"
    }
   ],
   "execution_count": 283
  },
  {
   "metadata": {},
   "cell_type": "code",
   "outputs": [],
   "execution_count": null,
   "source": "",
   "id": "8f483a8864f21a02"
  }
 ],
 "metadata": {
  "kernelspec": {
   "display_name": "Python 3",
   "language": "python",
   "name": "python3"
  },
  "language_info": {
   "codemirror_mode": {
    "name": "ipython",
    "version": 2
   },
   "file_extension": ".py",
   "mimetype": "text/x-python",
   "name": "python",
   "nbconvert_exporter": "python",
   "pygments_lexer": "ipython2",
   "version": "2.7.6"
  }
 },
 "nbformat": 4,
 "nbformat_minor": 5
}
