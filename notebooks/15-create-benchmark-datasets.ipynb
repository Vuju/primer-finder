{
 "cells": [
  {
   "cell_type": "code",
   "id": "initial_id",
   "metadata": {
    "collapsed": true,
    "ExecuteTime": {
     "end_time": "2025-07-24T15:23:49.065297Z",
     "start_time": "2025-07-24T15:19:39.607859Z"
    }
   },
   "source": [
    "import random\n",
    "import sqlite3\n",
    "import pandas as pd\n",
    "from tqdm import tqdm\n",
    "\n",
    "# parameters\n",
    "\n",
    "output_base = \"sampled_entries_2\"\n",
    "csv_path = output_base + \".csv\"\n",
    "fasta_path = output_base + \".fasta\"\n",
    "\n",
    "database_path = \"../../eyeBOLD/eyeBOLD_db.db\"\n",
    "table_name = \"specimen\"\n",
    "id_column = \"specimenid\"\n",
    "num_entries = 1000000\n",
    "table_size = 16185388\n",
    "\n",
    "batch_size = 10000\n",
    "\n",
    "entry_row_nums = list(set(random.sample(range(1, table_size + 1), k=num_entries)))\n",
    "#print(entry_row_nums)\n",
    "\n",
    "# connect to the database\n",
    "conn = sqlite3.connect(database_path)\n",
    "cursor = conn.cursor()\n",
    "\n",
    "all_results = []\n",
    "pbar = tqdm(total=len(entry_row_nums))\n",
    "for i in range(0, len(entry_row_nums), batch_size):\n",
    "    batch = list(entry_row_nums[i:i+batch_size])\n",
    "\n",
    "    # Create placeholders for this batch\n",
    "    placeholders = ','.join('?' * len(batch))\n",
    "    query = f\"SELECT specimen_id, nuc_san FROM {table_name} WHERE rowid IN ({placeholders})\"\n",
    "\n",
    "    # Execute query with this batch\n",
    "    cursor.execute(query, batch)\n",
    "    batch_results = cursor.fetchall()\n",
    "    all_results.extend(batch_results)\n",
    "    pbar.update(len(batch))\n",
    "\n",
    "df = pd.DataFrame(all_results, columns=[\"specimen_id\", \"nuc_san\"])\n",
    "pbar.close()\n",
    "conn.close()\n",
    "\n",
    "df.head()"
   ],
   "outputs": [
    {
     "name": "stderr",
     "output_type": "stream",
     "text": [
      "  0%|          | 0/1000000 [21:10<?, ?it/s]\n",
      "100%|██████████| 1000000/1000000 [04:08<00:00, 4021.10it/s]\n"
     ]
    },
    {
     "data": {
      "text/plain": [
       "   specimen_id                                            nuc_san\n",
       "0            2  GGAATTTGAGCAGGATTAGTTGGTACTTCTTTAAGATTACTTATTC...\n",
       "1           23  GAACATCTTTAAGATTATTAATTCGAGCTGAATTAGGAAACCCCGG...\n",
       "2           46  GAACATCTTTAAGTTTATTAATTCGAGCTGAATTAGGTAATCCTGG...\n",
       "3           81  GAACTTCATTAAGATTACTAATTCGAGCTGAATTAGGAAATCCTGG...\n",
       "4          120  GAACTTCATTAAGATTATTAATTCGTGCTGAATTAGGGAACCCTGG..."
      ],
      "text/html": [
       "<div>\n",
       "<style scoped>\n",
       "    .dataframe tbody tr th:only-of-type {\n",
       "        vertical-align: middle;\n",
       "    }\n",
       "\n",
       "    .dataframe tbody tr th {\n",
       "        vertical-align: top;\n",
       "    }\n",
       "\n",
       "    .dataframe thead th {\n",
       "        text-align: right;\n",
       "    }\n",
       "</style>\n",
       "<table border=\"1\" class=\"dataframe\">\n",
       "  <thead>\n",
       "    <tr style=\"text-align: right;\">\n",
       "      <th></th>\n",
       "      <th>specimen_id</th>\n",
       "      <th>nuc_san</th>\n",
       "    </tr>\n",
       "  </thead>\n",
       "  <tbody>\n",
       "    <tr>\n",
       "      <th>0</th>\n",
       "      <td>2</td>\n",
       "      <td>GGAATTTGAGCAGGATTAGTTGGTACTTCTTTAAGATTACTTATTC...</td>\n",
       "    </tr>\n",
       "    <tr>\n",
       "      <th>1</th>\n",
       "      <td>23</td>\n",
       "      <td>GAACATCTTTAAGATTATTAATTCGAGCTGAATTAGGAAACCCCGG...</td>\n",
       "    </tr>\n",
       "    <tr>\n",
       "      <th>2</th>\n",
       "      <td>46</td>\n",
       "      <td>GAACATCTTTAAGTTTATTAATTCGAGCTGAATTAGGTAATCCTGG...</td>\n",
       "    </tr>\n",
       "    <tr>\n",
       "      <th>3</th>\n",
       "      <td>81</td>\n",
       "      <td>GAACTTCATTAAGATTACTAATTCGAGCTGAATTAGGAAATCCTGG...</td>\n",
       "    </tr>\n",
       "    <tr>\n",
       "      <th>4</th>\n",
       "      <td>120</td>\n",
       "      <td>GAACTTCATTAAGATTATTAATTCGTGCTGAATTAGGGAACCCTGG...</td>\n",
       "    </tr>\n",
       "  </tbody>\n",
       "</table>\n",
       "</div>"
      ]
     },
     "execution_count": 14,
     "metadata": {},
     "output_type": "execute_result"
    }
   ],
   "execution_count": 14
  },
  {
   "metadata": {
    "ExecuteTime": {
     "end_time": "2025-07-24T15:23:50.014662Z",
     "start_time": "2025-07-24T15:23:50.008169Z"
    }
   },
   "cell_type": "code",
   "source": "df.head()",
   "id": "b121fc05e0006965",
   "outputs": [
    {
     "data": {
      "text/plain": [
       "   specimen_id                                            nuc_san\n",
       "0            2  GGAATTTGAGCAGGATTAGTTGGTACTTCTTTAAGATTACTTATTC...\n",
       "1           23  GAACATCTTTAAGATTATTAATTCGAGCTGAATTAGGAAACCCCGG...\n",
       "2           46  GAACATCTTTAAGTTTATTAATTCGAGCTGAATTAGGTAATCCTGG...\n",
       "3           81  GAACTTCATTAAGATTACTAATTCGAGCTGAATTAGGAAATCCTGG...\n",
       "4          120  GAACTTCATTAAGATTATTAATTCGTGCTGAATTAGGGAACCCTGG..."
      ],
      "text/html": [
       "<div>\n",
       "<style scoped>\n",
       "    .dataframe tbody tr th:only-of-type {\n",
       "        vertical-align: middle;\n",
       "    }\n",
       "\n",
       "    .dataframe tbody tr th {\n",
       "        vertical-align: top;\n",
       "    }\n",
       "\n",
       "    .dataframe thead th {\n",
       "        text-align: right;\n",
       "    }\n",
       "</style>\n",
       "<table border=\"1\" class=\"dataframe\">\n",
       "  <thead>\n",
       "    <tr style=\"text-align: right;\">\n",
       "      <th></th>\n",
       "      <th>specimen_id</th>\n",
       "      <th>nuc_san</th>\n",
       "    </tr>\n",
       "  </thead>\n",
       "  <tbody>\n",
       "    <tr>\n",
       "      <th>0</th>\n",
       "      <td>2</td>\n",
       "      <td>GGAATTTGAGCAGGATTAGTTGGTACTTCTTTAAGATTACTTATTC...</td>\n",
       "    </tr>\n",
       "    <tr>\n",
       "      <th>1</th>\n",
       "      <td>23</td>\n",
       "      <td>GAACATCTTTAAGATTATTAATTCGAGCTGAATTAGGAAACCCCGG...</td>\n",
       "    </tr>\n",
       "    <tr>\n",
       "      <th>2</th>\n",
       "      <td>46</td>\n",
       "      <td>GAACATCTTTAAGTTTATTAATTCGAGCTGAATTAGGTAATCCTGG...</td>\n",
       "    </tr>\n",
       "    <tr>\n",
       "      <th>3</th>\n",
       "      <td>81</td>\n",
       "      <td>GAACTTCATTAAGATTACTAATTCGAGCTGAATTAGGAAATCCTGG...</td>\n",
       "    </tr>\n",
       "    <tr>\n",
       "      <th>4</th>\n",
       "      <td>120</td>\n",
       "      <td>GAACTTCATTAAGATTATTAATTCGTGCTGAATTAGGGAACCCTGG...</td>\n",
       "    </tr>\n",
       "  </tbody>\n",
       "</table>\n",
       "</div>"
      ]
     },
     "execution_count": 15,
     "metadata": {},
     "output_type": "execute_result"
    }
   ],
   "execution_count": 15
  },
  {
   "metadata": {
    "ExecuteTime": {
     "end_time": "2025-07-24T15:24:06.048035Z",
     "start_time": "2025-07-24T15:23:51.364264Z"
    }
   },
   "cell_type": "code",
   "source": [
    "# write to CSV\n",
    "df.to_csv(csv_path, index=False)\n",
    "\n",
    "print(f\"DataFrame with columns ['specimen_id', 'nuc_san'] saved to {csv_path}\")"
   ],
   "id": "84f783e62e4e1117",
   "outputs": [
    {
     "name": "stdout",
     "output_type": "stream",
     "text": [
      "DataFrame with columns ['specimen_id', 'nuc_san'] saved to sampled_entries_2.csv\n"
     ]
    }
   ],
   "execution_count": 16
  },
  {
   "metadata": {
    "ExecuteTime": {
     "end_time": "2025-07-24T15:24:47.438367Z",
     "start_time": "2025-07-24T15:24:06.130167Z"
    }
   },
   "cell_type": "code",
   "source": [
    "with open(fasta_path, \"w\") as fasta:\n",
    "    for _, row in df[[\"specimen_id\", \"nuc_san\"]].iterrows():\n",
    "        fasta.write(f\">{row['specimen_id']}\\n{row['nuc_san']}\\n\")\n",
    "\n",
    "print(f\"FASTA file saved to {fasta_path}\")"
   ],
   "id": "52e650ee8879a800",
   "outputs": [
    {
     "name": "stdout",
     "output_type": "stream",
     "text": [
      "FASTA file saved to sampled_entries_2.fasta\n"
     ]
    }
   ],
   "execution_count": 17
  }
 ],
 "metadata": {
  "kernelspec": {
   "display_name": "Python 3",
   "language": "python",
   "name": "python3"
  },
  "language_info": {
   "codemirror_mode": {
    "name": "ipython",
    "version": 2
   },
   "file_extension": ".py",
   "mimetype": "text/x-python",
   "name": "python",
   "nbconvert_exporter": "python",
   "pygments_lexer": "ipython2",
   "version": "2.7.6"
  }
 },
 "nbformat": 4,
 "nbformat_minor": 5
}
