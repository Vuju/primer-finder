{
 "cells": [
  {
   "cell_type": "code",
   "id": "initial_id",
   "metadata": {
    "collapsed": true,
    "jupyter": {
     "is_executing": true
    },
    "ExecuteTime": {
     "end_time": "2025-07-24T09:46:30.481197100Z",
     "start_time": "2025-07-23T15:10:20.073273Z"
    }
   },
   "source": [
    "import sqlite3\n",
    "import pandas as pd\n",
    "import numpy as np\n",
    "\n",
    "# parameters\n",
    "database_path = \"../../eyeBOLD/eyeBOLD_db.db\"\n",
    "table_name = \"specimen\"\n",
    "id_column = \"specimenid\"\n",
    "num_entries = 100\n",
    "\n",
    "# connect to the database\n",
    "conn = sqlite3.connect(database_path)\n",
    "min_id, max_id = conn.execute(\n",
    "    f\"SELECT MIN({id_column}), MAX({id_column}) FROM {table_name}\"\n",
    ").fetchone()\n",
    "\n",
    "found_rows = []\n",
    "found_ids = set()\n",
    "\n",
    "batch_size = num_entries * 2  # query more than needed per batch\n",
    "\n",
    "while len(found_rows) < num_entries:\n",
    "    # generate more random unique candidate IDs\n",
    "    candidate_ids = set(np.random.randint(min_id, max_id + 1, size=batch_size))\n",
    "    candidate_ids -= found_ids  # remove already seen IDs\n",
    "    if not candidate_ids:\n",
    "        continue\n",
    "\n",
    "    placeholders = \",\".join(\"?\" for _ in candidate_ids)\n",
    "    query = f\"\"\"\n",
    "        SELECT *\n",
    "        FROM {table_name}\n",
    "        WHERE {id_column} IN ({placeholders})\n",
    "    \"\"\"\n",
    "\n",
    "    rows = conn.execute(query, list(candidate_ids)).fetchall()\n",
    "\n",
    "    for row in rows:\n",
    "        row_id = row[0]  # assuming id is the first column\n",
    "        if row_id not in found_ids:\n",
    "            found_ids.add(row_id)\n",
    "            found_rows.append(row)\n",
    "        if len(found_rows) >= num_entries:\n",
    "            break\n",
    "\n",
    "# convert to DataFrame\n",
    "col_names = [desc[0] for desc in conn.execute(f\"PRAGMA table_info({table_name})\")]\n",
    "df = pd.DataFrame(found_rows, columns=col_names)\n",
    "\n",
    "conn.close()\n",
    "\n",
    "df.head()"
   ],
   "outputs": [],
   "execution_count": null
  },
  {
   "metadata": {},
   "cell_type": "code",
   "outputs": [],
   "execution_count": null,
   "source": "df.head()",
   "id": "b121fc05e0006965"
  },
  {
   "metadata": {},
   "cell_type": "code",
   "outputs": [],
   "execution_count": null,
   "source": [
    "csv_path = \"sampled_entries.csv\"\n",
    "\n",
    "# keep only the columns of interest\n",
    "df_subset = df[[\"specimenid\", \"nuc_san\"]]\n",
    "\n",
    "# write to CSV\n",
    "df_subset.to_csv(csv_path, index=False)\n",
    "\n",
    "print(f\"DataFrame with columns ['specimenid', 'nuc_san'] saved to {csv_path}\")"
   ],
   "id": "84f783e62e4e1117"
  },
  {
   "metadata": {},
   "cell_type": "code",
   "outputs": [],
   "execution_count": null,
   "source": [
    "# specify output FASTA path\n",
    "fasta_path = \"sampled_entries.fasta\"\n",
    "\n",
    "with open(fasta_path, \"w\") as fasta:\n",
    "    for _, row in df[[\"specimenid\", \"nuc_san\"]].iterrows():\n",
    "        fasta.write(f\">{row['specimenid']}\\n{row['nuc_san']}\\n\")\n",
    "\n",
    "print(f\"FASTA file saved to {fasta_path}\")"
   ],
   "id": "52e650ee8879a800"
  }
 ],
 "metadata": {
  "kernelspec": {
   "display_name": "Python 3",
   "language": "python",
   "name": "python3"
  },
  "language_info": {
   "codemirror_mode": {
    "name": "ipython",
    "version": 2
   },
   "file_extension": ".py",
   "mimetype": "text/x-python",
   "name": "python",
   "nbconvert_exporter": "python",
   "pygments_lexer": "ipython2",
   "version": "2.7.6"
  }
 },
 "nbformat": 4,
 "nbformat_minor": 5
}
