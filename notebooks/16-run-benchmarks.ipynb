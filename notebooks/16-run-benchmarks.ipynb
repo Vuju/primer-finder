{
 "cells": [
  {
   "metadata": {},
   "cell_type": "code",
   "outputs": [],
   "execution_count": null,
   "source": [
    "from primer_finder.matching.dtos.match_result_dto import MatchResultDTO\n",
    "\n",
    "forward_primer = \"ACGTACGTACGT\"   # replace with your forward primer\n",
    "reverse_primer = \"TGCATGCATGCA\"   # replace with your reverse primer\n",
    "\n",
    "input_fasta = \"sampled_entries.fasta\"\n",
    "output_fasta = \"sampled_entries_trimmed.fasta\"\n",
    "\n",
    "input_csv = \"sampled_entries.csv\"\n",
    "\n",
    "n_repeats = 5  # how many times to run cutadapt\n"
   ],
   "id": "aa0407528767710a"
  },
  {
   "cell_type": "code",
   "execution_count": null,
   "id": "initial_id",
   "metadata": {
    "collapsed": true
   },
   "outputs": [],
   "source": [
    "import subprocess\n",
    "import time\n",
    "import numpy as np\n",
    "\n",
    "from primer_finder.matching.dtos.search_parameter_object import SearchParameterObject\n",
    "\n",
    "# build cutadapt command\n",
    "cmd = [\n",
    "    \"cutadapt\",\n",
    "    \"--quiet\",            # suppress verbose output\n",
    "    \"--fasta\",            # treat input as FASTA\n",
    "    \"-g\", forward_primer, # 5′ primer\n",
    "    \"-a\", reverse_primer, # 3′ primer\n",
    "    \"-o\", output_fasta,\n",
    "    input_fasta\n",
    "]\n",
    "\n",
    "# store runtimes\n",
    "cutadapt_runtimes = []\n",
    "for i in range(n_repeats):\n",
    "    start = time.perf_counter()\n",
    "    result = subprocess.run(cmd, capture_output=True, text=True)\n",
    "    end = time.perf_counter()\n",
    "\n",
    "    elapsed = end - start\n",
    "    cutadapt_runtimes.append(elapsed)\n",
    "    print(f\"Run {i+1}: {elapsed:.3f} seconds\")\n",
    "\n",
    "# convert to numpy for stats\n",
    "cutadapt_runtimes = np.array(cutadapt_runtimes)\n",
    "\n",
    "print(\"\\nBenchmark results:\")\n",
    "print(f\"  Mean: {cutadapt_runtimes.mean():.3f} seconds\")\n",
    "print(f\"   Min: {cutadapt_runtimes.min():.3f} seconds\")\n",
    "print(f\"   Max: {cutadapt_runtimes.max():.3f} seconds\")\n",
    "print(f\"    SD: {cutadapt_runtimes.std():.3f} seconds\")\n"
   ]
  },
  {
   "metadata": {
    "ExecuteTime": {
     "end_time": "2025-07-23T14:18:10.552982Z",
     "start_time": "2025-07-23T14:18:10.546645Z"
    }
   },
   "cell_type": "code",
   "source": [
    "import pandas as pd\n",
    "import primer_finder.matching.primer_finder as pf\n",
    "\n",
    "# Read CSV file\n",
    "df = pd.read_csv('filename.csv')\n",
    "query = SearchParameterObject(\n",
    "    forward_primer=forward_primer,\n",
    "    reverse_primer=reverse_primer,\n",
    "    distance=205,\n",
    "    forward_cutoff=0.7,\n",
    "    reverse_cutoff=0.6,\n",
    "    protein_translation_table=5,\n",
    ")\n",
    "\n",
    "primer_finder_runtimes = []\n",
    "finder = pf.PrimerFinder(None)\n",
    "for c in range(n_repeats):\n",
    "    start = time.perf_counter()\n",
    "    for i, row in df.iterrows():\n",
    "        seq_obj = row[\"specimenid\"], row[\"nuc_san\"], MatchResultDTO(), MatchResultDTO()\n",
    "        finder._process_sequence(query, seq_obj)\n",
    "\n",
    "    end = time.perf_counter()\n",
    "    elapsed = end - start\n",
    "    print(f\"Run {i+1}: {elapsed:.3f} seconds\")\n",
    "    primer_finder_runtimes.append(elapsed)\n",
    "\n",
    "# output mean min max and std mby?"
   ],
   "id": "6faf5e1fefa931f3",
   "outputs": [
    {
     "ename": "SyntaxError",
     "evalue": "invalid syntax (964586237.py, line 19)",
     "output_type": "error",
     "traceback": [
      "  \u001B[36mCell\u001B[39m\u001B[36m \u001B[39m\u001B[32mIn[1]\u001B[39m\u001B[32m, line 19\u001B[39m\n\u001B[31m    \u001B[39m\u001B[31mfinder.\u001B[39m\n           ^\n\u001B[31mSyntaxError\u001B[39m\u001B[31m:\u001B[39m invalid syntax\n"
     ]
    }
   ],
   "execution_count": 1
  },
  {
   "metadata": {},
   "cell_type": "code",
   "outputs": [],
   "execution_count": null,
   "source": "# do the same for fastp maybe?",
   "id": "ac8f9aafca6921d8"
  }
 ],
 "metadata": {
  "kernelspec": {
   "display_name": "Python 3",
   "language": "python",
   "name": "python3"
  },
  "language_info": {
   "codemirror_mode": {
    "name": "ipython",
    "version": 2
   },
   "file_extension": ".py",
   "mimetype": "text/x-python",
   "name": "python",
   "nbconvert_exporter": "python",
   "pygments_lexer": "ipython2",
   "version": "2.7.6"
  }
 },
 "nbformat": 4,
 "nbformat_minor": 5
}
