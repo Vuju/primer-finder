{
 "cells": [
  {
   "metadata": {
    "ExecuteTime": {
     "end_time": "2025-07-31T16:08:20.806270Z",
     "start_time": "2025-07-31T16:08:20.801783Z"
    }
   },
   "cell_type": "code",
   "source": [
    "forward_primer = \"GGDACWGGWTGAACWGTWTAYCCHCC\"\n",
    "reverse_primer = \"CCWGTWYTAGCHGGDGCWATYAC\"\n",
    "expected_distance = 205\n",
    "\n",
    "input_base = \"sampled_entries_1\"\n",
    "experiment_id = \"_1\"\n",
    "\n",
    "input_fasta = input_base + \".fasta\"\n",
    "output_fasta = input_base + experiment_id + \"_trimmed.fasta\"\n",
    "input_fastq = input_base + \".fastq\"\n",
    "output_fastq = input_base + experiment_id + \"_trimmed.fastq\"\n",
    "input_csv = input_base + \".csv\"\n",
    "csv_output_path = input_base + experiment_id + \"_results.csv\"\n",
    "\n",
    "json_report = input_base + experiment_id + \"_fastp_report.json\"\n",
    "html_report = input_base + experiment_id + \"_fastp_report.html\"\n",
    "\n",
    "n_repeats = 5  # how many times to run cutadapt"
   ],
   "id": "aa0407528767710a",
   "outputs": [],
   "execution_count": 3
  },
  {
   "cell_type": "code",
   "id": "initial_id",
   "metadata": {
    "collapsed": true,
    "ExecuteTime": {
     "end_time": "2025-07-31T16:08:30.293233Z",
     "start_time": "2025-07-31T16:08:20.832857Z"
    }
   },
   "source": [
    "import subprocess\n",
    "import time\n",
    "import numpy as np\n",
    "\n",
    "from primer_finder.matching.dtos.search_parameter_object import SearchParameterObject\n",
    "\n",
    "# build cutadapt command\n",
    "cmd = [\n",
    "    \"cutadapt\",\n",
    "    \"--discard-untrimmed\",\n",
    "    \"--rc\",\n",
    "    \"-g\", forward_primer + \"...\" + reverse_primer,\n",
    "    \"-o\", output_fasta,\n",
    "    \"-e\", \"0.15\",\n",
    "    \"-j\", \"8\",\n",
    "    input_fasta\n",
    "]\n",
    "\n",
    "# store runtimes\n",
    "cutadapt_runtimes = []\n",
    "for i in range(n_repeats):\n",
    "    start = time.perf_counter()\n",
    "    result = subprocess.run(cmd, capture_output=True, text=True)\n",
    "    end = time.perf_counter()\n",
    "    if result.returncode != 0:\n",
    "        print(f\"❌ fastp failed with return code {result.returncode}\")\n",
    "        print(result.stderr)\n",
    "\n",
    "    elapsed = end - start\n",
    "    cutadapt_runtimes.append(elapsed)\n",
    "    print(f\"Run {i+1}: {elapsed:.3f} seconds\")\n",
    "\n",
    "# convert to numpy for stats\n",
    "cutadapt_runtimes = np.array(cutadapt_runtimes)\n",
    "\n",
    "print(\"\\nBenchmark results:\")\n",
    "print(f\"  Mean: {cutadapt_runtimes.mean():.3f} seconds\")\n",
    "print(f\"   Min: {cutadapt_runtimes.min():.3f} seconds\")\n",
    "print(f\"   Max: {cutadapt_runtimes.max():.3f} seconds\")\n",
    "print(f\"    SD: {cutadapt_runtimes.std():.3f} seconds\")\n"
   ],
   "outputs": [
    {
     "name": "stdout",
     "output_type": "stream",
     "text": [
      "Run 1: 1.829 seconds\n",
      "Run 2: 2.153 seconds\n",
      "Run 3: 1.840 seconds\n",
      "Run 4: 1.892 seconds\n",
      "Run 5: 1.707 seconds\n",
      "\n",
      "Benchmark results:\n",
      "  Mean: 1.884 seconds\n",
      "   Min: 1.707 seconds\n",
      "   Max: 2.153 seconds\n",
      "    SD: 0.148 seconds\n"
     ]
    }
   ],
   "execution_count": 4
  },
  {
   "metadata": {
    "ExecuteTime": {
     "end_time": "2025-07-31T16:16:24.856630Z",
     "start_time": "2025-07-31T16:08:30.300483Z"
    }
   },
   "cell_type": "code",
   "source": [
    "from multiprocessing import Pool\n",
    "from functools import partial\n",
    "import pandas as pd\n",
    "import primer_finder.matching.primer_finder as pf\n",
    "from primer_finder.matching.dtos.match_result_dto import MatchResultDTO\n",
    "from primer_finder.matching.dtos.search_parameter_object import SearchParameterObject\n",
    "from tqdm import tqdm\n",
    "import time\n",
    "\n",
    "# since my implementation is not that well exposed apparently, I copied the relevant parts here that were not exposed properly yet.\n",
    "\n",
    "df = pd.read_csv(input_csv)\n",
    "query = SearchParameterObject(\n",
    "    forward_primer=forward_primer,\n",
    "    reverse_primer=reverse_primer,\n",
    "    distance=expected_distance,\n",
    "    forward_cutoff=0.7,\n",
    "    reverse_cutoff=0.6,\n",
    "    protein_translation_table=5,\n",
    ")\n",
    "null_counter = 0\n",
    "primer_finder_runtimes = []\n",
    "finder = pf.PrimerFinder(None)\n",
    "seq_objs = []\n",
    "\n",
    "for i, row in df.iterrows():\n",
    "    if type(row[\"nuc_san\"]) == str:\n",
    "        seq_objs.append((row[\"specimen_id\"], row[\"nuc_san\"], MatchResultDTO(), MatchResultDTO()))\n",
    "    else:\n",
    "        null_counter += 1\n",
    "\n",
    "for c in range(n_repeats):\n",
    "    start = time.perf_counter()\n",
    "    worker = partial(finder._process_sequences_chunk, query)\n",
    "\n",
    "    sequence_chunks = pf.chunker(seq_objs, 1000)\n",
    "    with Pool() as pool:\n",
    "        results_buffer = []\n",
    "        for wbv in pool.imap(worker, sequence_chunks, chunksize=1):\n",
    "            results_buffer.extend(wbv)\n",
    "    end = time.perf_counter()\n",
    "    elapsed = end - start\n",
    "    print(f\"Run {c+1}: {elapsed:.3f} seconds\")\n",
    "    primer_finder_runtimes.append(elapsed)\n",
    "\n",
    "primer_finder_runtimes = np.array(primer_finder_runtimes)\n",
    "\n",
    "print(\"\\nBenchmark results:\")\n",
    "print(f\"  Mean: {primer_finder_runtimes.mean():.3f} seconds\")\n",
    "print(f\"   Min: {primer_finder_runtimes.min():.3f} seconds\")\n",
    "print(f\"   Max: {primer_finder_runtimes.max():.3f} seconds\")\n",
    "print(f\"    SD: {primer_finder_runtimes.std():.3f} seconds\")\n",
    "\n",
    "# output mean min max and std mby?"
   ],
   "id": "6faf5e1fefa931f3",
   "outputs": [
    {
     "name": "stdout",
     "output_type": "stream",
     "text": [
      "Run 1: 95.146 seconds\n",
      "Run 2: 99.040 seconds\n",
      "Run 3: 95.147 seconds\n",
      "Run 4: 90.642 seconds\n",
      "Run 5: 89.959 seconds\n",
      "\n",
      "Benchmark results:\n",
      "  Mean: 93.987 seconds\n",
      "   Min: 89.959 seconds\n",
      "   Max: 99.040 seconds\n",
      "    SD: 3.336 seconds\n"
     ]
    }
   ],
   "execution_count": 5
  },
  {
   "metadata": {
    "ExecuteTime": {
     "end_time": "2025-07-31T16:16:26.035937Z",
     "start_time": "2025-07-31T16:16:25.006876Z"
    }
   },
   "cell_type": "code",
   "source": [
    "import pandas as pd\n",
    "from Bio import SeqIO\n",
    "\n",
    "# Step 1: Extract IDs and amplicons from your results_buffer\n",
    "my_ids = [entry[0] for entry in results_buffer]\n",
    "my_amplicons = [entry[3] for entry in results_buffer]\n",
    "\n",
    "# Step 2: Parse cutadapt output FASTA\n",
    "cutadapt_dict = {}  # maps ID → trimmed sequence\n",
    "for record in SeqIO.parse(output_fasta, \"fasta\"):\n",
    "    cutadapt_dict[record.id] = str(record.seq)\n",
    "\n",
    "# Step 3: Build the DataFrame\n",
    "combined_data = []\n",
    "\n",
    "for seq_id, my_amplicon in zip(my_ids, my_amplicons):\n",
    "    cutadapt_amplicon = cutadapt_dict.get(str(seq_id), None)\n",
    "    combined_data.append({\n",
    "        \"ID\": seq_id,\n",
    "        \"MyProgram_Amplicon\": my_amplicon,\n",
    "        \"Cutadapt_Amplicon\": cutadapt_amplicon\n",
    "    })\n",
    "\n",
    "df_combined = pd.DataFrame(combined_data)"
   ],
   "id": "1e604f6ca9fb2202",
   "outputs": [],
   "execution_count": 6
  },
  {
   "metadata": {
    "ExecuteTime": {
     "end_time": "2025-07-31T16:16:26.090175Z",
     "start_time": "2025-07-31T16:16:26.056083Z"
    }
   },
   "cell_type": "code",
   "source": [
    "df_combined[\"My_len\"] = df_combined[\"MyProgram_Amplicon\"].str.len()\n",
    "df_combined[\"Cut_len\"] = df_combined[\"Cutadapt_Amplicon\"].str.len()\n"
   ],
   "id": "4fd344a4721d56d7",
   "outputs": [],
   "execution_count": 7
  },
  {
   "metadata": {
    "ExecuteTime": {
     "end_time": "2025-07-31T16:16:26.162765Z",
     "start_time": "2025-07-31T16:16:26.141110Z"
    }
   },
   "cell_type": "code",
   "source": [
    "df_diff = df_combined[df_combined[\"MyProgram_Amplicon\"] != df_combined[\"Cutadapt_Amplicon\"]]\n",
    "print(len(df_diff))"
   ],
   "id": "c7c93f1a6856edb8",
   "outputs": [
    {
     "name": "stdout",
     "output_type": "stream",
     "text": [
      "7342\n"
     ]
    }
   ],
   "execution_count": 8
  },
  {
   "metadata": {
    "ExecuteTime": {
     "end_time": "2025-07-31T16:29:50.668006Z",
     "start_time": "2025-07-31T16:29:50.657748Z"
    }
   },
   "cell_type": "code",
   "source": "df_combined",
   "id": "2628bb2a783cacf4",
   "outputs": [
    {
     "data": {
      "text/plain": [
       "             ID                                 MyProgram_Amplicon  \\\n",
       "0           175  ACTTTCATCTAATATTGCCCATGGAGGTAGCTCTGTAGATTTAGCT...   \n",
       "1           289  CCTTTCATCTAATATTGCCCATGGAGGAAGATCAGTAGACTTAGCC...   \n",
       "2           577  TTTATCTTCTTATTTATTTCATTCATCTCCATCAATTGATATTGCA...   \n",
       "3           688  ACTTTCATCTAATATTGCTCATAGAGGAAGATCAGTAGATTTAGCA...   \n",
       "4           828  TCTTTCATCTAATATTGCCCATGGAGGAAGATCAGTAGATTTAGCT...   \n",
       "...         ...                                                ...   \n",
       "68787  16184874  TTTATCAAATATTATTGCTCATGGAGGACCATCAGTTGATTTAGCA...   \n",
       "68788  16185006  ACTTTCAAGATTAATCTCCCATGGAGGCCCTTCAGTTGATCTAGCA...   \n",
       "68789  16185053  CTTGTCTTCTAGAATTGCTCACAGAGGAGCATCAGTAGATTTAGCT...   \n",
       "68790  16185197  TCTTTCTTCTAGAATTGCCCATGCCGGAGCTTCTGTTGATTTAGCT...   \n",
       "68791  16185215  TCTTTCTTCTAGAATTGCTCACGCAGGGGGATCAGTCGATTTAGCT...   \n",
       "\n",
       "                                       Cutadapt_Amplicon  My_len  Cut_len  \n",
       "0      ACTTTCATCTAATATTGCCCATGGAGGTAGCTCTGTAGATTTAGCT...   205.0    205.0  \n",
       "1      CCTTTCATCTAATATTGCCCATGGAGGAAGATCAGTAGACTTAGCC...   205.0    205.0  \n",
       "2      TTTATCTTCTTATTTATTTCATTCATCTCCATCAATTGATATTGCA...   205.0    205.0  \n",
       "3      ACTTTCATCTAATATTGCTCATAGAGGAAGATCAGTAGATTTAGCA...   205.0    205.0  \n",
       "4      TCTTTCATCTAATATTGCCCATGGAGGAAGATCAGTAGATTTAGCT...   205.0    205.0  \n",
       "...                                                  ...     ...      ...  \n",
       "68787  TTTATCAAATATTATTGCTCATGGAGGACCATCAGTTGATTTAGCA...   205.0    205.0  \n",
       "68788  ACTTTCAAGATTAATCTCCCATGGAGGCCCTTCAGTTGATCTAGCA...   205.0    205.0  \n",
       "68789  CTTGTCTTCTAGAATTGCTCACAGAGGAGCATCAGTAGATTTAGCT...   205.0    205.0  \n",
       "68790  TCTTTCTTCTAGAATTGCCCATGCCGGAGCTTCTGTTGATTTAGCT...   205.0    205.0  \n",
       "68791  TCTTTCTTCTAGAATTGCTCACGCAGGGGGATCAGTCGATTTAGCT...   205.0    205.0  \n",
       "\n",
       "[68792 rows x 5 columns]"
      ],
      "text/html": [
       "<div>\n",
       "<style scoped>\n",
       "    .dataframe tbody tr th:only-of-type {\n",
       "        vertical-align: middle;\n",
       "    }\n",
       "\n",
       "    .dataframe tbody tr th {\n",
       "        vertical-align: top;\n",
       "    }\n",
       "\n",
       "    .dataframe thead th {\n",
       "        text-align: right;\n",
       "    }\n",
       "</style>\n",
       "<table border=\"1\" class=\"dataframe\">\n",
       "  <thead>\n",
       "    <tr style=\"text-align: right;\">\n",
       "      <th></th>\n",
       "      <th>ID</th>\n",
       "      <th>MyProgram_Amplicon</th>\n",
       "      <th>Cutadapt_Amplicon</th>\n",
       "      <th>My_len</th>\n",
       "      <th>Cut_len</th>\n",
       "    </tr>\n",
       "  </thead>\n",
       "  <tbody>\n",
       "    <tr>\n",
       "      <th>0</th>\n",
       "      <td>175</td>\n",
       "      <td>ACTTTCATCTAATATTGCCCATGGAGGTAGCTCTGTAGATTTAGCT...</td>\n",
       "      <td>ACTTTCATCTAATATTGCCCATGGAGGTAGCTCTGTAGATTTAGCT...</td>\n",
       "      <td>205.0</td>\n",
       "      <td>205.0</td>\n",
       "    </tr>\n",
       "    <tr>\n",
       "      <th>1</th>\n",
       "      <td>289</td>\n",
       "      <td>CCTTTCATCTAATATTGCCCATGGAGGAAGATCAGTAGACTTAGCC...</td>\n",
       "      <td>CCTTTCATCTAATATTGCCCATGGAGGAAGATCAGTAGACTTAGCC...</td>\n",
       "      <td>205.0</td>\n",
       "      <td>205.0</td>\n",
       "    </tr>\n",
       "    <tr>\n",
       "      <th>2</th>\n",
       "      <td>577</td>\n",
       "      <td>TTTATCTTCTTATTTATTTCATTCATCTCCATCAATTGATATTGCA...</td>\n",
       "      <td>TTTATCTTCTTATTTATTTCATTCATCTCCATCAATTGATATTGCA...</td>\n",
       "      <td>205.0</td>\n",
       "      <td>205.0</td>\n",
       "    </tr>\n",
       "    <tr>\n",
       "      <th>3</th>\n",
       "      <td>688</td>\n",
       "      <td>ACTTTCATCTAATATTGCTCATAGAGGAAGATCAGTAGATTTAGCA...</td>\n",
       "      <td>ACTTTCATCTAATATTGCTCATAGAGGAAGATCAGTAGATTTAGCA...</td>\n",
       "      <td>205.0</td>\n",
       "      <td>205.0</td>\n",
       "    </tr>\n",
       "    <tr>\n",
       "      <th>4</th>\n",
       "      <td>828</td>\n",
       "      <td>TCTTTCATCTAATATTGCCCATGGAGGAAGATCAGTAGATTTAGCT...</td>\n",
       "      <td>TCTTTCATCTAATATTGCCCATGGAGGAAGATCAGTAGATTTAGCT...</td>\n",
       "      <td>205.0</td>\n",
       "      <td>205.0</td>\n",
       "    </tr>\n",
       "    <tr>\n",
       "      <th>...</th>\n",
       "      <td>...</td>\n",
       "      <td>...</td>\n",
       "      <td>...</td>\n",
       "      <td>...</td>\n",
       "      <td>...</td>\n",
       "    </tr>\n",
       "    <tr>\n",
       "      <th>68787</th>\n",
       "      <td>16184874</td>\n",
       "      <td>TTTATCAAATATTATTGCTCATGGAGGACCATCAGTTGATTTAGCA...</td>\n",
       "      <td>TTTATCAAATATTATTGCTCATGGAGGACCATCAGTTGATTTAGCA...</td>\n",
       "      <td>205.0</td>\n",
       "      <td>205.0</td>\n",
       "    </tr>\n",
       "    <tr>\n",
       "      <th>68788</th>\n",
       "      <td>16185006</td>\n",
       "      <td>ACTTTCAAGATTAATCTCCCATGGAGGCCCTTCAGTTGATCTAGCA...</td>\n",
       "      <td>ACTTTCAAGATTAATCTCCCATGGAGGCCCTTCAGTTGATCTAGCA...</td>\n",
       "      <td>205.0</td>\n",
       "      <td>205.0</td>\n",
       "    </tr>\n",
       "    <tr>\n",
       "      <th>68789</th>\n",
       "      <td>16185053</td>\n",
       "      <td>CTTGTCTTCTAGAATTGCTCACAGAGGAGCATCAGTAGATTTAGCT...</td>\n",
       "      <td>CTTGTCTTCTAGAATTGCTCACAGAGGAGCATCAGTAGATTTAGCT...</td>\n",
       "      <td>205.0</td>\n",
       "      <td>205.0</td>\n",
       "    </tr>\n",
       "    <tr>\n",
       "      <th>68790</th>\n",
       "      <td>16185197</td>\n",
       "      <td>TCTTTCTTCTAGAATTGCCCATGCCGGAGCTTCTGTTGATTTAGCT...</td>\n",
       "      <td>TCTTTCTTCTAGAATTGCCCATGCCGGAGCTTCTGTTGATTTAGCT...</td>\n",
       "      <td>205.0</td>\n",
       "      <td>205.0</td>\n",
       "    </tr>\n",
       "    <tr>\n",
       "      <th>68791</th>\n",
       "      <td>16185215</td>\n",
       "      <td>TCTTTCTTCTAGAATTGCTCACGCAGGGGGATCAGTCGATTTAGCT...</td>\n",
       "      <td>TCTTTCTTCTAGAATTGCTCACGCAGGGGGATCAGTCGATTTAGCT...</td>\n",
       "      <td>205.0</td>\n",
       "      <td>205.0</td>\n",
       "    </tr>\n",
       "  </tbody>\n",
       "</table>\n",
       "<p>68792 rows × 5 columns</p>\n",
       "</div>"
      ]
     },
     "execution_count": 24,
     "metadata": {},
     "output_type": "execute_result"
    }
   ],
   "execution_count": 24
  },
  {
   "metadata": {
    "ExecuteTime": {
     "end_time": "2025-07-31T16:16:27.765066Z",
     "start_time": "2025-07-31T16:16:26.208680Z"
    }
   },
   "cell_type": "code",
   "source": [
    "import matplotlib.pyplot as plt\n",
    "\n",
    "# Count occurrences of each length\n",
    "df_combined_filtered = df_combined[]\n",
    "my_len_counts = df_combined['My_len'].value_counts().sort_index()\n",
    "cutadapt_len_counts = df_combined['Cut_len'].value_counts().sort_index()\n",
    "\n",
    "# Plot\n",
    "plt.figure(figsize=(10, 6))\n",
    "plt.plot(cutadapt_len_counts.index, cutadapt_len_counts.values, label='Cutadapt', marker='s')\n",
    "plt.plot(my_len_counts.index, my_len_counts.values, label='Primer-finder', marker='o')\n",
    "\n",
    "plt.xlabel('Amplicon Length')\n",
    "plt.ylabel('Count (in log scale)')\n",
    "plt.yscale('log')\n",
    "plt.title('Distribution of Amplicon Lengths')\n",
    "plt.legend()\n",
    "plt.grid(True)\n",
    "plt.tight_layout()\n",
    "plt.show()\n"
   ],
   "id": "c64783fd364fabf9",
   "outputs": [
    {
     "data": {
      "text/plain": [
       "<Figure size 1000x600 with 1 Axes>"
      ],
      "image/png": "[encoded data removed]"
     },
     "metadata": {},
     "output_type": "display_data"
    }
   ],
   "execution_count": 9
  },
  {
   "metadata": {
    "ExecuteTime": {
     "end_time": "2025-07-31T16:16:29.446953Z",
     "start_time": "2025-07-31T16:16:27.801692Z"
    }
   },
   "cell_type": "code",
   "source": "df.to_csv(csv_output_path, index=False)",
   "id": "91ec324482936c60",
   "outputs": [],
   "execution_count": 10
  },
  {
   "metadata": {
    "ExecuteTime": {
     "end_time": "2025-07-31T16:33:24.247251Z",
     "start_time": "2025-07-31T16:33:24.243222Z"
    }
   },
   "cell_type": "code",
   "source": [
    "a = (cutadapt_len_counts[205])\n",
    "b = my_len_counts[205]\n",
    "print(a, b, a/b)"
   ],
   "id": "47c617513b929031",
   "outputs": [
    {
     "name": "stdout",
     "output_type": "stream",
     "text": [
      "59674 60936 0.9792897466194039\n"
     ]
    }
   ],
   "execution_count": 26
  }
 ],
 "metadata": {
  "kernelspec": {
   "display_name": "Python 3",
   "language": "python",
   "name": "python3"
  },
  "language_info": {
   "codemirror_mode": {
    "name": "ipython",
    "version": 2
   },
   "file_extension": ".py",
   "mimetype": "text/x-python",
   "name": "python",
   "nbconvert_exporter": "python",
   "pygments_lexer": "ipython2",
   "version": "2.7.6"
  }
 },
 "nbformat": 4,
 "nbformat_minor": 5
}
