{
 "cells": [
  {
   "metadata": {
    "ExecuteTime": {
     "end_time": "2025-03-29T10:36:26.106100Z",
     "start_time": "2025-03-29T10:36:25.815543Z"
    }
   },
   "cell_type": "code",
   "source": [
    "import pandas as pd\n",
    "from six import text_type\n"
   ],
   "id": "439cb9ae5088430e",
   "outputs": [],
   "execution_count": 1
  },
  {
   "metadata": {
    "ExecuteTime": {
     "end_time": "2025-03-29T10:36:39.464694Z",
     "start_time": "2025-03-29T10:36:26.111209Z"
    }
   },
   "cell_type": "code",
   "source": "my_result = pd.read_csv(\"../../data/primer-finder-result.csv\", sep=\";\")",
   "id": "40bce5c9aa782d23",
   "outputs": [],
   "execution_count": 2
  },
  {
   "metadata": {
    "ExecuteTime": {
     "end_time": "2025-03-29T10:36:39.656758Z",
     "start_time": "2025-03-29T10:36:39.580125Z"
    }
   },
   "cell_type": "code",
   "source": "from src.orf_finder import decide_orfs",
   "id": "bdbb47a39c5a663b",
   "outputs": [],
   "execution_count": 3
  },
  {
   "metadata": {
    "ExecuteTime": {
     "end_time": "2025-03-29T10:36:42.378048Z",
     "start_time": "2025-03-29T10:36:39.668559Z"
    }
   },
   "cell_type": "code",
   "source": [
    "#setup\n",
    "remaining_results = my_result[~my_result['possible_orfs'].str.contains(r'\\[\\]')]\n",
    "solved_results = remaining_results[~remaining_results['possible_orfs'].str.contains(',')]\n",
    "remaining_results = remaining_results[~(remaining_results['Read ID'].isin(solved_results['Read ID']))]\n",
    "\n",
    "solved_results[\"ORF\"] = solved_results.apply(lambda x: x[\"possible_orfs\"][1], axis=1)\n",
    "\n",
    "# for faster debug:\n",
    "remaining_results = remaining_results[~(remaining_results.Order == \"o:Lepidoptera\")]"
   ],
   "id": "d8675cddc3961e3d",
   "outputs": [],
   "execution_count": 4
  },
  {
   "metadata": {
    "ExecuteTime": {
     "end_time": "2025-03-29T10:37:20.011553Z",
     "start_time": "2025-03-29T10:36:42.490589Z"
    }
   },
   "cell_type": "code",
   "source": [
    "#params\n",
    "threshold = 4\n",
    "upper_threshold = 50\n",
    "\n",
    "last_solved = pd.DataFrame\n",
    "failed = 0\n",
    "\n",
    "taxonomic_levels = ['Family', 'Order', 'Class']\n",
    "\n",
    "while remaining_results.size > 0:\n",
    "    current_entry = remaining_results.iloc[0]\n",
    "\n",
    "    # Try to match at each taxonomic level, from specific to general\n",
    "    for level in taxonomic_levels:\n",
    "        level_value = current_entry[level]\n",
    "        comp_group = solved_results[solved_results[level] == level_value]\n",
    "        group_size = len(comp_group)\n",
    "\n",
    "        if group_size >= threshold:\n",
    "            comp_group = comp_group.sample(min(upper_threshold, group_size))\n",
    "            related_entries = remaining_results[remaining_results[level] == level_value]\n",
    "            solved = decide_orfs(comp_group, related_entries)\n",
    "            solved_results = pd.concat([solved_results, solved], ignore_index=True)\n",
    "            remaining_results = remaining_results[~(remaining_results[level] == level_value)]\n",
    "            last_solved = solved\n",
    "            break\n",
    "        else:\n",
    "            print(f\"{group_size} entries of {level} {level_value} is too small.\")\n",
    "\n",
    "            # If we've tried all levels and none are big enough\n",
    "            if level == taxonomic_levels[-1]:\n",
    "                print(f\"Removing Family '{current_entry['Family']}' with {len(solved_results[solved_results['Family'] == current_entry['Family']])} members to continue.\")\n",
    "                remaining_results = remaining_results[~(remaining_results['Family'] == current_entry['Family'])]\n",
    "                failed += len(related_entries) if 'related_entries' in locals() else 1\n",
    "\n",
    "    print(\"-------------\")\n",
    "\n",
    "print(f\"A total of {failed} entries were impossible to match.\")"
   ],
   "id": "853f08c944d93be6",
   "outputs": [
    {
     "name": "stderr",
     "output_type": "stream",
     "text": [
      "/mnt/z/Uni/Master Thesis/primer-finder/src/orf_finder.py:99: SettingWithCopyWarning: \n",
      "A value is trying to be set on a copy of a slice from a DataFrame.\n",
      "Try using .loc[row_indexer,col_indexer] = value instead\n",
      "\n",
      "See the caveats in the documentation: https://pandas.pydata.org/pandas-docs/stable/user_guide/indexing.html#returning-a-view-versus-a-copy\n",
      "  questionableEntries.loc[:, 'ORF'] = ''\n"
     ]
    },
    {
     "name": "stdout",
     "output_type": "stream",
     "text": [
      "0(0 hits) of 19114 resolved and returned.\n",
      "-------------\n"
     ]
    },
    {
     "name": "stderr",
     "output_type": "stream",
     "text": [
      "/mnt/z/Uni/Master Thesis/primer-finder/src/orf_finder.py:99: SettingWithCopyWarning: \n",
      "A value is trying to be set on a copy of a slice from a DataFrame.\n",
      "Try using .loc[row_indexer,col_indexer] = value instead\n",
      "\n",
      "See the caveats in the documentation: https://pandas.pydata.org/pandas-docs/stable/user_guide/indexing.html#returning-a-view-versus-a-copy\n",
      "  questionableEntries.loc[:, 'ORF'] = ''\n"
     ]
    },
    {
     "name": "stdout",
     "output_type": "stream",
     "text": [
      "1(1 hits) of 25893 resolved and returned.\n",
      "-------------\n"
     ]
    },
    {
     "name": "stderr",
     "output_type": "stream",
     "text": [
      "/mnt/z/Uni/Master Thesis/primer-finder/src/orf_finder.py:99: SettingWithCopyWarning: \n",
      "A value is trying to be set on a copy of a slice from a DataFrame.\n",
      "Try using .loc[row_indexer,col_indexer] = value instead\n",
      "\n",
      "See the caveats in the documentation: https://pandas.pydata.org/pandas-docs/stable/user_guide/indexing.html#returning-a-view-versus-a-copy\n",
      "  questionableEntries.loc[:, 'ORF'] = ''\n"
     ]
    },
    {
     "name": "stdout",
     "output_type": "stream",
     "text": [
      "0(0 hits) of 20502 resolved and returned.\n",
      "-------------\n"
     ]
    },
    {
     "name": "stderr",
     "output_type": "stream",
     "text": [
      "/mnt/z/Uni/Master Thesis/primer-finder/src/orf_finder.py:99: SettingWithCopyWarning: \n",
      "A value is trying to be set on a copy of a slice from a DataFrame.\n",
      "Try using .loc[row_indexer,col_indexer] = value instead\n",
      "\n",
      "See the caveats in the documentation: https://pandas.pydata.org/pandas-docs/stable/user_guide/indexing.html#returning-a-view-versus-a-copy\n",
      "  questionableEntries.loc[:, 'ORF'] = ''\n"
     ]
    },
    {
     "name": "stdout",
     "output_type": "stream",
     "text": [
      "0(0 hits) of 6823 resolved and returned.\n",
      "-------------\n"
     ]
    },
    {
     "name": "stderr",
     "output_type": "stream",
     "text": [
      "/mnt/z/Uni/Master Thesis/primer-finder/src/orf_finder.py:99: SettingWithCopyWarning: \n",
      "A value is trying to be set on a copy of a slice from a DataFrame.\n",
      "Try using .loc[row_indexer,col_indexer] = value instead\n",
      "\n",
      "See the caveats in the documentation: https://pandas.pydata.org/pandas-docs/stable/user_guide/indexing.html#returning-a-view-versus-a-copy\n",
      "  questionableEntries.loc[:, 'ORF'] = ''\n"
     ]
    },
    {
     "name": "stdout",
     "output_type": "stream",
     "text": [
      "6(6 hits) of 4065 resolved and returned.\n",
      "-------------\n"
     ]
    },
    {
     "name": "stderr",
     "output_type": "stream",
     "text": [
      "/mnt/z/Uni/Master Thesis/primer-finder/src/orf_finder.py:99: SettingWithCopyWarning: \n",
      "A value is trying to be set on a copy of a slice from a DataFrame.\n",
      "Try using .loc[row_indexer,col_indexer] = value instead\n",
      "\n",
      "See the caveats in the documentation: https://pandas.pydata.org/pandas-docs/stable/user_guide/indexing.html#returning-a-view-versus-a-copy\n",
      "  questionableEntries.loc[:, 'ORF'] = ''\n"
     ]
    },
    {
     "name": "stdout",
     "output_type": "stream",
     "text": [
      "0(0 hits) of 116754 resolved and returned.\n",
      "-------------\n"
     ]
    },
    {
     "name": "stderr",
     "output_type": "stream",
     "text": [
      "/mnt/z/Uni/Master Thesis/primer-finder/src/orf_finder.py:99: SettingWithCopyWarning: \n",
      "A value is trying to be set on a copy of a slice from a DataFrame.\n",
      "Try using .loc[row_indexer,col_indexer] = value instead\n",
      "\n",
      "See the caveats in the documentation: https://pandas.pydata.org/pandas-docs/stable/user_guide/indexing.html#returning-a-view-versus-a-copy\n",
      "  questionableEntries.loc[:, 'ORF'] = ''\n"
     ]
    },
    {
     "name": "stdout",
     "output_type": "stream",
     "text": [
      "0(0 hits) of 4777 resolved and returned.\n",
      "-------------\n"
     ]
    },
    {
     "name": "stderr",
     "output_type": "stream",
     "text": [
      "/mnt/z/Uni/Master Thesis/primer-finder/src/orf_finder.py:99: SettingWithCopyWarning: \n",
      "A value is trying to be set on a copy of a slice from a DataFrame.\n",
      "Try using .loc[row_indexer,col_indexer] = value instead\n",
      "\n",
      "See the caveats in the documentation: https://pandas.pydata.org/pandas-docs/stable/user_guide/indexing.html#returning-a-view-versus-a-copy\n",
      "  questionableEntries.loc[:, 'ORF'] = ''\n"
     ]
    },
    {
     "name": "stdout",
     "output_type": "stream",
     "text": [
      "29(29 hits) of 35808 resolved and returned.\n",
      "-------------\n"
     ]
    },
    {
     "name": "stderr",
     "output_type": "stream",
     "text": [
      "/mnt/z/Uni/Master Thesis/primer-finder/src/orf_finder.py:99: SettingWithCopyWarning: \n",
      "A value is trying to be set on a copy of a slice from a DataFrame.\n",
      "Try using .loc[row_indexer,col_indexer] = value instead\n",
      "\n",
      "See the caveats in the documentation: https://pandas.pydata.org/pandas-docs/stable/user_guide/indexing.html#returning-a-view-versus-a-copy\n",
      "  questionableEntries.loc[:, 'ORF'] = ''\n"
     ]
    },
    {
     "name": "stdout",
     "output_type": "stream",
     "text": [
      "147(147 hits) of 48219 resolved and returned.\n",
      "-------------\n"
     ]
    },
    {
     "name": "stderr",
     "output_type": "stream",
     "text": [
      "/mnt/z/Uni/Master Thesis/primer-finder/src/orf_finder.py:99: SettingWithCopyWarning: \n",
      "A value is trying to be set on a copy of a slice from a DataFrame.\n",
      "Try using .loc[row_indexer,col_indexer] = value instead\n",
      "\n",
      "See the caveats in the documentation: https://pandas.pydata.org/pandas-docs/stable/user_guide/indexing.html#returning-a-view-versus-a-copy\n",
      "  questionableEntries.loc[:, 'ORF'] = ''\n"
     ]
    },
    {
     "name": "stdout",
     "output_type": "stream",
     "text": [
      "0(0 hits) of 11207 resolved and returned.\n",
      "-------------\n"
     ]
    },
    {
     "name": "stderr",
     "output_type": "stream",
     "text": [
      "/mnt/z/Uni/Master Thesis/primer-finder/src/orf_finder.py:99: SettingWithCopyWarning: \n",
      "A value is trying to be set on a copy of a slice from a DataFrame.\n",
      "Try using .loc[row_indexer,col_indexer] = value instead\n",
      "\n",
      "See the caveats in the documentation: https://pandas.pydata.org/pandas-docs/stable/user_guide/indexing.html#returning-a-view-versus-a-copy\n",
      "  questionableEntries.loc[:, 'ORF'] = ''\n"
     ]
    },
    {
     "name": "stdout",
     "output_type": "stream",
     "text": [
      "0(0 hits) of 31339 resolved and returned.\n",
      "-------------\n"
     ]
    },
    {
     "name": "stderr",
     "output_type": "stream",
     "text": [
      "/mnt/z/Uni/Master Thesis/primer-finder/src/orf_finder.py:99: SettingWithCopyWarning: \n",
      "A value is trying to be set on a copy of a slice from a DataFrame.\n",
      "Try using .loc[row_indexer,col_indexer] = value instead\n",
      "\n",
      "See the caveats in the documentation: https://pandas.pydata.org/pandas-docs/stable/user_guide/indexing.html#returning-a-view-versus-a-copy\n",
      "  questionableEntries.loc[:, 'ORF'] = ''\n"
     ]
    },
    {
     "name": "stdout",
     "output_type": "stream",
     "text": [
      "0(0 hits) of 44682 resolved and returned.\n",
      "-------------\n"
     ]
    },
    {
     "ename": "KeyboardInterrupt",
     "evalue": "",
     "output_type": "error",
     "traceback": [
      "\u001B[31m---------------------------------------------------------------------------\u001B[39m",
      "\u001B[31mKeyboardInterrupt\u001B[39m                         Traceback (most recent call last)",
      "\u001B[36mCell\u001B[39m\u001B[36m \u001B[39m\u001B[32mIn[5]\u001B[39m\u001B[32m, line 22\u001B[39m\n\u001B[32m     20\u001B[39m comp_group = comp_group.sample(\u001B[38;5;28mmin\u001B[39m(upper_threshold, group_size))\n\u001B[32m     21\u001B[39m related_entries = remaining_results[remaining_results[level] == level_value]\n\u001B[32m---> \u001B[39m\u001B[32m22\u001B[39m solved = \u001B[43mdecide_orfs\u001B[49m\u001B[43m(\u001B[49m\u001B[43mcomp_group\u001B[49m\u001B[43m,\u001B[49m\u001B[43m \u001B[49m\u001B[43mrelated_entries\u001B[49m\u001B[43m)\u001B[49m\n\u001B[32m     23\u001B[39m solved_results = pd.concat([solved_results, solved], ignore_index=\u001B[38;5;28;01mTrue\u001B[39;00m)\n\u001B[32m     24\u001B[39m remaining_results = remaining_results[~(remaining_results[level] == level_value)]\n",
      "\u001B[36mFile \u001B[39m\u001B[32m/mnt/z/Uni/Master Thesis/primer-finder/src/orf_finder.py:74\u001B[39m, in \u001B[36mdecide_orfs\u001B[39m\u001B[34m(referenceEntries, questionableEntries)\u001B[39m\n\u001B[32m     72\u001B[39m referenceEntries.apply(\u001B[38;5;28;01mlambda\u001B[39;00m x: referenceSequences.append(build_seq_from_pandas_entry(x)), axis=\u001B[32m1\u001B[39m)\n\u001B[32m     73\u001B[39m questionableSequences = []\n\u001B[32m---> \u001B[39m\u001B[32m74\u001B[39m \u001B[43mquestionableEntries\u001B[49m\u001B[43m.\u001B[49m\u001B[43mapply\u001B[49m\u001B[43m(\u001B[49m\u001B[38;5;28;43;01mlambda\u001B[39;49;00m\u001B[43m \u001B[49m\u001B[43mx\u001B[49m\u001B[43m:\u001B[49m\u001B[43m \u001B[49m\u001B[43mquestionableSequences\u001B[49m\u001B[43m.\u001B[49m\u001B[43mappend\u001B[49m\u001B[43m(\u001B[49m\u001B[43mprocess_ambiguous_orf\u001B[49m\u001B[43m(\u001B[49m\u001B[43mx\u001B[49m\u001B[43m)\u001B[49m\u001B[43m)\u001B[49m\u001B[43m,\u001B[49m\u001B[43m \u001B[49m\u001B[43maxis\u001B[49m\u001B[43m=\u001B[49m\u001B[32;43m1\u001B[39;49m\u001B[43m)\u001B[49m\n\u001B[32m     77\u001B[39m longest_ref_seq = \u001B[38;5;28mmax\u001B[39m(\u001B[38;5;28mlen\u001B[39m(seq) \u001B[38;5;28;01mfor\u001B[39;00m seq \u001B[38;5;129;01min\u001B[39;00m referenceSequences)\n\u001B[32m     78\u001B[39m longest_que_seq = \u001B[38;5;28mmax\u001B[39m(\u001B[38;5;28mlen\u001B[39m(seq) \u001B[38;5;28;01mfor\u001B[39;00m seq \u001B[38;5;129;01min\u001B[39;00m questionableSequences)\n",
      "\u001B[36mFile \u001B[39m\u001B[32m~/miniconda3/envs/MA/lib/python3.12/site-packages/pandas/core/frame.py:10374\u001B[39m, in \u001B[36mDataFrame.apply\u001B[39m\u001B[34m(self, func, axis, raw, result_type, args, by_row, engine, engine_kwargs, **kwargs)\u001B[39m\n\u001B[32m  10360\u001B[39m \u001B[38;5;28;01mfrom\u001B[39;00m\u001B[38;5;250m \u001B[39m\u001B[34;01mpandas\u001B[39;00m\u001B[34;01m.\u001B[39;00m\u001B[34;01mcore\u001B[39;00m\u001B[34;01m.\u001B[39;00m\u001B[34;01mapply\u001B[39;00m\u001B[38;5;250m \u001B[39m\u001B[38;5;28;01mimport\u001B[39;00m frame_apply\n\u001B[32m  10362\u001B[39m op = frame_apply(\n\u001B[32m  10363\u001B[39m     \u001B[38;5;28mself\u001B[39m,\n\u001B[32m  10364\u001B[39m     func=func,\n\u001B[32m   (...)\u001B[39m\u001B[32m  10372\u001B[39m     kwargs=kwargs,\n\u001B[32m  10373\u001B[39m )\n\u001B[32m> \u001B[39m\u001B[32m10374\u001B[39m \u001B[38;5;28;01mreturn\u001B[39;00m \u001B[43mop\u001B[49m\u001B[43m.\u001B[49m\u001B[43mapply\u001B[49m\u001B[43m(\u001B[49m\u001B[43m)\u001B[49m.__finalize__(\u001B[38;5;28mself\u001B[39m, method=\u001B[33m\"\u001B[39m\u001B[33mapply\u001B[39m\u001B[33m\"\u001B[39m)\n",
      "\u001B[36mFile \u001B[39m\u001B[32m~/miniconda3/envs/MA/lib/python3.12/site-packages/pandas/core/apply.py:916\u001B[39m, in \u001B[36mFrameApply.apply\u001B[39m\u001B[34m(self)\u001B[39m\n\u001B[32m    913\u001B[39m \u001B[38;5;28;01melif\u001B[39;00m \u001B[38;5;28mself\u001B[39m.raw:\n\u001B[32m    914\u001B[39m     \u001B[38;5;28;01mreturn\u001B[39;00m \u001B[38;5;28mself\u001B[39m.apply_raw(engine=\u001B[38;5;28mself\u001B[39m.engine, engine_kwargs=\u001B[38;5;28mself\u001B[39m.engine_kwargs)\n\u001B[32m--> \u001B[39m\u001B[32m916\u001B[39m \u001B[38;5;28;01mreturn\u001B[39;00m \u001B[38;5;28;43mself\u001B[39;49m\u001B[43m.\u001B[49m\u001B[43mapply_standard\u001B[49m\u001B[43m(\u001B[49m\u001B[43m)\u001B[49m\n",
      "\u001B[36mFile \u001B[39m\u001B[32m~/miniconda3/envs/MA/lib/python3.12/site-packages/pandas/core/apply.py:1063\u001B[39m, in \u001B[36mFrameApply.apply_standard\u001B[39m\u001B[34m(self)\u001B[39m\n\u001B[32m   1061\u001B[39m \u001B[38;5;28;01mdef\u001B[39;00m\u001B[38;5;250m \u001B[39m\u001B[34mapply_standard\u001B[39m(\u001B[38;5;28mself\u001B[39m):\n\u001B[32m   1062\u001B[39m     \u001B[38;5;28;01mif\u001B[39;00m \u001B[38;5;28mself\u001B[39m.engine == \u001B[33m\"\u001B[39m\u001B[33mpython\u001B[39m\u001B[33m\"\u001B[39m:\n\u001B[32m-> \u001B[39m\u001B[32m1063\u001B[39m         results, res_index = \u001B[38;5;28;43mself\u001B[39;49m\u001B[43m.\u001B[49m\u001B[43mapply_series_generator\u001B[49m\u001B[43m(\u001B[49m\u001B[43m)\u001B[49m\n\u001B[32m   1064\u001B[39m     \u001B[38;5;28;01melse\u001B[39;00m:\n\u001B[32m   1065\u001B[39m         results, res_index = \u001B[38;5;28mself\u001B[39m.apply_series_numba()\n",
      "\u001B[36mFile \u001B[39m\u001B[32m~/miniconda3/envs/MA/lib/python3.12/site-packages/pandas/core/apply.py:1081\u001B[39m, in \u001B[36mFrameApply.apply_series_generator\u001B[39m\u001B[34m(self)\u001B[39m\n\u001B[32m   1078\u001B[39m \u001B[38;5;28;01mwith\u001B[39;00m option_context(\u001B[33m\"\u001B[39m\u001B[33mmode.chained_assignment\u001B[39m\u001B[33m\"\u001B[39m, \u001B[38;5;28;01mNone\u001B[39;00m):\n\u001B[32m   1079\u001B[39m     \u001B[38;5;28;01mfor\u001B[39;00m i, v \u001B[38;5;129;01min\u001B[39;00m \u001B[38;5;28menumerate\u001B[39m(series_gen):\n\u001B[32m   1080\u001B[39m         \u001B[38;5;66;03m# ignore SettingWithCopy here in case the user mutates\u001B[39;00m\n\u001B[32m-> \u001B[39m\u001B[32m1081\u001B[39m         results[i] = \u001B[38;5;28;43mself\u001B[39;49m\u001B[43m.\u001B[49m\u001B[43mfunc\u001B[49m\u001B[43m(\u001B[49m\u001B[43mv\u001B[49m\u001B[43m,\u001B[49m\u001B[43m \u001B[49m\u001B[43m*\u001B[49m\u001B[38;5;28;43mself\u001B[39;49m\u001B[43m.\u001B[49m\u001B[43margs\u001B[49m\u001B[43m,\u001B[49m\u001B[43m \u001B[49m\u001B[43m*\u001B[49m\u001B[43m*\u001B[49m\u001B[38;5;28;43mself\u001B[39;49m\u001B[43m.\u001B[49m\u001B[43mkwargs\u001B[49m\u001B[43m)\u001B[49m\n\u001B[32m   1082\u001B[39m         \u001B[38;5;28;01mif\u001B[39;00m \u001B[38;5;28misinstance\u001B[39m(results[i], ABCSeries):\n\u001B[32m   1083\u001B[39m             \u001B[38;5;66;03m# If we have a view on v, we need to make a copy because\u001B[39;00m\n\u001B[32m   1084\u001B[39m             \u001B[38;5;66;03m#  series_generator will swap out the underlying data\u001B[39;00m\n\u001B[32m   1085\u001B[39m             results[i] = results[i].copy(deep=\u001B[38;5;28;01mFalse\u001B[39;00m)\n",
      "\u001B[36mFile \u001B[39m\u001B[32m/mnt/z/Uni/Master Thesis/primer-finder/src/orf_finder.py:74\u001B[39m, in \u001B[36mdecide_orfs.<locals>.<lambda>\u001B[39m\u001B[34m(x)\u001B[39m\n\u001B[32m     72\u001B[39m referenceEntries.apply(\u001B[38;5;28;01mlambda\u001B[39;00m x: referenceSequences.append(build_seq_from_pandas_entry(x)), axis=\u001B[32m1\u001B[39m)\n\u001B[32m     73\u001B[39m questionableSequences = []\n\u001B[32m---> \u001B[39m\u001B[32m74\u001B[39m questionableEntries.apply(\u001B[38;5;28;01mlambda\u001B[39;00m x: questionableSequences.append(\u001B[43mprocess_ambiguous_orf\u001B[49m\u001B[43m(\u001B[49m\u001B[43mx\u001B[49m\u001B[43m)\u001B[49m), axis=\u001B[32m1\u001B[39m)\n\u001B[32m     77\u001B[39m longest_ref_seq = \u001B[38;5;28mmax\u001B[39m(\u001B[38;5;28mlen\u001B[39m(seq) \u001B[38;5;28;01mfor\u001B[39;00m seq \u001B[38;5;129;01min\u001B[39;00m referenceSequences)\n\u001B[32m     78\u001B[39m longest_que_seq = \u001B[38;5;28mmax\u001B[39m(\u001B[38;5;28mlen\u001B[39m(seq) \u001B[38;5;28;01mfor\u001B[39;00m seq \u001B[38;5;129;01min\u001B[39;00m questionableSequences)\n",
      "\u001B[36mFile \u001B[39m\u001B[32m/mnt/z/Uni/Master Thesis/primer-finder/src/orf_finder.py:130\u001B[39m, in \u001B[36mprocess_ambiguous_orf\u001B[39m\u001B[34m(entry)\u001B[39m\n\u001B[32m    126\u001B[39m dna = add_trailing_n(dna)\n\u001B[32m    127\u001B[39m protein = dna.translate(table=\u001B[32m5\u001B[39m)\n\u001B[32m    129\u001B[39m text_seq = pyhmmer.easel.TextSequence(name=(entry[\u001B[33m\"\u001B[39m\u001B[33mRead ID\u001B[39m\u001B[33m\"\u001B[39m].encode() + \u001B[33mb\u001B[39m\u001B[33m\"\u001B[39m\u001B[33m_\u001B[39m\u001B[33m\"\u001B[39m + \u001B[38;5;28mstr\u001B[39m(possible_orf).encode()),\n\u001B[32m--> \u001B[39m\u001B[32m130\u001B[39m                                      sequence=\u001B[38;5;28;43mstr\u001B[39;49m\u001B[43m(\u001B[49m\u001B[43mprotein\u001B[49m\u001B[43m)\u001B[49m)\n\u001B[32m    131\u001B[39m \u001B[38;5;28;01mreturn\u001B[39;00m text_seq\n",
      "\u001B[31mKeyboardInterrupt\u001B[39m: "
     ]
    }
   ],
   "execution_count": 5
  },
  {
   "metadata": {
    "ExecuteTime": {
     "end_time": "2025-03-29T10:37:20.015069800Z",
     "start_time": "2025-03-27T14:33:58.386562Z"
    }
   },
   "cell_type": "code",
   "source": "solved",
   "id": "b9263adbd4b1b09e",
   "outputs": [
    {
     "data": {
      "text/plain": [
       "         BOLD ID        Read ID        Country            Phylum      Class  \\\n",
       "0  >BOLD:ACK8681   GBDP25177-19            NaN  tax=p:Arthropoda  c:Insecta   \n",
       "1  >BOLD:ADU6313   GBDP25169-19            NaN  tax=p:Arthropoda  c:Insecta   \n",
       "2  >BOLD:ABY4253    BBDIT149-11  United_States  tax=p:Arthropoda  c:Insecta   \n",
       "3  >BOLD:ABY4253    BBDIT154-11  United_States  tax=p:Arthropoda  c:Insecta   \n",
       "4  >BOLD:ABY4253  GBMNF29933-22            NaN  tax=p:Arthropoda  c:Insecta   \n",
       "5  >BOLD:ABY4253  GBMNF29935-22            NaN  tax=p:Arthropoda  c:Insecta   \n",
       "\n",
       "       Order       Family       Genus              Species f_score  \\\n",
       "0  o:Diptera  f:Tabanidae  g:Atylotus   s:Atylotus_diurnus       0   \n",
       "1  o:Diptera  f:Tabanidae   g:Tabanus        s:Tabanus_par      50   \n",
       "2  o:Diptera  f:Tabanidae   g:Tabanus      s:Tabanus_mixus      50   \n",
       "3  o:Diptera  f:Tabanidae   g:Tabanus      s:Tabanus_mixus      50   \n",
       "4  o:Diptera  f:Tabanidae   g:Tabanus  s:Tabanus_moderator      50   \n",
       "5  o:Diptera  f:Tabanidae   g:Tabanus  s:Tabanus_moderator      50   \n",
       "\n",
       "                       f_match f_index b_score                  b_match  \\\n",
       "0                          nan     286      46  CCAGTATTAGCTGGAGCTATTAC   \n",
       "1  GGTACTGGATTGAACAGTATACCCCCC     283      40  CTAGAACTAGCAGGAGCTATTAC   \n",
       "2  GGAACTGGATGAACAGTTTACCCGCCC     319      43  CCTGTATTAGCAGGAGCCATTAC   \n",
       "3  GGAACTGGATGAACAGTTTACCCGCCC     319      43  CCTGTATTAGCAGGAGCCATTAC   \n",
       "4  GGAACTGGATGAACAGTTTACCCGCCC     306      43  CCTGTATTAGCAGGAGCCATTAC   \n",
       "5  GGAACTGGATGAACAGTTTACCCGCCC     306      43  CCTGTATTAGCAGGAGCCATTAC   \n",
       "\n",
       "  b_index                                               read possible_orfs  \\\n",
       "0     452  TTAGCAATTTTCTCTTTACACCTAGCAGGAATTTCATCTATTTTAG...        [1, 2]   \n",
       "1     514  TCTATCTGCAGCAATCGCCCATGGTGGAGGATCAGTTCATTTAGCA...        [1, 2]   \n",
       "2     550  CTATCTGCTGCAATTGCTCATGGAGGAGGATCAGTTGATTTAGCAA...        [1, 2]   \n",
       "3     550  CTATCTGCTGCAATTGCTCATGGAGGAGGATCAGTTGATTTAGCAA...        [1, 2]   \n",
       "4     537  CTATCTGCTGCAATTGCTCATGGAGGAGGATCAGTTGATTTAGCAA...        [1, 2]   \n",
       "5     537  CTATCTGCTGCAATTGCTCATGGAGGAGGATCAGTTGATTTAGCAA...        [1, 2]   \n",
       "\n",
       "  region_length ORF  \n",
       "0           166   1  \n",
       "1           204   1  \n",
       "2           204   1  \n",
       "3           204   1  \n",
       "4           204   1  \n",
       "5           204   1  "
      ],
      "text/html": [
       "<div>\n",
       "<style scoped>\n",
       "    .dataframe tbody tr th:only-of-type {\n",
       "        vertical-align: middle;\n",
       "    }\n",
       "\n",
       "    .dataframe tbody tr th {\n",
       "        vertical-align: top;\n",
       "    }\n",
       "\n",
       "    .dataframe thead th {\n",
       "        text-align: right;\n",
       "    }\n",
       "</style>\n",
       "<table border=\"1\" class=\"dataframe\">\n",
       "  <thead>\n",
       "    <tr style=\"text-align: right;\">\n",
       "      <th></th>\n",
       "      <th>BOLD ID</th>\n",
       "      <th>Read ID</th>\n",
       "      <th>Country</th>\n",
       "      <th>Phylum</th>\n",
       "      <th>Class</th>\n",
       "      <th>Order</th>\n",
       "      <th>Family</th>\n",
       "      <th>Genus</th>\n",
       "      <th>Species</th>\n",
       "      <th>f_score</th>\n",
       "      <th>f_match</th>\n",
       "      <th>f_index</th>\n",
       "      <th>b_score</th>\n",
       "      <th>b_match</th>\n",
       "      <th>b_index</th>\n",
       "      <th>read</th>\n",
       "      <th>possible_orfs</th>\n",
       "      <th>region_length</th>\n",
       "      <th>ORF</th>\n",
       "    </tr>\n",
       "  </thead>\n",
       "  <tbody>\n",
       "    <tr>\n",
       "      <th>0</th>\n",
       "      <td>&gt;BOLD:ACK8681</td>\n",
       "      <td>GBDP25177-19</td>\n",
       "      <td>NaN</td>\n",
       "      <td>tax=p:Arthropoda</td>\n",
       "      <td>c:Insecta</td>\n",
       "      <td>o:Diptera</td>\n",
       "      <td>f:Tabanidae</td>\n",
       "      <td>g:Atylotus</td>\n",
       "      <td>s:Atylotus_diurnus</td>\n",
       "      <td>0</td>\n",
       "      <td>nan</td>\n",
       "      <td>286</td>\n",
       "      <td>46</td>\n",
       "      <td>CCAGTATTAGCTGGAGCTATTAC</td>\n",
       "      <td>452</td>\n",
       "      <td>TTAGCAATTTTCTCTTTACACCTAGCAGGAATTTCATCTATTTTAG...</td>\n",
       "      <td>[1, 2]</td>\n",
       "      <td>166</td>\n",
       "      <td>1</td>\n",
       "    </tr>\n",
       "    <tr>\n",
       "      <th>1</th>\n",
       "      <td>&gt;BOLD:ADU6313</td>\n",
       "      <td>GBDP25169-19</td>\n",
       "      <td>NaN</td>\n",
       "      <td>tax=p:Arthropoda</td>\n",
       "      <td>c:Insecta</td>\n",
       "      <td>o:Diptera</td>\n",
       "      <td>f:Tabanidae</td>\n",
       "      <td>g:Tabanus</td>\n",
       "      <td>s:Tabanus_par</td>\n",
       "      <td>50</td>\n",
       "      <td>GGTACTGGATTGAACAGTATACCCCCC</td>\n",
       "      <td>283</td>\n",
       "      <td>40</td>\n",
       "      <td>CTAGAACTAGCAGGAGCTATTAC</td>\n",
       "      <td>514</td>\n",
       "      <td>TCTATCTGCAGCAATCGCCCATGGTGGAGGATCAGTTCATTTAGCA...</td>\n",
       "      <td>[1, 2]</td>\n",
       "      <td>204</td>\n",
       "      <td>1</td>\n",
       "    </tr>\n",
       "    <tr>\n",
       "      <th>2</th>\n",
       "      <td>&gt;BOLD:ABY4253</td>\n",
       "      <td>BBDIT149-11</td>\n",
       "      <td>United_States</td>\n",
       "      <td>tax=p:Arthropoda</td>\n",
       "      <td>c:Insecta</td>\n",
       "      <td>o:Diptera</td>\n",
       "      <td>f:Tabanidae</td>\n",
       "      <td>g:Tabanus</td>\n",
       "      <td>s:Tabanus_mixus</td>\n",
       "      <td>50</td>\n",
       "      <td>GGAACTGGATGAACAGTTTACCCGCCC</td>\n",
       "      <td>319</td>\n",
       "      <td>43</td>\n",
       "      <td>CCTGTATTAGCAGGAGCCATTAC</td>\n",
       "      <td>550</td>\n",
       "      <td>CTATCTGCTGCAATTGCTCATGGAGGAGGATCAGTTGATTTAGCAA...</td>\n",
       "      <td>[1, 2]</td>\n",
       "      <td>204</td>\n",
       "      <td>1</td>\n",
       "    </tr>\n",
       "    <tr>\n",
       "      <th>3</th>\n",
       "      <td>&gt;BOLD:ABY4253</td>\n",
       "      <td>BBDIT154-11</td>\n",
       "      <td>United_States</td>\n",
       "      <td>tax=p:Arthropoda</td>\n",
       "      <td>c:Insecta</td>\n",
       "      <td>o:Diptera</td>\n",
       "      <td>f:Tabanidae</td>\n",
       "      <td>g:Tabanus</td>\n",
       "      <td>s:Tabanus_mixus</td>\n",
       "      <td>50</td>\n",
       "      <td>GGAACTGGATGAACAGTTTACCCGCCC</td>\n",
       "      <td>319</td>\n",
       "      <td>43</td>\n",
       "      <td>CCTGTATTAGCAGGAGCCATTAC</td>\n",
       "      <td>550</td>\n",
       "      <td>CTATCTGCTGCAATTGCTCATGGAGGAGGATCAGTTGATTTAGCAA...</td>\n",
       "      <td>[1, 2]</td>\n",
       "      <td>204</td>\n",
       "      <td>1</td>\n",
       "    </tr>\n",
       "    <tr>\n",
       "      <th>4</th>\n",
       "      <td>&gt;BOLD:ABY4253</td>\n",
       "      <td>GBMNF29933-22</td>\n",
       "      <td>NaN</td>\n",
       "      <td>tax=p:Arthropoda</td>\n",
       "      <td>c:Insecta</td>\n",
       "      <td>o:Diptera</td>\n",
       "      <td>f:Tabanidae</td>\n",
       "      <td>g:Tabanus</td>\n",
       "      <td>s:Tabanus_moderator</td>\n",
       "      <td>50</td>\n",
       "      <td>GGAACTGGATGAACAGTTTACCCGCCC</td>\n",
       "      <td>306</td>\n",
       "      <td>43</td>\n",
       "      <td>CCTGTATTAGCAGGAGCCATTAC</td>\n",
       "      <td>537</td>\n",
       "      <td>CTATCTGCTGCAATTGCTCATGGAGGAGGATCAGTTGATTTAGCAA...</td>\n",
       "      <td>[1, 2]</td>\n",
       "      <td>204</td>\n",
       "      <td>1</td>\n",
       "    </tr>\n",
       "    <tr>\n",
       "      <th>5</th>\n",
       "      <td>&gt;BOLD:ABY4253</td>\n",
       "      <td>GBMNF29935-22</td>\n",
       "      <td>NaN</td>\n",
       "      <td>tax=p:Arthropoda</td>\n",
       "      <td>c:Insecta</td>\n",
       "      <td>o:Diptera</td>\n",
       "      <td>f:Tabanidae</td>\n",
       "      <td>g:Tabanus</td>\n",
       "      <td>s:Tabanus_moderator</td>\n",
       "      <td>50</td>\n",
       "      <td>GGAACTGGATGAACAGTTTACCCGCCC</td>\n",
       "      <td>306</td>\n",
       "      <td>43</td>\n",
       "      <td>CCTGTATTAGCAGGAGCCATTAC</td>\n",
       "      <td>537</td>\n",
       "      <td>CTATCTGCTGCAATTGCTCATGGAGGAGGATCAGTTGATTTAGCAA...</td>\n",
       "      <td>[1, 2]</td>\n",
       "      <td>204</td>\n",
       "      <td>1</td>\n",
       "    </tr>\n",
       "  </tbody>\n",
       "</table>\n",
       "</div>"
      ]
     },
     "execution_count": 11,
     "metadata": {},
     "output_type": "execute_result"
    }
   ],
   "execution_count": 11
  }
 ],
 "metadata": {
  "kernelspec": {
   "display_name": "Python 3",
   "language": "python",
   "name": "python3"
  },
  "language_info": {
   "codemirror_mode": {
    "name": "ipython",
    "version": 2
   },
   "file_extension": ".py",
   "mimetype": "text/x-python",
   "name": "python",
   "nbconvert_exporter": "python",
   "pygments_lexer": "ipython2",
   "version": "2.7.6"
  }
 },
 "nbformat": 4,
 "nbformat_minor": 5
}
