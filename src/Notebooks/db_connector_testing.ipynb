{
 "cells": [
  {
   "cell_type": "code",
   "id": "initial_id",
   "metadata": {
    "collapsed": true,
    "ExecuteTime": {
     "end_time": "2025-04-18T17:18:07.204849Z",
     "start_time": "2025-04-18T17:18:07.027064Z"
    }
   },
   "source": [
    "from src.primer_matching.connectors.db_connector import DbConnector\n",
    "\n",
    "database = \"/mnt/c/Users/JulianVu/PycharmProjects/eyeBOLD/my_db.db\"\n",
    "table = \"specimen\"\n",
    "\n",
    "connector = DbConnector(database, table)"
   ],
   "outputs": [],
   "execution_count": 1
  }
 ],
 "metadata": {
  "kernelspec": {
   "display_name": "Python 3",
   "language": "python",
   "name": "python3"
  },
  "language_info": {
   "codemirror_mode": {
    "name": "ipython",
    "version": 2
   },
   "file_extension": ".py",
   "mimetype": "text/x-python",
   "name": "python",
   "nbconvert_exporter": "python",
   "pygments_lexer": "ipython2",
   "version": "2.7.6"
  }
 },
 "nbformat": 4,
 "nbformat_minor": 5
}
