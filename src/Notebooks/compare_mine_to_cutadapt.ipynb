{
 "cells": [
  {
   "cell_type": "markdown",
   "source": [
    "# Definitions"
   ],
   "metadata": {
    "collapsed": false
   }
  },
  {
   "cell_type": "code",
   "metadata": {
    "collapsed": true,
    "ExecuteTime": {
     "end_time": "2025-02-01T16:31:16.758240Z",
     "start_time": "2025-02-01T16:31:13.240728Z"
    }
   },
   "source": [
    "import pandas as pd\n",
    "\n",
    "def fasta_to_dataframe(fasta_file):\n",
    "    headers = []\n",
    "    sequences = []\n",
    "    with open(fasta_file, 'r') as f:\n",
    "        current_sequence = []\n",
    "        current_header = None\n",
    "        for line in f:\n",
    "            line = line.strip()\n",
    "            if line.startswith('>'):  # Header line\n",
    "                if current_header is not None:\n",
    "                    # Save the previous sequence\n",
    "                    headers.append(current_header)\n",
    "                    sequences.append(''.join(current_sequence))\n",
    "                current_header = line[1:]  # Remove '>'\n",
    "                current_sequence = []\n",
    "            else:\n",
    "                current_sequence.append(line)\n",
    "        # Add the last sequence\n",
    "        if current_header is not None:\n",
    "            headers.append(current_header)\n",
    "            sequences.append(''.join(current_sequence))\n",
    "    # Create a DataFrame\n",
    "    return pd.DataFrame({'Header': headers, 'Sequence': sequences})"
   ],
   "outputs": [],
   "execution_count": 1
  },
  {
   "cell_type": "markdown",
   "source": "## Read and Format FASTA file",
   "metadata": {
    "collapsed": false
   }
  },
  {
   "cell_type": "code",
   "source": [
    "fasta_file = \"../../data/DB.COX1.trimmed.fna\"\n",
    "cutadapt_result = fasta_to_dataframe(fasta_file)\n",
    "\n",
    "cutadapt_result[['BOLD Metadata', 'Taxonomy']] = cutadapt_result['Header'].str.split(';', n=1, expand=True)\n",
    "cutadapt_result[['BOLD ID', 'Read ID', 'Country']] = cutadapt_result['BOLD Metadata'].str.split('|', n=2, expand=True)\n",
    "cutadapt_result['BOLD ID'] = cutadapt_result['BOLD ID'].str.removeprefix('BOLD:')\n",
    "\n",
    "tax_columns = ['Phylum', 'Class', 'Order', 'Family', 'Genus', 'Species']\n",
    "cutadapt_result[tax_columns] = cutadapt_result['Taxonomy'].str.extract(\n",
    "    r'p:([^,]+),c:([^,]+),o:([^,]+),f:([^,]+),g:([^,]+),s:([^;]+)'\n",
    ")\n",
    "\n",
    "cutadapt_result = cutadapt_result.drop(columns=['Header', 'BOLD Metadata', 'Taxonomy'])\n",
    "print(cutadapt_result.head())"
   ],
   "metadata": {
    "collapsed": false,
    "ExecuteTime": {
     "end_time": "2025-02-01T16:31:38.592427Z",
     "start_time": "2025-02-01T16:31:16.774130Z"
    }
   },
   "outputs": [
    {
     "name": "stdout",
     "output_type": "stream",
     "text": [
      "                                            Sequence  BOLD ID       Read ID  \\\n",
      "0  TTTATCCTCTAACATTGCTCATGGAGGGTCTTCTGTAGATCTAGCT...  AAA7085  BLPDA1021-18   \n",
      "1  TTTATCCTCTAACATTGCTCATGGAGGGTCTTCTGTAGATCTAGCT...  AAA7085  MHMYN6354-14   \n",
      "2  TTTATCCTCTAACATTGCTCATGGAGGGTCTTCTGTAGATCTAGCT...  AAA7085   MHASB734-07   \n",
      "3  TTTATCCTCTAACATTGCTCATGGAGGGTCTTCTGTAGATCTAGCT...  AAA7085   MHATB310-06   \n",
      "4  TTTATCCTCTAACATTGCTCATGGAGGGTCTTCTGTAGATCTAGCT...  AAA7085  BLPAA6663-17   \n",
      "\n",
      "      Country      Phylum    Class        Order       Family    Genus  \\\n",
      "0  Costa_Rica  Arthropoda  Insecta  Lepidoptera  Saturniidae  Lonomia   \n",
      "1  Costa_Rica  Arthropoda  Insecta  Lepidoptera  Saturniidae  Lonomia   \n",
      "2  Costa_Rica  Arthropoda  Insecta  Lepidoptera  Saturniidae  Lonomia   \n",
      "3  Costa_Rica  Arthropoda  Insecta  Lepidoptera  Saturniidae  Lonomia   \n",
      "4  Costa_Rica  Arthropoda  Insecta  Lepidoptera  Saturniidae  Lonomia   \n",
      "\n",
      "                 Species  \n",
      "0  Lonomia_santarosensis  \n",
      "1  Lonomia_santarosensis  \n",
      "2  Lonomia_santarosensis  \n",
      "3  Lonomia_santarosensis  \n",
      "4  Lonomia_santarosensis  \n"
     ]
    }
   ],
   "execution_count": 2
  },
  {
   "metadata": {},
   "cell_type": "markdown",
   "source": "## Reading my Result"
  },
  {
   "cell_type": "code",
   "source": [
    "my_result = pd.read_csv(\"../../data/current/primer-finder-fixed3.csv\", sep=\";\")\n",
    "\n",
    "my_result['f_index'] = my_result['f_index'].astype(int)\n",
    "my_result['b_index'] = my_result['b_index'].astype(int)\n",
    "my_result['f_match'] = my_result['f_match'].astype(str)\n",
    "\n",
    "my_result['region'] = my_result.apply(lambda x: x['read'][(x['f_index'] + len(x['f_match'])):x['b_index']], axis=1)\n",
    "my_result['region_length'] = my_result['region'].str.len()\n",
    "print(my_result.head())"
   ],
   "metadata": {
    "collapsed": false,
    "ExecuteTime": {
     "end_time": "2025-02-01T16:32:35.322922Z",
     "start_time": "2025-02-01T16:31:39.336421Z"
    }
   },
   "outputs": [
    {
     "name": "stdout",
     "output_type": "stream",
     "text": [
      "         BOLD ID       Read ID     Country            Phylum      Class  \\\n",
      "0  >BOLD:AAA7085  BLPDA1021-18  Costa_Rica  tax=p:Arthropoda  c:Insecta   \n",
      "1  >BOLD:AAA7085  MHMYN6354-14  Costa_Rica  tax=p:Arthropoda  c:Insecta   \n",
      "2  >BOLD:AAA7085   MHASB734-07  Costa_Rica  tax=p:Arthropoda  c:Insecta   \n",
      "3  >BOLD:AAA7085   MHATB310-06  Costa_Rica  tax=p:Arthropoda  c:Insecta   \n",
      "4  >BOLD:AAA7085  BLPAA6663-17  Costa_Rica  tax=p:Arthropoda  c:Insecta   \n",
      "\n",
      "           Order         Family      Genus                  Species  f_score  \\\n",
      "0  o:Lepidoptera  f:Saturniidae  g:Lonomia  s:Lonomia_santarosensis       49   \n",
      "1  o:Lepidoptera  f:Saturniidae  g:Lonomia  s:Lonomia_santarosensis       49   \n",
      "2  o:Lepidoptera  f:Saturniidae  g:Lonomia  s:Lonomia_santarosensis       49   \n",
      "3  o:Lepidoptera  f:Saturniidae  g:Lonomia  s:Lonomia_santarosensis       49   \n",
      "4  o:Lepidoptera  f:Saturniidae  g:Lonomia  s:Lonomia_santarosensis       49   \n",
      "\n",
      "                      f_match  f_index  b_score                  b_match  \\\n",
      "0  GGAACAGGATGAACGGTATACCCTCC      305       46  CCTGTTTTAGCAGGAGCTATTAC   \n",
      "1  GGAACAGGATGAACGGTATACCCTCC      319       46  CCTGTTTTAGCAGGAGCTATTAC   \n",
      "2  GGAACAGGATGAACGGTATACCCTCC      319       46  CCTGTTTTAGCAGGAGCTATTAC   \n",
      "3  GGAACAGGATGAACGGTATACCCTCC      319       46  CCTGTTTTAGCAGGAGCTATTAC   \n",
      "4  GGAACAGGATGAACGGTATACCCTCC      319       46  CCTGTTTTAGCAGGAGCTATTAC   \n",
      "\n",
      "   b_index                                               read  \\\n",
      "0      536  TCTTTGGAATTTGGGCAGGAATAGTAGGAACTTCTTTAAGTTTATT...   \n",
      "1      550  TACTTTATATTTTATCTTTGGAATTTGGGCAGGAATAGTAGGAACT...   \n",
      "2      550  TACTTTATATTTTATCTTTGGAATTTGGGCAGGAATAGTAGGAACT...   \n",
      "3      550  TACTTTATATTTTATCTTTGGAATTTGGGCAGGAATAGTAGGAACT...   \n",
      "4      550  TACTTTATATTTTATCTTTGGAATTTGGGCAGGAATAGTAGGAACT...   \n",
      "\n",
      "                                              region  region_length  \n",
      "0  TTTATCCTCTAACATTGCTCATGGAGGGTCTTCTGTAGATCTAGCT...            205  \n",
      "1  TTTATCCTCTAACATTGCTCATGGAGGGTCTTCTGTAGATCTAGCT...            205  \n",
      "2  TTTATCCTCTAACATTGCTCATGGAGGGTCTTCTGTAGATCTAGCT...            205  \n",
      "3  TTTATCCTCTAACATTGCTCATGGAGGGTCTTCTGTAGATCTAGCT...            205  \n",
      "4  TTTATCCTCTAACATTGCTCATGGAGGGTCTTCTGTAGATCTAGCT...            205  \n"
     ]
    }
   ],
   "execution_count": 3
  },
  {
   "metadata": {},
   "cell_type": "markdown",
   "source": [
    "## Compare Mine and Cutadapt\n",
    "* result of my perfect matches with cutadapt result\n",
    "* filter all which dont exist in cutadapt\n",
    "* what else?"
   ]
  },
  {
   "metadata": {},
   "cell_type": "markdown",
   "source": "#### Are there any areas which differ for perfect matches?"
  },
  {
   "metadata": {
    "ExecuteTime": {
     "end_time": "2025-02-01T16:32:37.429389Z",
     "start_time": "2025-02-01T16:32:35.367370Z"
    }
   },
   "cell_type": "code",
   "source": [
    "perfect_matches = my_result[~((my_result['f_score'] != 52) | (my_result['b_score'] != 46))]\n",
    "filtered_df = cutadapt_result[cutadapt_result['Read ID'].isin(perfect_matches['Read ID'])]"
   ],
   "outputs": [],
   "execution_count": 4
  },
  {
   "metadata": {
    "ExecuteTime": {
     "end_time": "2025-02-01T16:32:37.473758Z",
     "start_time": "2025-02-01T16:32:37.460386Z"
    }
   },
   "cell_type": "code",
   "source": [
    "print(f'Perfect matches: {perfect_matches.shape[0]}')\n",
    "print(f'Perfect matches found in cutadapt result: {filtered_df.shape[0]}')\n",
    "\n",
    "dif = perfect_matches.shape[0] - filtered_df.shape[0]\n",
    "print(f'Diff: {dif}, or {dif / perfect_matches.shape[0] * 100}% were not found in the cutadapt result.\\n')"
   ],
   "outputs": [
    {
     "name": "stdout",
     "output_type": "stream",
     "text": [
      "Perfect matches: 898561\n",
      "Perfect matches found in cutadapt result: 898561\n",
      "Diff: 0, or 0.0% were not found in the cutadapt result.\n",
      "\n"
     ]
    }
   ],
   "execution_count": 5
  },
  {
   "metadata": {
    "ExecuteTime": {
     "end_time": "2025-02-01T16:32:39.322143Z",
     "start_time": "2025-02-01T16:32:37.518470Z"
    }
   },
   "cell_type": "code",
   "source": [
    "merged_df = filtered_df[['Read ID', 'Sequence']].merge(\n",
    "    perfect_matches[['Read ID', 'region']],\n",
    "    on='Read ID',\n",
    "    how='inner'\n",
    ").rename(columns={\n",
    "    'Sequence': 'ca_sequence',\n",
    "    'region': 'my_sequence'\n",
    "})\n",
    "different_sequences = merged_df[~(merged_df['ca_sequence'] == merged_df['my_sequence'])]\n",
    "print(different_sequences.shape[0])\n",
    "print(different_sequences.head())"
   ],
   "outputs": [
    {
     "name": "stdout",
     "output_type": "stream",
     "text": [
      "28\n",
      "              Read ID                                        ca_sequence  \\\n",
      "153755  GBMNE23810-21  TTTATCTGGAGGTATTGCCCATGGGGGTGCTTCCGTAGATTTAGCT...   \n",
      "684885    NEPTA859-13  CTTATCAGCAAATATTGCTCATAGTGGTAGATCAGTTGATTTAGCA...   \n",
      "684898    NEPTA862-13  CTTATCAGCAAATATTGCTCATAGTGGTAGATCAGTTGATTTAGCA...   \n",
      "696620    GCOL7710-16  TTTATCTTCTAATATTACTCATAGAGGAGCTTCTGTTGATTTAGCT...   \n",
      "696621    GENHP169-11  TTTATCTTCTAATATTACTCATAGAGGAGCTTCTGTTGATTTAGCT...   \n",
      "\n",
      "                                              my_sequence  \n",
      "153755  TTTATCTGGAGGTATTGCCCATGGGGGTGCTTCCGTAGATTTAGCT...  \n",
      "684885  CTTATCAGCAAATATTGCTCATAGTGGTAGATCAGTTGATTTAGCA...  \n",
      "684898  CTTATCAGCAAATATTGCTCATAGTGGTAGATCAGTTGATTTAGCA...  \n",
      "696620  TTTATCTTCTAATATTACTCATAGAGGAGCTTCTGTTGATTTAGCT...  \n",
      "696621  TTTATCTTCTAATATTACTCATAGAGGAGCTTCTGTTGATTTAGCT...  \n"
     ]
    }
   ],
   "execution_count": 6
  },
  {
   "metadata": {
    "ExecuteTime": {
     "end_time": "2025-02-01T16:32:39.466417Z",
     "start_time": "2025-02-01T16:32:39.452656Z"
    }
   },
   "cell_type": "code",
   "source": [
    "different_sequences['ca_length'] = different_sequences['ca_sequence'].str.len()\n",
    "different_sequences['my_length'] = different_sequences['my_sequence'].str.len()\n",
    "# 28 / 898561 * 100"
   ],
   "outputs": [
    {
     "name": "stderr",
     "output_type": "stream",
     "text": [
      "C:\\Users\\Julian\\AppData\\Local\\Temp\\ipykernel_2936\\3086744800.py:1: SettingWithCopyWarning: \n",
      "A value is trying to be set on a copy of a slice from a DataFrame.\n",
      "Try using .loc[row_indexer,col_indexer] = value instead\n",
      "\n",
      "See the caveats in the documentation: https://pandas.pydata.org/pandas-docs/stable/user_guide/indexing.html#returning-a-view-versus-a-copy\n",
      "  different_sequences['ca_length'] = different_sequences['ca_sequence'].str.len()\n",
      "C:\\Users\\Julian\\AppData\\Local\\Temp\\ipykernel_2936\\3086744800.py:2: SettingWithCopyWarning: \n",
      "A value is trying to be set on a copy of a slice from a DataFrame.\n",
      "Try using .loc[row_indexer,col_indexer] = value instead\n",
      "\n",
      "See the caveats in the documentation: https://pandas.pydata.org/pandas-docs/stable/user_guide/indexing.html#returning-a-view-versus-a-copy\n",
      "  different_sequences['my_length'] = different_sequences['my_sequence'].str.len()\n"
     ]
    }
   ],
   "execution_count": 7
  },
  {
   "metadata": {},
   "cell_type": "markdown",
   "source": "#### why do those (28) entires fail with cutadapt?"
  },
  {
   "metadata": {
    "ExecuteTime": {
     "end_time": "2025-02-01T16:32:39.717275Z",
     "start_time": "2025-02-01T16:32:39.485418Z"
    }
   },
   "cell_type": "code",
   "source": [
    "perfect_failed = my_result[my_result['Read ID'].isin(different_sequences['Read ID'])]\n",
    "perfect_failed = different_sequences.merge(\n",
    "    perfect_failed,\n",
    "    on='Read ID',\n",
    "    how='inner'\n",
    ").drop(columns=['region', 'region_length'])"
   ],
   "outputs": [],
   "execution_count": 8
  },
  {
   "metadata": {
    "ExecuteTime": {
     "end_time": "2025-02-01T16:32:39.789879Z",
     "start_time": "2025-02-01T16:32:39.751367Z"
    }
   },
   "cell_type": "code",
   "source": "perfect_failed.to_csv('../../data/current/perfect_failed.csv', index=False)",
   "outputs": [],
   "execution_count": 9
  },
  {
   "metadata": {},
   "cell_type": "markdown",
   "source": "#### whats up with my bad results?"
  },
  {
   "metadata": {
    "ExecuteTime": {
     "end_time": "2025-02-01T16:33:21.281365Z",
     "start_time": "2025-02-01T16:32:39.818876Z"
    }
   },
   "cell_type": "code",
   "source": [
    "should_be_good = my_result[~((my_result['f_score'] != 52) & (my_result['b_score'] != 46))]\n",
    "filtered_df2 = cutadapt_result[cutadapt_result['Read ID'].isin(should_be_good['Read ID'])]\n",
    "merged_df2 = should_be_good.merge(\n",
    "    filtered_df2,\n",
    "    on='Read ID',\n",
    "    how='inner'\n",
    ").rename(columns={\n",
    "    'Sequence': 'ca_sequence',\n",
    "    'region': 'my_sequence'\n",
    "})"
   ],
   "outputs": [],
   "execution_count": 10
  },
  {
   "metadata": {
    "ExecuteTime": {
     "end_time": "2025-02-01T16:33:22.630310Z",
     "start_time": "2025-02-01T16:33:21.455063Z"
    }
   },
   "cell_type": "code",
   "source": [
    "merged_df2['ca_length'] = merged_df2['ca_sequence'].str.len()\n",
    "merged_df2['my_length'] = merged_df2['my_sequence'].str.len()"
   ],
   "outputs": [],
   "execution_count": 11
  },
  {
   "metadata": {
    "ExecuteTime": {
     "end_time": "2025-02-01T17:21:02.922462Z",
     "start_time": "2025-02-01T17:21:02.825647Z"
    }
   },
   "cell_type": "code",
   "source": [
    "merged_df2 = merged_df2[merged_df2['ca_sequence'] != merged_df2['my_sequence']]\n",
    "#merged_df2_buckets = merged_df2.groupby(['b_score']).size().reset_index(name='Count')\n",
    "#merged_df2_buckets\n",
    "merged_df2[(merged_df2['my_length'] <= 180) & (merged_df2['my_length'] >= 150)].sort_values('my_length', ascending=False)\n"
   ],
   "outputs": [
    {
     "data": {
      "text/plain": [
       "             BOLD ID_x        Read ID  Country_x          Phylum_x  \\\n",
       "1521988  >BOLD:ACV9239   SSROC6257-15     Canada  tax=p:Arthropoda   \n",
       "1297077  >BOLD:ACI9027   GMNWL2095-14     Norway  tax=p:Arthropoda   \n",
       "360634   >BOLD:AAN8044   GMOPK1306-15     Canada  tax=p:Arthropoda   \n",
       "364505   >BOLD:AAN8044   SMTPR5330-16     Canada  tax=p:Arthropoda   \n",
       "1855469  >BOLD:ADH0609    AUCET476-13  Australia  tax=p:Arthropoda   \n",
       "...                ...            ...        ...               ...   \n",
       "267500   >BOLD:AAG2890   SSWLA1022-13     Canada  tax=p:Arthropoda   \n",
       "712954   >BOLD:AAD3466  DRYAS18245-15    Finland  tax=p:Arthropoda   \n",
       "760444   >BOLD:ACB8275   AMTPA1721-15    Germany  tax=p:Arthropoda   \n",
       "1696937  >BOLD:AAN8184   RRSSC1533-15     Canada  tax=p:Arthropoda   \n",
       "903311   >BOLD:AAA8336  GBCMD31079-19  Australia  tax=p:Arthropoda   \n",
       "\n",
       "                Class_x        Order_x        Family_x         Genus_x  \\\n",
       "1521988       c:Insecta  o:Hymenoptera    f:Pompilidae  g:Arachnospila   \n",
       "1297077       c:Insecta  o:Hymenoptera  f:Pteromalidae   g:Pachyneuron   \n",
       "360634        c:Insecta  o:Hymenoptera     f:Mymaridae       g:Anagrus   \n",
       "364505        c:Insecta  o:Hymenoptera     f:Mymaridae       g:Anagrus   \n",
       "1855469       c:Insecta   o:Coleoptera  f:Scarabaeidae     g:Eupoecila   \n",
       "...                 ...            ...             ...             ...   \n",
       "267500        c:Insecta    o:Hemiptera  f:Cicadellidae   g:Populicerus   \n",
       "712954        c:Insecta      o:Diptera    f:Simuliidae   g:Metacnephia   \n",
       "760444        c:Insecta  o:Hymenoptera  f:Pteromalidae   g:Mesopolobus   \n",
       "1696937       c:Insecta  o:Hymenoptera    f:Encyrtidae  g:Holcencyrtus   \n",
       "903311   c:Malacostraca     o:Decapoda       f:Atyidae       g:Paratya   \n",
       "\n",
       "                            Species_x  f_score  ... BOLD ID_y  Country_y  \\\n",
       "1521988  s:Arachnospila_michiganensis       52  ...   ACV9239     Canada   \n",
       "1297077   s:Pachyneuron_groenlandicum       52  ...   ACI9027     Norway   \n",
       "360634               s:Anagrus_daanei       52  ...   AAN8044     Canada   \n",
       "364505               s:Anagrus_daanei       52  ...   AAN8044     Canada   \n",
       "1855469        s:Eupoecila_evanescens       52  ...   ADH0609  Australia   \n",
       "...                               ...      ...  ...       ...        ...   \n",
       "267500      s:Populicerus_lachrymalis       52  ...   AAG2890     Canada   \n",
       "712954             s:Metacnephia_lyra       52  ...   AAD3466    Finland   \n",
       "760444         s:Mesopolobus_tibialis       52  ...   ACB8275    Germany   \n",
       "1696937         s:Holcencyrtus_dennoi       52  ...   AAN8184     Canada   \n",
       "903311        s:Paratya_australiensis       52  ...   AAA8336  Australia   \n",
       "\n",
       "           Phylum_y       Class_y      Order_y      Family_y       Genus_y  \\\n",
       "1521988  Arthropoda       Insecta  Hymenoptera    Pompilidae  Arachnospila   \n",
       "1297077  Arthropoda       Insecta  Hymenoptera  Pteromalidae   Pachyneuron   \n",
       "360634   Arthropoda       Insecta  Hymenoptera     Mymaridae       Anagrus   \n",
       "364505   Arthropoda       Insecta  Hymenoptera     Mymaridae       Anagrus   \n",
       "1855469  Arthropoda       Insecta   Coleoptera  Scarabaeidae     Eupoecila   \n",
       "...             ...           ...          ...           ...           ...   \n",
       "267500   Arthropoda       Insecta    Hemiptera  Cicadellidae   Populicerus   \n",
       "712954   Arthropoda       Insecta      Diptera    Simuliidae   Metacnephia   \n",
       "760444   Arthropoda       Insecta  Hymenoptera  Pteromalidae   Mesopolobus   \n",
       "1696937  Arthropoda       Insecta  Hymenoptera    Encyrtidae  Holcencyrtus   \n",
       "903311   Arthropoda  Malacostraca     Decapoda       Atyidae       Paratya   \n",
       "\n",
       "                          Species_y ca_length my_length  \n",
       "1521988  Arachnospila_michiganensis       199       180  \n",
       "1297077   Pachyneuron_groenlandicum       199       180  \n",
       "360634               Anagrus_daanei       199       180  \n",
       "364505               Anagrus_daanei       199       180  \n",
       "1855469        Eupoecila_evanescens       205       179  \n",
       "...                             ...       ...       ...  \n",
       "267500      Populicerus_lachrymalis       151       154  \n",
       "712954             Metacnephia_lyra       151       154  \n",
       "760444         Mesopolobus_tibialis       145       153  \n",
       "1696937         Holcencyrtus_dennoi       145       152  \n",
       "903311        Paratya_australiensis       144       150  \n",
       "\n",
       "[11272 rows x 29 columns]"
      ],
      "text/html": [
       "<div>\n",
       "<style scoped>\n",
       "    .dataframe tbody tr th:only-of-type {\n",
       "        vertical-align: middle;\n",
       "    }\n",
       "\n",
       "    .dataframe tbody tr th {\n",
       "        vertical-align: top;\n",
       "    }\n",
       "\n",
       "    .dataframe thead th {\n",
       "        text-align: right;\n",
       "    }\n",
       "</style>\n",
       "<table border=\"1\" class=\"dataframe\">\n",
       "  <thead>\n",
       "    <tr style=\"text-align: right;\">\n",
       "      <th></th>\n",
       "      <th>BOLD ID_x</th>\n",
       "      <th>Read ID</th>\n",
       "      <th>Country_x</th>\n",
       "      <th>Phylum_x</th>\n",
       "      <th>Class_x</th>\n",
       "      <th>Order_x</th>\n",
       "      <th>Family_x</th>\n",
       "      <th>Genus_x</th>\n",
       "      <th>Species_x</th>\n",
       "      <th>f_score</th>\n",
       "      <th>...</th>\n",
       "      <th>BOLD ID_y</th>\n",
       "      <th>Country_y</th>\n",
       "      <th>Phylum_y</th>\n",
       "      <th>Class_y</th>\n",
       "      <th>Order_y</th>\n",
       "      <th>Family_y</th>\n",
       "      <th>Genus_y</th>\n",
       "      <th>Species_y</th>\n",
       "      <th>ca_length</th>\n",
       "      <th>my_length</th>\n",
       "    </tr>\n",
       "  </thead>\n",
       "  <tbody>\n",
       "    <tr>\n",
       "      <th>1521988</th>\n",
       "      <td>&gt;BOLD:ACV9239</td>\n",
       "      <td>SSROC6257-15</td>\n",
       "      <td>Canada</td>\n",
       "      <td>tax=p:Arthropoda</td>\n",
       "      <td>c:Insecta</td>\n",
       "      <td>o:Hymenoptera</td>\n",
       "      <td>f:Pompilidae</td>\n",
       "      <td>g:Arachnospila</td>\n",
       "      <td>s:Arachnospila_michiganensis</td>\n",
       "      <td>52</td>\n",
       "      <td>...</td>\n",
       "      <td>ACV9239</td>\n",
       "      <td>Canada</td>\n",
       "      <td>Arthropoda</td>\n",
       "      <td>Insecta</td>\n",
       "      <td>Hymenoptera</td>\n",
       "      <td>Pompilidae</td>\n",
       "      <td>Arachnospila</td>\n",
       "      <td>Arachnospila_michiganensis</td>\n",
       "      <td>199</td>\n",
       "      <td>180</td>\n",
       "    </tr>\n",
       "    <tr>\n",
       "      <th>1297077</th>\n",
       "      <td>&gt;BOLD:ACI9027</td>\n",
       "      <td>GMNWL2095-14</td>\n",
       "      <td>Norway</td>\n",
       "      <td>tax=p:Arthropoda</td>\n",
       "      <td>c:Insecta</td>\n",
       "      <td>o:Hymenoptera</td>\n",
       "      <td>f:Pteromalidae</td>\n",
       "      <td>g:Pachyneuron</td>\n",
       "      <td>s:Pachyneuron_groenlandicum</td>\n",
       "      <td>52</td>\n",
       "      <td>...</td>\n",
       "      <td>ACI9027</td>\n",
       "      <td>Norway</td>\n",
       "      <td>Arthropoda</td>\n",
       "      <td>Insecta</td>\n",
       "      <td>Hymenoptera</td>\n",
       "      <td>Pteromalidae</td>\n",
       "      <td>Pachyneuron</td>\n",
       "      <td>Pachyneuron_groenlandicum</td>\n",
       "      <td>199</td>\n",
       "      <td>180</td>\n",
       "    </tr>\n",
       "    <tr>\n",
       "      <th>360634</th>\n",
       "      <td>&gt;BOLD:AAN8044</td>\n",
       "      <td>GMOPK1306-15</td>\n",
       "      <td>Canada</td>\n",
       "      <td>tax=p:Arthropoda</td>\n",
       "      <td>c:Insecta</td>\n",
       "      <td>o:Hymenoptera</td>\n",
       "      <td>f:Mymaridae</td>\n",
       "      <td>g:Anagrus</td>\n",
       "      <td>s:Anagrus_daanei</td>\n",
       "      <td>52</td>\n",
       "      <td>...</td>\n",
       "      <td>AAN8044</td>\n",
       "      <td>Canada</td>\n",
       "      <td>Arthropoda</td>\n",
       "      <td>Insecta</td>\n",
       "      <td>Hymenoptera</td>\n",
       "      <td>Mymaridae</td>\n",
       "      <td>Anagrus</td>\n",
       "      <td>Anagrus_daanei</td>\n",
       "      <td>199</td>\n",
       "      <td>180</td>\n",
       "    </tr>\n",
       "    <tr>\n",
       "      <th>364505</th>\n",
       "      <td>&gt;BOLD:AAN8044</td>\n",
       "      <td>SMTPR5330-16</td>\n",
       "      <td>Canada</td>\n",
       "      <td>tax=p:Arthropoda</td>\n",
       "      <td>c:Insecta</td>\n",
       "      <td>o:Hymenoptera</td>\n",
       "      <td>f:Mymaridae</td>\n",
       "      <td>g:Anagrus</td>\n",
       "      <td>s:Anagrus_daanei</td>\n",
       "      <td>52</td>\n",
       "      <td>...</td>\n",
       "      <td>AAN8044</td>\n",
       "      <td>Canada</td>\n",
       "      <td>Arthropoda</td>\n",
       "      <td>Insecta</td>\n",
       "      <td>Hymenoptera</td>\n",
       "      <td>Mymaridae</td>\n",
       "      <td>Anagrus</td>\n",
       "      <td>Anagrus_daanei</td>\n",
       "      <td>199</td>\n",
       "      <td>180</td>\n",
       "    </tr>\n",
       "    <tr>\n",
       "      <th>1855469</th>\n",
       "      <td>&gt;BOLD:ADH0609</td>\n",
       "      <td>AUCET476-13</td>\n",
       "      <td>Australia</td>\n",
       "      <td>tax=p:Arthropoda</td>\n",
       "      <td>c:Insecta</td>\n",
       "      <td>o:Coleoptera</td>\n",
       "      <td>f:Scarabaeidae</td>\n",
       "      <td>g:Eupoecila</td>\n",
       "      <td>s:Eupoecila_evanescens</td>\n",
       "      <td>52</td>\n",
       "      <td>...</td>\n",
       "      <td>ADH0609</td>\n",
       "      <td>Australia</td>\n",
       "      <td>Arthropoda</td>\n",
       "      <td>Insecta</td>\n",
       "      <td>Coleoptera</td>\n",
       "      <td>Scarabaeidae</td>\n",
       "      <td>Eupoecila</td>\n",
       "      <td>Eupoecila_evanescens</td>\n",
       "      <td>205</td>\n",
       "      <td>179</td>\n",
       "    </tr>\n",
       "    <tr>\n",
       "      <th>...</th>\n",
       "      <td>...</td>\n",
       "      <td>...</td>\n",
       "      <td>...</td>\n",
       "      <td>...</td>\n",
       "      <td>...</td>\n",
       "      <td>...</td>\n",
       "      <td>...</td>\n",
       "      <td>...</td>\n",
       "      <td>...</td>\n",
       "      <td>...</td>\n",
       "      <td>...</td>\n",
       "      <td>...</td>\n",
       "      <td>...</td>\n",
       "      <td>...</td>\n",
       "      <td>...</td>\n",
       "      <td>...</td>\n",
       "      <td>...</td>\n",
       "      <td>...</td>\n",
       "      <td>...</td>\n",
       "      <td>...</td>\n",
       "      <td>...</td>\n",
       "    </tr>\n",
       "    <tr>\n",
       "      <th>267500</th>\n",
       "      <td>&gt;BOLD:AAG2890</td>\n",
       "      <td>SSWLA1022-13</td>\n",
       "      <td>Canada</td>\n",
       "      <td>tax=p:Arthropoda</td>\n",
       "      <td>c:Insecta</td>\n",
       "      <td>o:Hemiptera</td>\n",
       "      <td>f:Cicadellidae</td>\n",
       "      <td>g:Populicerus</td>\n",
       "      <td>s:Populicerus_lachrymalis</td>\n",
       "      <td>52</td>\n",
       "      <td>...</td>\n",
       "      <td>AAG2890</td>\n",
       "      <td>Canada</td>\n",
       "      <td>Arthropoda</td>\n",
       "      <td>Insecta</td>\n",
       "      <td>Hemiptera</td>\n",
       "      <td>Cicadellidae</td>\n",
       "      <td>Populicerus</td>\n",
       "      <td>Populicerus_lachrymalis</td>\n",
       "      <td>151</td>\n",
       "      <td>154</td>\n",
       "    </tr>\n",
       "    <tr>\n",
       "      <th>712954</th>\n",
       "      <td>&gt;BOLD:AAD3466</td>\n",
       "      <td>DRYAS18245-15</td>\n",
       "      <td>Finland</td>\n",
       "      <td>tax=p:Arthropoda</td>\n",
       "      <td>c:Insecta</td>\n",
       "      <td>o:Diptera</td>\n",
       "      <td>f:Simuliidae</td>\n",
       "      <td>g:Metacnephia</td>\n",
       "      <td>s:Metacnephia_lyra</td>\n",
       "      <td>52</td>\n",
       "      <td>...</td>\n",
       "      <td>AAD3466</td>\n",
       "      <td>Finland</td>\n",
       "      <td>Arthropoda</td>\n",
       "      <td>Insecta</td>\n",
       "      <td>Diptera</td>\n",
       "      <td>Simuliidae</td>\n",
       "      <td>Metacnephia</td>\n",
       "      <td>Metacnephia_lyra</td>\n",
       "      <td>151</td>\n",
       "      <td>154</td>\n",
       "    </tr>\n",
       "    <tr>\n",
       "      <th>760444</th>\n",
       "      <td>&gt;BOLD:ACB8275</td>\n",
       "      <td>AMTPA1721-15</td>\n",
       "      <td>Germany</td>\n",
       "      <td>tax=p:Arthropoda</td>\n",
       "      <td>c:Insecta</td>\n",
       "      <td>o:Hymenoptera</td>\n",
       "      <td>f:Pteromalidae</td>\n",
       "      <td>g:Mesopolobus</td>\n",
       "      <td>s:Mesopolobus_tibialis</td>\n",
       "      <td>52</td>\n",
       "      <td>...</td>\n",
       "      <td>ACB8275</td>\n",
       "      <td>Germany</td>\n",
       "      <td>Arthropoda</td>\n",
       "      <td>Insecta</td>\n",
       "      <td>Hymenoptera</td>\n",
       "      <td>Pteromalidae</td>\n",
       "      <td>Mesopolobus</td>\n",
       "      <td>Mesopolobus_tibialis</td>\n",
       "      <td>145</td>\n",
       "      <td>153</td>\n",
       "    </tr>\n",
       "    <tr>\n",
       "      <th>1696937</th>\n",
       "      <td>&gt;BOLD:AAN8184</td>\n",
       "      <td>RRSSC1533-15</td>\n",
       "      <td>Canada</td>\n",
       "      <td>tax=p:Arthropoda</td>\n",
       "      <td>c:Insecta</td>\n",
       "      <td>o:Hymenoptera</td>\n",
       "      <td>f:Encyrtidae</td>\n",
       "      <td>g:Holcencyrtus</td>\n",
       "      <td>s:Holcencyrtus_dennoi</td>\n",
       "      <td>52</td>\n",
       "      <td>...</td>\n",
       "      <td>AAN8184</td>\n",
       "      <td>Canada</td>\n",
       "      <td>Arthropoda</td>\n",
       "      <td>Insecta</td>\n",
       "      <td>Hymenoptera</td>\n",
       "      <td>Encyrtidae</td>\n",
       "      <td>Holcencyrtus</td>\n",
       "      <td>Holcencyrtus_dennoi</td>\n",
       "      <td>145</td>\n",
       "      <td>152</td>\n",
       "    </tr>\n",
       "    <tr>\n",
       "      <th>903311</th>\n",
       "      <td>&gt;BOLD:AAA8336</td>\n",
       "      <td>GBCMD31079-19</td>\n",
       "      <td>Australia</td>\n",
       "      <td>tax=p:Arthropoda</td>\n",
       "      <td>c:Malacostraca</td>\n",
       "      <td>o:Decapoda</td>\n",
       "      <td>f:Atyidae</td>\n",
       "      <td>g:Paratya</td>\n",
       "      <td>s:Paratya_australiensis</td>\n",
       "      <td>52</td>\n",
       "      <td>...</td>\n",
       "      <td>AAA8336</td>\n",
       "      <td>Australia</td>\n",
       "      <td>Arthropoda</td>\n",
       "      <td>Malacostraca</td>\n",
       "      <td>Decapoda</td>\n",
       "      <td>Atyidae</td>\n",
       "      <td>Paratya</td>\n",
       "      <td>Paratya_australiensis</td>\n",
       "      <td>144</td>\n",
       "      <td>150</td>\n",
       "    </tr>\n",
       "  </tbody>\n",
       "</table>\n",
       "<p>11272 rows × 29 columns</p>\n",
       "</div>"
      ]
     },
     "execution_count": 31,
     "metadata": {},
     "output_type": "execute_result"
    }
   ],
   "execution_count": 31
  },
  {
   "metadata": {},
   "cell_type": "code",
   "outputs": [],
   "execution_count": null,
   "source": ""
  }
 ],
 "metadata": {
  "kernelspec": {
   "display_name": "Python 3",
   "language": "python",
   "name": "python3"
  },
  "language_info": {
   "codemirror_mode": {
    "name": "ipython",
    "version": 2
   },
   "file_extension": ".py",
   "mimetype": "text/x-python",
   "name": "python",
   "nbconvert_exporter": "python",
   "pygments_lexer": "ipython2",
   "version": "2.7.6"
  }
 },
 "nbformat": 4,
 "nbformat_minor": 0
}
