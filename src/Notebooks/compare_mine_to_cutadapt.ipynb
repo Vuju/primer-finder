{
 "cells": [
  {
   "cell_type": "markdown",
   "source": [
    "# Definitions"
   ],
   "metadata": {
    "collapsed": false
   }
  },
  {
   "cell_type": "code",
   "metadata": {
    "collapsed": true,
    "ExecuteTime": {
     "end_time": "2025-01-30T14:27:10.483713Z",
     "start_time": "2025-01-30T14:27:07.340391Z"
    }
   },
   "source": [
    "import pandas as pd\n",
    "\n",
    "def fasta_to_dataframe(fasta_file):\n",
    "    headers = []\n",
    "    sequences = []\n",
    "    with open(fasta_file, 'r') as f:\n",
    "        current_sequence = []\n",
    "        current_header = None\n",
    "        for line in f:\n",
    "            line = line.strip()\n",
    "            if line.startswith('>'):  # Header line\n",
    "                if current_header is not None:\n",
    "                    # Save the previous sequence\n",
    "                    headers.append(current_header)\n",
    "                    sequences.append(''.join(current_sequence))\n",
    "                current_header = line[1:]  # Remove '>'\n",
    "                current_sequence = []\n",
    "            else:\n",
    "                current_sequence.append(line)\n",
    "        # Add the last sequence\n",
    "        if current_header is not None:\n",
    "            headers.append(current_header)\n",
    "            sequences.append(''.join(current_sequence))\n",
    "    # Create a DataFrame\n",
    "    return pd.DataFrame({'Header': headers, 'Sequence': sequences})"
   ],
   "outputs": [],
   "execution_count": 2
  },
  {
   "cell_type": "markdown",
   "source": "## Read and Format FASTA file",
   "metadata": {
    "collapsed": false
   }
  },
  {
   "cell_type": "code",
   "execution_count": 28,
   "outputs": [],
   "source": [
    "fasta_file = \"../data/DB.COX1.trimmed.fna\"\n",
    "cutadapt_result = fasta_to_dataframe(fasta_file)\n",
    "\n",
    "cutadapt_result[['BOLD_Metadata', 'Taxonomy']] = cutadapt_result['Header'].str.split(';', n=1, expand=True)\n",
    "cutadapt_result[['BOLD_ID', 'Specimen_ID', 'Country']] = cutadapt_result['BOLD_Metadata'].str.split('|', n=2, expand=True)\n",
    "cutadapt_result['BOLD_ID'] = cutadapt_result['BOLD_ID'].str.removeprefix('BOLD:')\n",
    "\n",
    "tax_columns = ['Phylum', 'Class', 'Order', 'Family', 'Genus', 'Species']\n",
    "cutadapt_result[tax_columns] = cutadapt_result['Taxonomy'].str.extract(\n",
    "    r'p:([^,]+),c:([^,]+),o:([^,]+),f:([^,]+),g:([^,]+),s:([^;]+)'\n",
    ")\n",
    "\n",
    "cutadapt_result = cutadapt_result.drop(columns=['Header', 'BOLD_Metadata', 'Taxonomy'])"
   ],
   "metadata": {
    "collapsed": false
   }
  },
  {
   "metadata": {},
   "cell_type": "markdown",
   "source": "## Reading my Result"
  },
  {
   "cell_type": "code",
   "source": [
    "my_result = pd.read_csv(\"../../data/current/primer-finder-fixed3.csv\", sep=\";\")\n",
    "\n",
    "my_result['f_index'] = my_result['f_index'].astype(int)\n",
    "my_result['b_index'] = my_result['b_index'].astype(int)\n",
    "my_result['f_match'] = my_result['f_match'].astype(str)\n",
    "\n",
    "my_result['region'] = my_result.apply(lambda x: x['read'][(x['f_index'] + len(x['f_match'])):x['b_index']], axis=1)\n",
    "my_result['region_length'] = my_result['region'].str.len()"
   ],
   "metadata": {
    "collapsed": false,
    "ExecuteTime": {
     "end_time": "2025-01-30T14:27:37.877810Z",
     "start_time": "2025-01-30T14:27:12.604403Z"
    }
   },
   "outputs": [
    {
     "name": "stdout",
     "output_type": "stream",
     "text": [
      "         BOLD ID       Read ID     Country            Phylum      Class  \\\n",
      "0  >BOLD:AAA7085  BLPDA1021-18  Costa_Rica  tax=p:Arthropoda  c:Insecta   \n",
      "1  >BOLD:AAA7085  MHMYN6354-14  Costa_Rica  tax=p:Arthropoda  c:Insecta   \n",
      "2  >BOLD:AAA7085   MHASB734-07  Costa_Rica  tax=p:Arthropoda  c:Insecta   \n",
      "3  >BOLD:AAA7085   MHATB310-06  Costa_Rica  tax=p:Arthropoda  c:Insecta   \n",
      "4  >BOLD:AAA7085  BLPAA6663-17  Costa_Rica  tax=p:Arthropoda  c:Insecta   \n",
      "\n",
      "           Order         Family      Genus                  Species  f_score  \\\n",
      "0  o:Lepidoptera  f:Saturniidae  g:Lonomia  s:Lonomia_santarosensis       49   \n",
      "1  o:Lepidoptera  f:Saturniidae  g:Lonomia  s:Lonomia_santarosensis       49   \n",
      "2  o:Lepidoptera  f:Saturniidae  g:Lonomia  s:Lonomia_santarosensis       49   \n",
      "3  o:Lepidoptera  f:Saturniidae  g:Lonomia  s:Lonomia_santarosensis       49   \n",
      "4  o:Lepidoptera  f:Saturniidae  g:Lonomia  s:Lonomia_santarosensis       49   \n",
      "\n",
      "                      f_match  f_index  b_score                  b_match  \\\n",
      "0  GGAACAGGATGAACGGTATACCCTCC      305       46  CCTGTTTTAGCAGGAGCTATTAC   \n",
      "1  GGAACAGGATGAACGGTATACCCTCC      319       46  CCTGTTTTAGCAGGAGCTATTAC   \n",
      "2  GGAACAGGATGAACGGTATACCCTCC      319       46  CCTGTTTTAGCAGGAGCTATTAC   \n",
      "3  GGAACAGGATGAACGGTATACCCTCC      319       46  CCTGTTTTAGCAGGAGCTATTAC   \n",
      "4  GGAACAGGATGAACGGTATACCCTCC      319       46  CCTGTTTTAGCAGGAGCTATTAC   \n",
      "\n",
      "   b_index                                               read  \n",
      "0      536  TCTTTGGAATTTGGGCAGGAATAGTAGGAACTTCTTTAAGTTTATT...  \n",
      "1      550  TACTTTATATTTTATCTTTGGAATTTGGGCAGGAATAGTAGGAACT...  \n",
      "2      550  TACTTTATATTTTATCTTTGGAATTTGGGCAGGAATAGTAGGAACT...  \n",
      "3      550  TACTTTATATTTTATCTTTGGAATTTGGGCAGGAATAGTAGGAACT...  \n",
      "4      550  TACTTTATATTTTATCTTTGGAATTTGGGCAGGAATAGTAGGAACT...  \n"
     ]
    }
   ],
   "execution_count": 3
  },
  {
   "metadata": {},
   "cell_type": "markdown",
   "source": [
    "## Compare Mine and Cutadapt\n",
    "* result of my perfect matches with cutadapt result\n",
    "* filter all which dont exist in cutadapt\n",
    "* what else?"
   ]
  },
  {
   "metadata": {},
   "cell_type": "code",
   "outputs": [],
   "execution_count": null,
   "source": ""
  }
 ],
 "metadata": {
  "kernelspec": {
   "display_name": "Python 3",
   "language": "python",
   "name": "python3"
  },
  "language_info": {
   "codemirror_mode": {
    "name": "ipython",
    "version": 2
   },
   "file_extension": ".py",
   "mimetype": "text/x-python",
   "name": "python",
   "nbconvert_exporter": "python",
   "pygments_lexer": "ipython2",
   "version": "2.7.6"
  }
 },
 "nbformat": 4,
 "nbformat_minor": 0
}
