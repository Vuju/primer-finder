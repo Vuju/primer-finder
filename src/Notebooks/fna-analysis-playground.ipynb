{
 "cells": [
  {
   "cell_type": "markdown",
   "source": [
    "# Definitions"
   ],
   "metadata": {
    "collapsed": false
   }
  },
  {
   "cell_type": "code",
   "execution_count": 2,
   "metadata": {
    "collapsed": true
   },
   "outputs": [],
   "source": [
    "import pandas as pd\n",
    "\n",
    "def fasta_to_dataframe(fasta_file):\n",
    "    headers = []\n",
    "    sequences = []\n",
    "    with open(fasta_file, 'r') as f:\n",
    "        current_sequence = []\n",
    "        current_header = None\n",
    "        for line in f:\n",
    "            line = line.strip()\n",
    "            if line.startswith('>'):  # Header line\n",
    "                if current_header is not None:\n",
    "                    # Save the previous sequence\n",
    "                    headers.append(current_header)\n",
    "                    sequences.append(''.join(current_sequence))\n",
    "                current_header = line[1:]  # Remove '>'\n",
    "                current_sequence = []\n",
    "            else:\n",
    "                current_sequence.append(line)\n",
    "        # Add the last sequence\n",
    "        if current_header is not None:\n",
    "            headers.append(current_header)\n",
    "            sequences.append(''.join(current_sequence))\n",
    "    # Create a DataFrame\n",
    "    return pd.DataFrame({'Header': headers, 'Sequence': sequences})"
   ]
  },
  {
   "cell_type": "code",
   "execution_count": 4,
   "outputs": [],
   "source": [
    "fasta_file = \"../../data/DB.COX1.fna\"\n",
    "df = fasta_to_dataframe(fasta_file)"
   ],
   "metadata": {
    "collapsed": false
   }
  },
  {
   "cell_type": "markdown",
   "source": [
    "## Clean Data Frame"
   ],
   "metadata": {
    "collapsed": false
   }
  },
  {
   "cell_type": "code",
   "execution_count": 28,
   "outputs": [],
   "source": [
    "df[['BOLD_Metadata', 'Taxonomy']] = df['Header'].str.split(';', n=1, expand=True)\n",
    "df[['BOLD_ID', 'Specimen_ID', 'Country']] = df['BOLD_Metadata'].str.split('|', n=2, expand=True)\n",
    "df['BOLD_ID'] = df['BOLD_ID'].str.removeprefix('BOLD:')\n",
    "\n",
    "tax_columns = ['Phylum', 'Class', 'Order', 'Family', 'Genus', 'Species']\n",
    "df[tax_columns] = df['Taxonomy'].str.extract(\n",
    "    r'p:([^,]+),c:([^,]+),o:([^,]+),f:([^,]+),g:([^,]+),s:([^;]+)'\n",
    ")\n",
    "\n",
    "df = df.drop(columns=['Header', 'BOLD_Metadata', 'Taxonomy'])"
   ],
   "metadata": {
    "collapsed": false
   }
  },
  {
   "cell_type": "code",
   "execution_count": 30,
   "outputs": [
    {
     "name": "stdout",
     "output_type": "stream",
     "text": [
      "                                            Sequence  BOLD_ID   Specimen_ID  \\\n",
      "0  TCTTTGGAATTTGGGCAGGAATAGTAGGAACTTCTTTAAGTTTATT...  AAA7085  BLPDA1021-18   \n",
      "1  TACTTTATATTTTATCTTTGGAATTTGGGCAGGAATAGTAGGAACT...  AAA7085  MHMYN6354-14   \n",
      "2  TACTTTATATTTTATCTTTGGAATTTGGGCAGGAATAGTAGGAACT...  AAA7085   MHASB734-07   \n",
      "3  TACTTTATATTTTATCTTTGGAATTTGGGCAGGAATAGTAGGAACT...  AAA7085   MHATB310-06   \n",
      "4  TACTTTATATTTTATCTTTGGAATTTGGGCAGGAATAGTAGGAACT...  AAA7085  BLPAA6663-17   \n",
      "\n",
      "      Country      Phylum    Class        Order       Family    Genus  \\\n",
      "0  Costa_Rica  Arthropoda  Insecta  Lepidoptera  Saturniidae  Lonomia   \n",
      "1  Costa_Rica  Arthropoda  Insecta  Lepidoptera  Saturniidae  Lonomia   \n",
      "2  Costa_Rica  Arthropoda  Insecta  Lepidoptera  Saturniidae  Lonomia   \n",
      "3  Costa_Rica  Arthropoda  Insecta  Lepidoptera  Saturniidae  Lonomia   \n",
      "4  Costa_Rica  Arthropoda  Insecta  Lepidoptera  Saturniidae  Lonomia   \n",
      "\n",
      "                 Species  \n",
      "0  Lonomia_santarosensis  \n",
      "1  Lonomia_santarosensis  \n",
      "2  Lonomia_santarosensis  \n",
      "3  Lonomia_santarosensis  \n",
      "4  Lonomia_santarosensis  \n"
     ]
    }
   ],
   "source": [
    "print(df.head())"
   ],
   "metadata": {
    "collapsed": false
   }
  }
 ],
 "metadata": {
  "kernelspec": {
   "display_name": "Python 3",
   "language": "python",
   "name": "python3"
  },
  "language_info": {
   "codemirror_mode": {
    "name": "ipython",
    "version": 2
   },
   "file_extension": ".py",
   "mimetype": "text/x-python",
   "name": "python",
   "nbconvert_exporter": "python",
   "pygments_lexer": "ipython2",
   "version": "2.7.6"
  }
 },
 "nbformat": 4,
 "nbformat_minor": 0
}
