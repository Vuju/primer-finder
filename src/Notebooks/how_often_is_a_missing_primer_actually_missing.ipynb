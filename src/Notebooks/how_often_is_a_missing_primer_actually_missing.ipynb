{
 "cells": [
  {
   "cell_type": "code",
   "id": "initial_id",
   "metadata": {
    "collapsed": true,
    "ExecuteTime": {
     "end_time": "2025-01-30T12:15:51.421205Z",
     "start_time": "2025-01-30T12:15:26.257937Z"
    }
   },
   "source": [
    "import pandas as pd\n",
    "\n",
    "df = pd.read_csv(\"../../data/current/primer-finder-fixed3.csv\", sep=\";\")\n",
    "total_count = df.shape[0]"
   ],
   "outputs": [],
   "execution_count": 21
  },
  {
   "metadata": {},
   "cell_type": "markdown",
   "source": "# Init",
   "id": "2f67f1f8769a29c4"
  },
  {
   "metadata": {
    "ExecuteTime": {
     "end_time": "2025-01-30T12:15:53.711296Z",
     "start_time": "2025-01-30T12:15:53.211720Z"
    }
   },
   "cell_type": "code",
   "source": [
    "df['distance'] = df['b_index'] - df['f_index']\n",
    "imperfect_matches = df[~((df['f_score'] == 52) & (df['b_score'] == 46))]\n",
    "imperfect_count = imperfect_matches.shape[0]"
   ],
   "id": "cf231eebd3e3a41b",
   "outputs": [],
   "execution_count": 22
  },
  {
   "metadata": {},
   "cell_type": "markdown",
   "source": "# Imperfect matches",
   "id": "4a592c924f4d67c7"
  },
  {
   "metadata": {
    "ExecuteTime": {
     "end_time": "2025-01-30T12:15:57.308856Z",
     "start_time": "2025-01-30T12:15:57.180916Z"
    }
   },
   "cell_type": "code",
   "source": [
    "distance_counts = imperfect_matches.groupby(['distance']).size().reset_index(name='Count')\n",
    "distance_counts.sort_values(by=['Count'], ascending=[False])\n",
    "\n",
    "wrong_distance_matches = imperfect_matches[~((imperfect_matches['distance'] < 238) & (224 < imperfect_matches['distance']))]\n",
    "wrong_distance_count = wrong_distance_matches.shape[0]\n",
    "correct_distance_count = imperfect_count - wrong_distance_count\n",
    "\n",
    "score_counts = wrong_distance_matches.groupby(['f_score', 'b_score']).size().reset_index(name='Count')\n",
    "score_counts.sort_values(by=['Count'], ascending=[False])\n"
   ],
   "id": "7fcf3a5326987bb5",
   "outputs": [
    {
     "data": {
      "text/plain": [
       "     f_score  b_score  Count\n",
       "480       52        0   7212\n",
       "499       52       22   7040\n",
       "500       52       23   5657\n",
       "501       52       24   5488\n",
       "415       49        0   5115\n",
       "..       ...      ...    ...\n",
       "6         23       26      1\n",
       "5         23       25      1\n",
       "4         23       22      1\n",
       "1         21       24      1\n",
       "3         23       20      1\n",
       "\n",
       "[520 rows x 3 columns]"
      ],
      "text/html": [
       "<div>\n",
       "<style scoped>\n",
       "    .dataframe tbody tr th:only-of-type {\n",
       "        vertical-align: middle;\n",
       "    }\n",
       "\n",
       "    .dataframe tbody tr th {\n",
       "        vertical-align: top;\n",
       "    }\n",
       "\n",
       "    .dataframe thead th {\n",
       "        text-align: right;\n",
       "    }\n",
       "</style>\n",
       "<table border=\"1\" class=\"dataframe\">\n",
       "  <thead>\n",
       "    <tr style=\"text-align: right;\">\n",
       "      <th></th>\n",
       "      <th>f_score</th>\n",
       "      <th>b_score</th>\n",
       "      <th>Count</th>\n",
       "    </tr>\n",
       "  </thead>\n",
       "  <tbody>\n",
       "    <tr>\n",
       "      <th>480</th>\n",
       "      <td>52</td>\n",
       "      <td>0</td>\n",
       "      <td>7212</td>\n",
       "    </tr>\n",
       "    <tr>\n",
       "      <th>499</th>\n",
       "      <td>52</td>\n",
       "      <td>22</td>\n",
       "      <td>7040</td>\n",
       "    </tr>\n",
       "    <tr>\n",
       "      <th>500</th>\n",
       "      <td>52</td>\n",
       "      <td>23</td>\n",
       "      <td>5657</td>\n",
       "    </tr>\n",
       "    <tr>\n",
       "      <th>501</th>\n",
       "      <td>52</td>\n",
       "      <td>24</td>\n",
       "      <td>5488</td>\n",
       "    </tr>\n",
       "    <tr>\n",
       "      <th>415</th>\n",
       "      <td>49</td>\n",
       "      <td>0</td>\n",
       "      <td>5115</td>\n",
       "    </tr>\n",
       "    <tr>\n",
       "      <th>...</th>\n",
       "      <td>...</td>\n",
       "      <td>...</td>\n",
       "      <td>...</td>\n",
       "    </tr>\n",
       "    <tr>\n",
       "      <th>6</th>\n",
       "      <td>23</td>\n",
       "      <td>26</td>\n",
       "      <td>1</td>\n",
       "    </tr>\n",
       "    <tr>\n",
       "      <th>5</th>\n",
       "      <td>23</td>\n",
       "      <td>25</td>\n",
       "      <td>1</td>\n",
       "    </tr>\n",
       "    <tr>\n",
       "      <th>4</th>\n",
       "      <td>23</td>\n",
       "      <td>22</td>\n",
       "      <td>1</td>\n",
       "    </tr>\n",
       "    <tr>\n",
       "      <th>1</th>\n",
       "      <td>21</td>\n",
       "      <td>24</td>\n",
       "      <td>1</td>\n",
       "    </tr>\n",
       "    <tr>\n",
       "      <th>3</th>\n",
       "      <td>23</td>\n",
       "      <td>20</td>\n",
       "      <td>1</td>\n",
       "    </tr>\n",
       "  </tbody>\n",
       "</table>\n",
       "<p>520 rows × 3 columns</p>\n",
       "</div>"
      ]
     },
     "execution_count": 24,
     "metadata": {},
     "output_type": "execute_result"
    }
   ],
   "execution_count": 24
  },
  {
   "metadata": {
    "ExecuteTime": {
     "end_time": "2025-01-30T12:16:00.834650Z",
     "start_time": "2025-01-30T12:16:00.821657Z"
    }
   },
   "cell_type": "code",
   "source": "score_counts.sort_values(by=['b_score'], ascending=[True])\n",
   "id": "8bc874bce8f923e9",
   "outputs": [
    {
     "data": {
      "text/plain": [
       "     f_score  b_score  Count\n",
       "340       46        0   2343\n",
       "298       44        0     63\n",
       "402       48        0     21\n",
       "322       45        0     20\n",
       "251       42        0     28\n",
       "..       ...      ...    ...\n",
       "90        29       46     17\n",
       "55        27       46     23\n",
       "39        26       46     75\n",
       "24        25       46      4\n",
       "0          0       46   2965\n",
       "\n",
       "[520 rows x 3 columns]"
      ],
      "text/html": [
       "<div>\n",
       "<style scoped>\n",
       "    .dataframe tbody tr th:only-of-type {\n",
       "        vertical-align: middle;\n",
       "    }\n",
       "\n",
       "    .dataframe tbody tr th {\n",
       "        vertical-align: top;\n",
       "    }\n",
       "\n",
       "    .dataframe thead th {\n",
       "        text-align: right;\n",
       "    }\n",
       "</style>\n",
       "<table border=\"1\" class=\"dataframe\">\n",
       "  <thead>\n",
       "    <tr style=\"text-align: right;\">\n",
       "      <th></th>\n",
       "      <th>f_score</th>\n",
       "      <th>b_score</th>\n",
       "      <th>Count</th>\n",
       "    </tr>\n",
       "  </thead>\n",
       "  <tbody>\n",
       "    <tr>\n",
       "      <th>340</th>\n",
       "      <td>46</td>\n",
       "      <td>0</td>\n",
       "      <td>2343</td>\n",
       "    </tr>\n",
       "    <tr>\n",
       "      <th>298</th>\n",
       "      <td>44</td>\n",
       "      <td>0</td>\n",
       "      <td>63</td>\n",
       "    </tr>\n",
       "    <tr>\n",
       "      <th>402</th>\n",
       "      <td>48</td>\n",
       "      <td>0</td>\n",
       "      <td>21</td>\n",
       "    </tr>\n",
       "    <tr>\n",
       "      <th>322</th>\n",
       "      <td>45</td>\n",
       "      <td>0</td>\n",
       "      <td>20</td>\n",
       "    </tr>\n",
       "    <tr>\n",
       "      <th>251</th>\n",
       "      <td>42</td>\n",
       "      <td>0</td>\n",
       "      <td>28</td>\n",
       "    </tr>\n",
       "    <tr>\n",
       "      <th>...</th>\n",
       "      <td>...</td>\n",
       "      <td>...</td>\n",
       "      <td>...</td>\n",
       "    </tr>\n",
       "    <tr>\n",
       "      <th>90</th>\n",
       "      <td>29</td>\n",
       "      <td>46</td>\n",
       "      <td>17</td>\n",
       "    </tr>\n",
       "    <tr>\n",
       "      <th>55</th>\n",
       "      <td>27</td>\n",
       "      <td>46</td>\n",
       "      <td>23</td>\n",
       "    </tr>\n",
       "    <tr>\n",
       "      <th>39</th>\n",
       "      <td>26</td>\n",
       "      <td>46</td>\n",
       "      <td>75</td>\n",
       "    </tr>\n",
       "    <tr>\n",
       "      <th>24</th>\n",
       "      <td>25</td>\n",
       "      <td>46</td>\n",
       "      <td>4</td>\n",
       "    </tr>\n",
       "    <tr>\n",
       "      <th>0</th>\n",
       "      <td>0</td>\n",
       "      <td>46</td>\n",
       "      <td>2965</td>\n",
       "    </tr>\n",
       "  </tbody>\n",
       "</table>\n",
       "<p>520 rows × 3 columns</p>\n",
       "</div>"
      ]
     },
     "execution_count": 25,
     "metadata": {},
     "output_type": "execute_result"
    }
   ],
   "execution_count": 25
  },
  {
   "metadata": {
    "ExecuteTime": {
     "end_time": "2025-01-30T12:16:04.136887Z",
     "start_time": "2025-01-30T12:16:04.128851Z"
    }
   },
   "cell_type": "code",
   "source": [
    "df_summed = score_counts.groupby('b_score', as_index=False)['Count'].sum()\n",
    "print(df_summed)"
   ],
   "id": "7ff68fba3ec1114e",
   "outputs": [
    {
     "name": "stdout",
     "output_type": "stream",
     "text": [
      "    b_score  Count\n",
      "0         0  15730\n",
      "1         2    293\n",
      "2         4    105\n",
      "3         6    197\n",
      "4         7      2\n",
      "5         8    870\n",
      "6         9     65\n",
      "7        10    177\n",
      "8        11     73\n",
      "9        12   1797\n",
      "10       13    283\n",
      "11       14   2327\n",
      "12       15    396\n",
      "13       16   1112\n",
      "14       17   1304\n",
      "15       18    910\n",
      "16       19   1880\n",
      "17       20   7708\n",
      "18       21   6552\n",
      "19       22  11915\n",
      "20       23   9301\n",
      "21       24   8750\n",
      "22       25   5404\n",
      "23       26   4902\n",
      "24       27   3653\n",
      "25       28   2005\n",
      "26       29   2511\n",
      "27       30   2861\n",
      "28       31   1401\n",
      "29       32    469\n",
      "30       33    630\n",
      "31       34    194\n",
      "32       35     52\n",
      "33       36     20\n",
      "34       37   2301\n",
      "35       38     12\n",
      "36       39     30\n",
      "37       40   6661\n",
      "38       41      2\n",
      "39       42      7\n",
      "40       43   3076\n",
      "41       44     26\n",
      "42       46   5640\n"
     ]
    }
   ],
   "execution_count": 26
  },
  {
   "metadata": {},
   "cell_type": "markdown",
   "source": "# Perfect matches",
   "id": "7898cdbf91edc1a4"
  },
  {
   "metadata": {},
   "cell_type": "code",
   "outputs": [],
   "execution_count": null,
   "source": [
    "perfect_matches = df[~((df['f_score'] != 52) & (df['b_score'] != 46))]\n",
    "perfect_count = perfect_matches.shape[0]\n",
    "\n",
    "distance_counts = perfect_matches.groupby(['distance']).size().reset_index(name='Count')\n",
    "distance_counts.sort_values(by=['Count'], ascending=[False])\n",
    "\n",
    "wrong_distance_perfect_matches = perfect_matches[~((perfect_matches['distance'] < 238) & (224 < perfect_matches['distance']))]\n",
    "wrong_distance_perfect_count = wrong_distance_perfect_matches.shape[0]"
   ],
   "id": "5d6dd1d54465f2c1"
  },
  {
   "metadata": {},
   "cell_type": "markdown",
   "source": "# Good distance, bad Values",
   "id": "1f74f47282ba87a1"
  },
  {
   "metadata": {
    "ExecuteTime": {
     "end_time": "2025-01-30T12:29:30.045316Z",
     "start_time": "2025-01-30T12:29:29.870661Z"
    }
   },
   "cell_type": "code",
   "source": [
    "good_distance = df[~((df['distance'] < 238) & (224 < df['distance']))]\n",
    "good_d_bad_m = good_distance[~((good_distance['f_score'] <= 41) & (good_distance['b_score'] != 38))]\n",
    "good_d_bad_m_count = good_d_bad_m.shape[0]"
   ],
   "id": "f17655eb0ef72a4f",
   "outputs": [],
   "execution_count": 37
  },
  {
   "metadata": {},
   "cell_type": "markdown",
   "source": "# Playground",
   "id": "48d2fd2073136931"
  },
  {
   "metadata": {
    "ExecuteTime": {
     "end_time": "2025-01-30T12:44:47.307166Z",
     "start_time": "2025-01-30T12:44:47.117625Z"
    }
   },
   "cell_type": "code",
   "source": [
    "# wrong_distance_perfect_matches.groupby(['distance']).size().reset_index(name='Count').sort_values(by=['Count'], ascending=[False])\n",
    "wrong_distance_perfect_matches.groupby(['Species']).size().reset_index(name='Count').sort_values(by=['Count'], ascending=[False])\n",
    "dp = df[~(df['Species'] != 's:Delia_platura')]\n",
    "print(dp.shape[0]/total_count)"
   ],
   "id": "4aafafc7233f6779",
   "outputs": [
    {
     "name": "stdout",
     "output_type": "stream",
     "text": [
      "0.006055475207826261\n"
     ]
    }
   ],
   "execution_count": 51
  },
  {
   "metadata": {},
   "cell_type": "markdown",
   "source": "# Summary",
   "id": "5a5664de104771b2"
  },
  {
   "metadata": {
    "ExecuteTime": {
     "end_time": "2025-01-30T12:36:32.344340Z",
     "start_time": "2025-01-30T12:36:32.337446Z"
    }
   },
   "cell_type": "code",
   "source": [
    "print(total_count)\n",
    "print(f'{imperfect_count}, {imperfect_count/total_count * 100}% of total')\n",
    "print(f'{wrong_distance_count}, {wrong_distance_count/total_count * 100}% of total, {wrong_distance_count/imperfect_count * 100}% of imperfect')\n",
    "print(f'{perfect_count}')\n",
    "print(f'{wrong_distance_perfect_count}')\n",
    "print(f'{correct_distance_count}')\n",
    "print(f'{good_d_bad_m_count}')"
   ],
   "id": "69959a47be67490b",
   "outputs": [
    {
     "name": "stdout",
     "output_type": "stream",
     "text": [
      "2381316\n",
      "1482755, 62.2662007058282% of total\n",
      "113604, 4.770639427946564% of total, 7.661683825041898% of imperfect\n",
      "1907822\n",
      "55100\n",
      "1369151\n",
      "98139\n"
     ]
    }
   ],
   "execution_count": 40
  }
 ],
 "metadata": {
  "kernelspec": {
   "display_name": "Python 3",
   "language": "python",
   "name": "python3"
  },
  "language_info": {
   "codemirror_mode": {
    "name": "ipython",
    "version": 2
   },
   "file_extension": ".py",
   "mimetype": "text/x-python",
   "name": "python",
   "nbconvert_exporter": "python",
   "pygments_lexer": "ipython2",
   "version": "2.7.6"
  }
 },
 "nbformat": 4,
 "nbformat_minor": 5
}
