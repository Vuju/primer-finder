{
 "cells": [
  {
   "cell_type": "code",
   "id": "initial_id",
   "metadata": {
    "collapsed": true,
    "ExecuteTime": {
     "end_time": "2025-01-25T17:47:17.123901Z",
     "start_time": "2025-01-25T17:46:26.250903Z"
    }
   },
   "source": [
    "import pandas as pd\n",
    "\n",
    "df = pd.read_csv(\"../../data/primer-finder-fixed2.csv\", sep=\";\")"
   ],
   "outputs": [],
   "execution_count": 16
  },
  {
   "metadata": {
    "ExecuteTime": {
     "end_time": "2025-01-25T17:16:26.397238Z",
     "start_time": "2025-01-25T17:16:26.207825Z"
    }
   },
   "cell_type": "code",
   "source": [
    "df['distance'] = df['b_index'] - df['f_index']\n",
    "imperfect_matches = df[~((df['f_score'] == 52) & (df['b_score'] == 46))]"
   ],
   "id": "cf231eebd3e3a41b",
   "outputs": [],
   "execution_count": 3
  },
  {
   "metadata": {
    "ExecuteTime": {
     "end_time": "2025-01-25T17:44:38.833903Z",
     "start_time": "2025-01-25T17:44:38.772904Z"
    }
   },
   "cell_type": "code",
   "source": [
    "distance_counts = imperfect_matches.groupby(['distance']).size().reset_index(name='Count')\n",
    "distance_counts.sort_values(by=['Count'], ascending=[False])\n",
    "\n",
    "wrong_distance_matches = imperfect_matches[~((imperfect_matches['distance'] < 238) & (224 < imperfect_matches['distance']))]\n",
    "\n",
    "score_counts = wrong_distance_matches.groupby(['f_score', 'b_score']).size().reset_index(name='Count')\n",
    "score_counts.sort_values(by=['Count'], ascending=[False])\n"
   ],
   "id": "7fcf3a5326987bb5",
   "outputs": [
    {
     "data": {
      "text/plain": [
       "     f_score  b_score  Count\n",
       "351       49       31  12130\n",
       "376       52        0   7212\n",
       "395       52       22   7040\n",
       "350       49       30   6535\n",
       "353       49       33   6046\n",
       "..       ...      ...    ...\n",
       "51        27       36      1\n",
       "23        25       32      1\n",
       "40        27       23      1\n",
       "26        26       21      1\n",
       "27        26       22      1\n",
       "\n",
       "[416 rows x 3 columns]"
      ],
      "text/html": [
       "<div>\n",
       "<style scoped>\n",
       "    .dataframe tbody tr th:only-of-type {\n",
       "        vertical-align: middle;\n",
       "    }\n",
       "\n",
       "    .dataframe tbody tr th {\n",
       "        vertical-align: top;\n",
       "    }\n",
       "\n",
       "    .dataframe thead th {\n",
       "        text-align: right;\n",
       "    }\n",
       "</style>\n",
       "<table border=\"1\" class=\"dataframe\">\n",
       "  <thead>\n",
       "    <tr style=\"text-align: right;\">\n",
       "      <th></th>\n",
       "      <th>f_score</th>\n",
       "      <th>b_score</th>\n",
       "      <th>Count</th>\n",
       "    </tr>\n",
       "  </thead>\n",
       "  <tbody>\n",
       "    <tr>\n",
       "      <th>351</th>\n",
       "      <td>49</td>\n",
       "      <td>31</td>\n",
       "      <td>12130</td>\n",
       "    </tr>\n",
       "    <tr>\n",
       "      <th>376</th>\n",
       "      <td>52</td>\n",
       "      <td>0</td>\n",
       "      <td>7212</td>\n",
       "    </tr>\n",
       "    <tr>\n",
       "      <th>395</th>\n",
       "      <td>52</td>\n",
       "      <td>22</td>\n",
       "      <td>7040</td>\n",
       "    </tr>\n",
       "    <tr>\n",
       "      <th>350</th>\n",
       "      <td>49</td>\n",
       "      <td>30</td>\n",
       "      <td>6535</td>\n",
       "    </tr>\n",
       "    <tr>\n",
       "      <th>353</th>\n",
       "      <td>49</td>\n",
       "      <td>33</td>\n",
       "      <td>6046</td>\n",
       "    </tr>\n",
       "    <tr>\n",
       "      <th>...</th>\n",
       "      <td>...</td>\n",
       "      <td>...</td>\n",
       "      <td>...</td>\n",
       "    </tr>\n",
       "    <tr>\n",
       "      <th>51</th>\n",
       "      <td>27</td>\n",
       "      <td>36</td>\n",
       "      <td>1</td>\n",
       "    </tr>\n",
       "    <tr>\n",
       "      <th>23</th>\n",
       "      <td>25</td>\n",
       "      <td>32</td>\n",
       "      <td>1</td>\n",
       "    </tr>\n",
       "    <tr>\n",
       "      <th>40</th>\n",
       "      <td>27</td>\n",
       "      <td>23</td>\n",
       "      <td>1</td>\n",
       "    </tr>\n",
       "    <tr>\n",
       "      <th>26</th>\n",
       "      <td>26</td>\n",
       "      <td>21</td>\n",
       "      <td>1</td>\n",
       "    </tr>\n",
       "    <tr>\n",
       "      <th>27</th>\n",
       "      <td>26</td>\n",
       "      <td>22</td>\n",
       "      <td>1</td>\n",
       "    </tr>\n",
       "  </tbody>\n",
       "</table>\n",
       "<p>416 rows × 3 columns</p>\n",
       "</div>"
      ]
     },
     "execution_count": 15,
     "metadata": {},
     "output_type": "execute_result"
    }
   ],
   "execution_count": 15
  },
  {
   "metadata": {},
   "cell_type": "markdown",
   "source": [
    "- number of entries\n",
    "- number of entries with imperfect matches\n",
    "- number of entries with correct distance\n",
    "- number of entries with perfect matches and incorrect distance?\n",
    "- number of bad entries with good distance but terrible scores\n",
    "    -   what is terrible?"
   ],
   "id": "8b955da503142cef"
  },
  {
   "metadata": {},
   "cell_type": "code",
   "outputs": [],
   "execution_count": null,
   "source": "",
   "id": "8bc874bce8f923e9"
  }
 ],
 "metadata": {
  "kernelspec": {
   "display_name": "Python 3",
   "language": "python",
   "name": "python3"
  },
  "language_info": {
   "codemirror_mode": {
    "name": "ipython",
    "version": 2
   },
   "file_extension": ".py",
   "mimetype": "text/x-python",
   "name": "python",
   "nbconvert_exporter": "python",
   "pygments_lexer": "ipython2",
   "version": "2.7.6"
  }
 },
 "nbformat": 4,
 "nbformat_minor": 5
}
