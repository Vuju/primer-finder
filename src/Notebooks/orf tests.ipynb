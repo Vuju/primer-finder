{
 "cells": [
  {
   "cell_type": "code",
   "id": "initial_id",
   "metadata": {
    "collapsed": true,
    "ExecuteTime": {
     "end_time": "2025-02-02T19:51:18.545945Z",
     "start_time": "2025-02-02T19:51:15.755712Z"
    }
   },
   "source": [
    "!pip install biopython\n",
    "from Bio.Seq import Seq\n",
    "\n",
    "# Your sequence\n",
    "dna = Seq(\"ACTTTCATCTAATATTGCTCATAACGGATCTTCTGTTGATTTAGCT\")\n",
    "\n",
    "# Translate using mitochondrial invertebrate code (table 5)\n",
    "for frame in range(3):\n",
    "    # Get sequence for this frame\n",
    "    framed_seq = dna[frame:]\n",
    "    # Translate using invertebrate mitochondrial code\n",
    "    protein = framed_seq.translate(table=5)\n",
    "    print(f\"Frame {frame+1}: {protein}, {'*' in protein}\")"
   ],
   "outputs": [
    {
     "name": "stdout",
     "output_type": "stream",
     "text": [
      "Requirement already satisfied: biopython in z:\\programs\\mambaforge\\envs\\ma\\lib\\site-packages (1.85)\n",
      "Requirement already satisfied: numpy in z:\\programs\\mambaforge\\envs\\ma\\lib\\site-packages (from biopython) (2.0.2)\n",
      "Frame 1: TFI*YCS*RIFCWFS, True\n",
      "Frame 2: LSSNIAHNGSSVDLA, False\n",
      "Frame 3: FHLMLLMTDLLLI*, True\n"
     ]
    }
   ],
   "execution_count": 5
  }
 ],
 "metadata": {
  "kernelspec": {
   "display_name": "Python 3",
   "language": "python",
   "name": "python3"
  },
  "language_info": {
   "codemirror_mode": {
    "name": "ipython",
    "version": 2
   },
   "file_extension": ".py",
   "mimetype": "text/x-python",
   "name": "python",
   "nbconvert_exporter": "python",
   "pygments_lexer": "ipython2",
   "version": "2.7.6"
  }
 },
 "nbformat": 4,
 "nbformat_minor": 5
}
