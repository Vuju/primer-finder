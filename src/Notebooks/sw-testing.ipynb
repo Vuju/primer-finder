{
 "cells": [
  {
   "cell_type": "code",
   "id": "initial_id",
   "metadata": {
    "collapsed": true,
    "ExecuteTime": {
     "end_time": "2025-04-12T11:11:29.920604Z",
     "start_time": "2025-04-12T11:11:29.917228Z"
    }
   },
   "source": [
    "p = \"ATTTA\"\n",
    "r = \"TACGTGACTGATT\"\n",
    "from src.smith_waterman import Smith_Waterman\n"
   ],
   "outputs": [],
   "execution_count": 2
  },
  {
   "metadata": {
    "ExecuteTime": {
     "end_time": "2025-04-12T11:12:11.458102Z",
     "start_time": "2025-04-12T11:12:11.107489Z"
    }
   },
   "cell_type": "code",
   "source": [
    "Smith_Waterman(\n",
    "    primer = p,\n",
    "    read = r,\n",
    "    end_of_read_bonus=(False, False),\n",
    ")\n"
   ],
   "id": "1b27b44d30ef4425",
   "outputs": [
    {
     "data": {
      "text/plain": [
       "(6, 'ATT', 'ATT', 10)"
      ]
     },
     "execution_count": 4,
     "metadata": {},
     "output_type": "execute_result"
    }
   ],
   "execution_count": 4
  }
 ],
 "metadata": {
  "kernelspec": {
   "display_name": "Python 3",
   "language": "python",
   "name": "python3"
  },
  "language_info": {
   "codemirror_mode": {
    "name": "ipython",
    "version": 2
   },
   "file_extension": ".py",
   "mimetype": "text/x-python",
   "name": "python",
   "nbconvert_exporter": "python",
   "pygments_lexer": "ipython2",
   "version": "2.7.6"
  }
 },
 "nbformat": 4,
 "nbformat_minor": 5
}
