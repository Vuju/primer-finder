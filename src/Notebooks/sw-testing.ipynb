{
 "cells": [
  {
   "cell_type": "code",
   "id": "initial_id",
   "metadata": {
    "collapsed": true,
    "ExecuteTime": {
     "end_time": "2025-04-02T15:10:56.610436Z",
     "start_time": "2025-04-02T15:10:56.582371Z"
    }
   },
   "source": [
    "p = \"ATTTA\"\n",
    "r = \"TACGTGACTGATT\"\n",
    "from src.smith_waterman import smith_waterman\n"
   ],
   "outputs": [],
   "execution_count": 1
  },
  {
   "metadata": {
    "ExecuteTime": {
     "end_time": "2025-04-02T15:10:56.634250Z",
     "start_time": "2025-04-02T15:10:56.621479Z"
    }
   },
   "cell_type": "code",
   "source": "smith_waterman(p,r)",
   "id": "1b27b44d30ef4425",
   "outputs": [
    {
     "name": "stdout",
     "output_type": "stream",
     "text": [
      "[0, 0, 0, 0, 0, 0, 0, 0, 0, 0, 0, 0, 0, 0, 0, 0]\n",
      "[0, 0, 0, 0, 0, 0, 0, 0, 0, 0, 0, 0, 0, 0, 0, 0]\n",
      "[0, 0, 0, 0, 0, 0, 0, 0, 0, 0, 0, 0, 0, 0, 0, 0]\n",
      "[1, 1, 1, 0, 2, 0, 0, 0, 0, 2, 0, 0, 0, 2, 0, 4]\n",
      "[2, 2, 2, 3, 1, 1, 1, 2, 0, 0, 1, 2, 0, 0, 4, 5]\n",
      "[3, 3, 3, 4, 2, 1, 2, 3, 1, 0, 1, 3, 1, 0, 2, 8]\n",
      "[4, 4, 4, 5, 3, 2, 3, 4, 2, 1, 2, 3, 2, 0, 2, 5]\n",
      "[5, 5, 5, 3, 7, 5, 3, 5, 3, 4, 3, 1, 2, 4, 2, 2]\n"
     ]
    },
    {
     "data": {
      "text/plain": [
       "(8, ['A', 'T', 'T'], ['A', 'T', 'T'], 10)"
      ]
     },
     "execution_count": 2,
     "metadata": {},
     "output_type": "execute_result"
    }
   ],
   "execution_count": 2
  }
 ],
 "metadata": {
  "kernelspec": {
   "display_name": "Python 3",
   "language": "python",
   "name": "python3"
  },
  "language_info": {
   "codemirror_mode": {
    "name": "ipython",
    "version": 2
   },
   "file_extension": ".py",
   "mimetype": "text/x-python",
   "name": "python",
   "nbconvert_exporter": "python",
   "pygments_lexer": "ipython2",
   "version": "2.7.6"
  }
 },
 "nbformat": 4,
 "nbformat_minor": 5
}
