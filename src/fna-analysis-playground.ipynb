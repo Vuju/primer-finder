{
 "cells": [
  {
   "cell_type": "code",
   "execution_count": 2,
   "metadata": {
    "collapsed": true
   },
   "outputs": [],
   "source": [
    "import pandas as pd\n",
    "\n",
    "def fasta_to_dataframe(fasta_file):\n",
    "    headers = []\n",
    "    sequences = []\n",
    "    with open(fasta_file, 'r') as f:\n",
    "        current_sequence = []\n",
    "        current_header = None\n",
    "        for line in f:\n",
    "            line = line.strip()\n",
    "            if line.startswith('>'):  # Header line\n",
    "                if current_header is not None:\n",
    "                    # Save the previous sequence\n",
    "                    headers.append(current_header)\n",
    "                    sequences.append(''.join(current_sequence))\n",
    "                current_header = line[1:]  # Remove '>'\n",
    "                current_sequence = []\n",
    "            else:\n",
    "                current_sequence.append(line)\n",
    "        # Add the last sequence\n",
    "        if current_header is not None:\n",
    "            headers.append(current_header)\n",
    "            sequences.append(''.join(current_sequence))\n",
    "    # Create a DataFrame\n",
    "    return pd.DataFrame({'Header': headers, 'Sequence': sequences})"
   ]
  },
  {
   "cell_type": "code",
   "execution_count": 4,
   "outputs": [],
   "source": [
    "fasta_file = \"../data/DB.COX1.fna\"\n",
    "df = fasta_to_dataframe(fasta_file)"
   ],
   "metadata": {
    "collapsed": false
   }
  },
  {
   "cell_type": "code",
   "execution_count": 12,
   "outputs": [
    {
     "name": "stdout",
     "output_type": "stream",
     "text": [
      "Number of headers containing o:Entomobryomorpha: 50398\n"
     ]
    }
   ],
   "source": [
    "search_term = 'o:Entomobryomorpha'\n",
    "\n",
    "count = df['Header'].str.contains(search_term).sum()\n",
    "print(f\"Number of headers containing {search_term}: {count}\")"
   ],
   "metadata": {
    "collapsed": false
   }
  }
 ],
 "metadata": {
  "kernelspec": {
   "display_name": "Python 3",
   "language": "python",
   "name": "python3"
  },
  "language_info": {
   "codemirror_mode": {
    "name": "ipython",
    "version": 2
   },
   "file_extension": ".py",
   "mimetype": "text/x-python",
   "name": "python",
   "nbconvert_exporter": "python",
   "pygments_lexer": "ipython2",
   "version": "2.7.6"
  }
 },
 "nbformat": 4,
 "nbformat_minor": 0
}
