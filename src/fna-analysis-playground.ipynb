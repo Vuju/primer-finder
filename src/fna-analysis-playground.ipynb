{
 "cells": [
  {
   "cell_type": "code",
   "metadata": {
    "collapsed": true,
    "ExecuteTime": {
     "end_time": "2025-01-13T18:42:06.608339Z",
     "start_time": "2025-01-13T18:42:06.575970Z"
    }
   },
   "source": [
    "import pandas as pd\n",
    "\n",
    "def fasta_to_dataframe(fasta_file):\n",
    "    headers = []\n",
    "    sequences = []\n",
    "    with open(fasta_file, 'r') as f:\n",
    "        current_sequence = []\n",
    "        current_header = None\n",
    "        for line in f:\n",
    "            line = line.strip()\n",
    "            if line.startswith('>'):  # Header line\n",
    "                if current_header is not None:\n",
    "                    # Save the previous sequence\n",
    "                    headers.append(current_header)\n",
    "                    sequences.append(''.join(current_sequence))\n",
    "                current_header = line[1:]  # Remove '>'\n",
    "                current_sequence = []\n",
    "            else:\n",
    "                current_sequence.append(line)\n",
    "        # Add the last sequence\n",
    "        if current_header is not None:\n",
    "            headers.append(current_header)\n",
    "            sequences.append(''.join(current_sequence))\n",
    "    # Create a DataFrame\n",
    "    return pd.DataFrame({'Header': headers, 'Sequence': sequences})"
   ],
   "outputs": [],
   "execution_count": 2
  },
  {
   "cell_type": "code",
   "source": [
    "fasta_file = \"../data/DB.COX1.fna\"\n",
    "df = fasta_to_dataframe(fasta_file)"
   ],
   "metadata": {
    "collapsed": false,
    "ExecuteTime": {
     "end_time": "2025-01-13T18:42:52.482170Z",
     "start_time": "2025-01-13T18:42:12.338654Z"
    }
   },
   "outputs": [],
   "execution_count": 3
  },
  {
   "cell_type": "code",
   "source": [
    "df[['BOLD_Metadata', 'Taxonomy']] = df['Header'].str.split(';', n=1, expand=True)\n",
    "df[['BOLD_ID', 'Specimen_ID', 'Country']] = df['BOLD_Metadata'].str.split('|', n=2, expand=True)\n",
    "\n",
    "tax_columns = ['Phylum', 'Class', 'Order', 'Family', 'Genus', 'Species']\n",
    "df[tax_columns] = df['Taxonomy'].str.extract(\n",
    "    r'p:([^,]+),c:([^,]+),o:([^,]+),f:([^,]+),g:([^,]+),s:([^;]+)'\n",
    ")\n",
    "\n",
    "df = df.drop(columns=['Header', 'BOLD_Metadata', 'Taxonomy'])\n",
    "\n"
   ],
   "metadata": {
    "collapsed": false,
    "ExecuteTime": {
     "end_time": "2025-01-13T18:45:16.280634Z",
     "start_time": "2025-01-13T18:44:54.926722Z"
    }
   },
   "outputs": [
    {
     "name": "stdout",
     "output_type": "stream",
     "text": [
      "                                            Sequence       BOLD_ID  \\\n",
      "0  TCTTTGGAATTTGGGCAGGAATAGTAGGAACTTCTTTAAGTTTATT...  BOLD:AAA7085   \n",
      "1  TACTTTATATTTTATCTTTGGAATTTGGGCAGGAATAGTAGGAACT...  BOLD:AAA7085   \n",
      "2  TACTTTATATTTTATCTTTGGAATTTGGGCAGGAATAGTAGGAACT...  BOLD:AAA7085   \n",
      "3  TACTTTATATTTTATCTTTGGAATTTGGGCAGGAATAGTAGGAACT...  BOLD:AAA7085   \n",
      "4  TACTTTATATTTTATCTTTGGAATTTGGGCAGGAATAGTAGGAACT...  BOLD:AAA7085   \n",
      "\n",
      "    Specimen_ID     Country      Phylum    Class        Order       Family  \\\n",
      "0  BLPDA1021-18  Costa_Rica  Arthropoda  Insecta  Lepidoptera  Saturniidae   \n",
      "1  MHMYN6354-14  Costa_Rica  Arthropoda  Insecta  Lepidoptera  Saturniidae   \n",
      "2   MHASB734-07  Costa_Rica  Arthropoda  Insecta  Lepidoptera  Saturniidae   \n",
      "3   MHATB310-06  Costa_Rica  Arthropoda  Insecta  Lepidoptera  Saturniidae   \n",
      "4  BLPAA6663-17  Costa_Rica  Arthropoda  Insecta  Lepidoptera  Saturniidae   \n",
      "\n",
      "     Genus                Species  \n",
      "0  Lonomia  Lonomia_santarosensis  \n",
      "1  Lonomia  Lonomia_santarosensis  \n",
      "2  Lonomia  Lonomia_santarosensis  \n",
      "3  Lonomia  Lonomia_santarosensis  \n",
      "4  Lonomia  Lonomia_santarosensis  \n"
     ]
    }
   ],
   "execution_count": 4
  },
  {
   "metadata": {
    "ExecuteTime": {
     "end_time": "2025-01-13T18:45:23.345869Z",
     "start_time": "2025-01-13T18:45:22.021454Z"
    }
   },
   "cell_type": "code",
   "source": [
    "df['BOLD_ID'] = df['BOLD_ID'].str.removeprefix('BOLD:')\n",
    "print(df.head())"
   ],
   "outputs": [
    {
     "name": "stdout",
     "output_type": "stream",
     "text": [
      "                                            Sequence  BOLD_ID   Specimen_ID  \\\n",
      "0  TCTTTGGAATTTGGGCAGGAATAGTAGGAACTTCTTTAAGTTTATT...  AAA7085  BLPDA1021-18   \n",
      "1  TACTTTATATTTTATCTTTGGAATTTGGGCAGGAATAGTAGGAACT...  AAA7085  MHMYN6354-14   \n",
      "2  TACTTTATATTTTATCTTTGGAATTTGGGCAGGAATAGTAGGAACT...  AAA7085   MHASB734-07   \n",
      "3  TACTTTATATTTTATCTTTGGAATTTGGGCAGGAATAGTAGGAACT...  AAA7085   MHATB310-06   \n",
      "4  TACTTTATATTTTATCTTTGGAATTTGGGCAGGAATAGTAGGAACT...  AAA7085  BLPAA6663-17   \n",
      "\n",
      "      Country      Phylum    Class        Order       Family    Genus  \\\n",
      "0  Costa_Rica  Arthropoda  Insecta  Lepidoptera  Saturniidae  Lonomia   \n",
      "1  Costa_Rica  Arthropoda  Insecta  Lepidoptera  Saturniidae  Lonomia   \n",
      "2  Costa_Rica  Arthropoda  Insecta  Lepidoptera  Saturniidae  Lonomia   \n",
      "3  Costa_Rica  Arthropoda  Insecta  Lepidoptera  Saturniidae  Lonomia   \n",
      "4  Costa_Rica  Arthropoda  Insecta  Lepidoptera  Saturniidae  Lonomia   \n",
      "\n",
      "                 Species  \n",
      "0  Lonomia_santarosensis  \n",
      "1  Lonomia_santarosensis  \n",
      "2  Lonomia_santarosensis  \n",
      "3  Lonomia_santarosensis  \n",
      "4  Lonomia_santarosensis  \n"
     ]
    }
   ],
   "execution_count": 5
  },
  {
   "metadata": {
    "ExecuteTime": {
     "end_time": "2025-01-13T18:46:19.203108Z",
     "start_time": "2025-01-13T18:46:18.742059Z"
    }
   },
   "cell_type": "code",
   "source": [
    "# Absolute frequency of each unique Order\n",
    "order_counts = df['Order'].value_counts()\n",
    "\n",
    "# Relative frequency (proportion) of each unique Order\n",
    "order_relative = df['Order'].value_counts(normalize=True)\n",
    "\n",
    "# Combine both into a single DataFrame for convenience\n",
    "order_stats = pd.DataFrame({\n",
    "    'Absolute Frequency': order_counts,\n",
    "    'Relative Frequency': order_relative\n",
    "})\n",
    "\n",
    "print(order_stats)"
   ],
   "outputs": [
    {
     "name": "stdout",
     "output_type": "stream",
     "text": [
      "                 Absolute Frequency  Relative Frequency\n",
      "Order                                                  \n",
      "Lepidoptera                  687953        2.889169e-01\n",
      "Diptera                      642639        2.698865e-01\n",
      "Hymenoptera                  242091        1.016700e-01\n",
      "Coleoptera                   197958        8.313563e-02\n",
      "Hemiptera                    127555        5.356877e-02\n",
      "...                             ...                 ...\n",
      "Diplura_order                     2        8.399320e-07\n",
      "Stygiomysida                      2        8.399320e-07\n",
      "Mystacocaridida                   1        4.199660e-07\n",
      "Platycopioida                     1        4.199660e-07\n",
      "Glomeridesmida                    1        4.199660e-07\n",
      "\n",
      "[122 rows x 2 columns]\n"
     ]
    }
   ],
   "execution_count": 6
  },
  {
   "metadata": {
    "ExecuteTime": {
     "end_time": "2025-01-13T19:04:22.150635Z",
     "start_time": "2025-01-13T19:04:22.140376Z"
    }
   },
   "cell_type": "code",
   "source": "(order_stats.shape)",
   "outputs": [
    {
     "data": {
      "text/plain": [
       "(122, 2)"
      ]
     },
     "execution_count": 9,
     "metadata": {},
     "output_type": "execute_result"
    }
   ],
   "execution_count": 9
  }
 ],
 "metadata": {
  "kernelspec": {
   "display_name": "Python 3",
   "language": "python",
   "name": "python3"
  },
  "language_info": {
   "codemirror_mode": {
    "name": "ipython",
    "version": 2
   },
   "file_extension": ".py",
   "mimetype": "text/x-python",
   "name": "python",
   "nbconvert_exporter": "python",
   "pygments_lexer": "ipython2",
   "version": "2.7.6"
  }
 },
 "nbformat": 4,
 "nbformat_minor": 0
}
